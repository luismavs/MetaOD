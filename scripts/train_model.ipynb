{
 "cells": [
  {
   "cell_type": "code",
   "execution_count": 97,
   "metadata": {},
   "outputs": [],
   "source": [
    "import os\n",
    "import sys\n",
    "import random"
   ]
  },
  {
   "cell_type": "code",
   "execution_count": 98,
   "metadata": {},
   "outputs": [],
   "source": [
    "import pandas as pd\n",
    "import numpy as np"
   ]
  },
  {
   "cell_type": "code",
   "execution_count": 99,
   "metadata": {},
   "outputs": [],
   "source": [
    "from joblib import dump\n",
    "from scipy.io import loadmat\n",
    "from pathlib import Path\n",
    "from dataclasses import dataclass\n",
    "from sklearn.preprocessing import MinMaxScaler\n",
    "from metaod.models.gen_meta_features import generate_meta_features\n",
    "from metaod.models.core import MetaODClass\n",
    "from metaod.models.utility import fix_nan"
   ]
  },
  {
   "cell_type": "code",
   "execution_count": 100,
   "metadata": {},
   "outputs": [],
   "source": [
    "@dataclass\n",
    "class Model:\n",
    "    name: str\n",
    "    type: str\n",
    "    pars: tuple\n",
    "\n",
    "@dataclass\n",
    "class Dataset:\n",
    "    name: str\n",
    "    path: str"
   ]
  },
  {
   "cell_type": "code",
   "execution_count": 101,
   "metadata": {},
   "outputs": [],
   "source": [
    "model_list = [Model('LODA (5, 10)', 'LODA', (5, 10)), Model('LOF (70, \"euclidean\")', 'LOF', (70, \"euclidean\"))]\n",
    "    \n",
    "data_list = [Dataset('Annthyroid', 'annthyroid.mat'), Dataset('Arrhythmia', 'arrhythmia.mat')]"
   ]
  },
  {
   "cell_type": "code",
   "execution_count": 102,
   "metadata": {},
   "outputs": [
    {
     "name": "stdout",
     "output_type": "stream",
     "text": [
      "         Data  LODA (5, 10)  LOF (70, 'euclidean')\n",
      "0  Annthyroid       0.11314                 0.0906\n",
      "1  Arrhythmia       0.09884                 0.0745\n"
     ]
    }
   ],
   "source": [
    "script_directory = os.path.dirname(os.path.abspath('__file__'))\n",
    "excel_file_path = os.path.join(script_directory, '..', 'data', 'performance_table.xlsx')\n",
    "perf_df = pd.read_excel(excel_file_path, sheet_name='AP')\n",
    "\n",
    "print(perf_df)"
   ]
  },
  {
   "cell_type": "code",
   "execution_count": 104,
   "metadata": {},
   "outputs": [
    {
     "name": "stdout",
     "output_type": "stream",
     "text": [
      "[['Annthyroid' 0.11314 0.0906]\n",
      " ['Arrhythmia' 0.09884 0.0745]]\n",
      "[[0.11314 0.0906 ]\n",
      " [0.09884 0.0745 ]]\n"
     ]
    }
   ],
   "source": [
    "perf_mat = perf_df.to_numpy()\n",
    "print(perf_mat)\n",
    "\n",
    "perf_mat_red = fix_nan(perf_mat[:, 1:].astype('float'))\n",
    "print(perf_mat_red)"
   ]
  },
  {
   "cell_type": "code",
   "execution_count": 108,
   "metadata": {},
   "outputs": [
    {
     "name": "stdout",
     "output_type": "stream",
     "text": [
      "num_datasets: 2 \n",
      "num_configs: 2\n"
     ]
    }
   ],
   "source": [
    "n_datasets, n_configs = perf_mat_red.shape[0], perf_mat_red.shape[1]\n",
    "print('num_datasets:', n_datasets, '\\nnum_configs:', n_configs)\n",
    "\n",
    "data_headers = perf_mat[:, 0]\n",
    "config_headers = perf_df.columns[4:]\n",
    "#dump(config_headers, 'model_list.joblib')  "
   ]
  },
  {
   "cell_type": "code",
   "execution_count": 109,
   "metadata": {},
   "outputs": [
    {
     "name": "stderr",
     "output_type": "stream",
     "text": [
      "/Users/ifgrdo/anaconda3/envs/metaOD/lib/python3.11/site-packages/metaod/models/gen_meta_features.py:119: RuntimeWarning: Precision loss occurred in moment calculation due to catastrophic cancellation. This occurs when the data are nearly identical. Results may be unreliable.\n",
      "  return_list.append(skew(x, nan_policy='omit')[0])\n",
      "/Users/ifgrdo/anaconda3/envs/metaOD/lib/python3.11/site-packages/metaod/models/gen_meta_features.py:122: RuntimeWarning: Precision loss occurred in moment calculation due to catastrophic cancellation. This occurs when the data are nearly identical. Results may be unreliable.\n",
      "  return_list.append(kurtosis(x, nan_policy='omit')[0])\n",
      "/Users/ifgrdo/anaconda3/envs/metaOD/lib/python3.11/site-packages/metaod/models/gen_meta_features.py:119: RuntimeWarning: Precision loss occurred in moment calculation due to catastrophic cancellation. This occurs when the data are nearly identical. Results may be unreliable.\n",
      "  return_list.append(skew(x, nan_policy='omit')[0])\n",
      "/Users/ifgrdo/anaconda3/envs/metaOD/lib/python3.11/site-packages/metaod/models/gen_meta_features.py:122: RuntimeWarning: Precision loss occurred in moment calculation due to catastrophic cancellation. This occurs when the data are nearly identical. Results may be unreliable.\n",
      "  return_list.append(kurtosis(x, nan_policy='omit')[0])\n",
      "/Users/ifgrdo/anaconda3/envs/metaOD/lib/python3.11/site-packages/metaod/models/gen_meta_features.py:119: RuntimeWarning: Precision loss occurred in moment calculation due to catastrophic cancellation. This occurs when the data are nearly identical. Results may be unreliable.\n",
      "  return_list.append(skew(x, nan_policy='omit')[0])\n",
      "/Users/ifgrdo/anaconda3/envs/metaOD/lib/python3.11/site-packages/metaod/models/gen_meta_features.py:122: RuntimeWarning: Precision loss occurred in moment calculation due to catastrophic cancellation. This occurs when the data are nearly identical. Results may be unreliable.\n",
      "  return_list.append(kurtosis(x, nan_policy='omit')[0])\n",
      "/Users/ifgrdo/anaconda3/envs/metaOD/lib/python3.11/site-packages/scipy/stats/_stats_py.py:4167: ConstantInputWarning: Each of the input arrays is constant;the F statistic is not defined or infinite\n",
      "  warnings.warn(stats.ConstantInputWarning(msg))\n",
      "/Users/ifgrdo/anaconda3/envs/metaOD/lib/python3.11/site-packages/metaod/models/gen_meta_features.py:119: RuntimeWarning: Precision loss occurred in moment calculation due to catastrophic cancellation. This occurs when the data are nearly identical. Results may be unreliable.\n",
      "  return_list.append(skew(x, nan_policy='omit')[0])\n",
      "/Users/ifgrdo/anaconda3/envs/metaOD/lib/python3.11/site-packages/metaod/models/gen_meta_features.py:122: RuntimeWarning: Precision loss occurred in moment calculation due to catastrophic cancellation. This occurs when the data are nearly identical. Results may be unreliable.\n",
      "  return_list.append(kurtosis(x, nan_policy='omit')[0])\n",
      "/Users/ifgrdo/anaconda3/envs/metaOD/lib/python3.11/site-packages/metaod/models/gen_meta_features.py:119: RuntimeWarning: Precision loss occurred in moment calculation due to catastrophic cancellation. This occurs when the data are nearly identical. Results may be unreliable.\n",
      "  return_list.append(skew(x, nan_policy='omit')[0])\n",
      "/Users/ifgrdo/anaconda3/envs/metaOD/lib/python3.11/site-packages/metaod/models/gen_meta_features.py:122: RuntimeWarning: Precision loss occurred in moment calculation due to catastrophic cancellation. This occurs when the data are nearly identical. Results may be unreliable.\n",
      "  return_list.append(kurtosis(x, nan_policy='omit')[0])\n"
     ]
    }
   ],
   "source": [
    "meta_mat = np.zeros((n_datasets, 200))\n",
    "\n",
    "for index, dataset in enumerate(data_list):\n",
    "    mat = loadmat('../data/' + dataset.path)\n",
    "    X = mat['X']\n",
    "    meta_mat[index, :], meta_vec_names = generate_meta_features(X)"
   ]
  },
  {
   "cell_type": "code",
   "execution_count": 110,
   "metadata": {},
   "outputs": [
    {
     "name": "stdout",
     "output_type": "stream",
     "text": [
      "{'n_samples': 7200.0, 'n_features': 6.0, 'sample_mean': 0.14430651111111112, 'sample_median': 0.095, 'sample_var': 0.03669061941821191, 'sample_min': 0.0, 'sample_max': 0.97, 'sample_std': 0.19154795592282345, 'q1': 0.0, 'q25': 1e-05, 'q75': 3e-05, 'q99': 5e-05, 'iqr': 1.9999999999999998e-05, 'normalized_mean': 0.14876959908361972, 'normalized_median': 0.0979381443298969, 'sample_range': 0.97, 'sample_gini': 0.5989186931249482, 'med_abs_dev': 0.069, 'avg_abs_dev': 0.12864815667901233, 'quant_coeff_disp': 0.4999999999999999, 'coeff_var': 0.25425477433905513, 'percent_outliers_15iqr': 5.932916666666666, 'percent_outliers_3iqr': 5.913611111111111, 'percent_outliers_1_99': 5.932916666666666, 'percent_outliers_3std': 0.17888888888888888, 'has_outliers_15iqr': 1.0, 'has_outliers_3iqr': 1.0, 'has_outliers_1_99': 1.0, 'has_outliers_3std': 1.0, 'normality_p_min': 0.0, 'normality_p_max': 1.1941469202585856e-202, 'normality_p_mean': 1.9902448670976426e-203, 'normality_p_std': 0.0, 'normality_p_skewness': nan, 'normality_p_kurtosis': nan, 'is_normal_5_min': 1.0, 'is_normal_5_max': 1.0, 'is_normal_5_mean': 1.0, 'is_normal_5_std': 0.0, 'is_normal_5_skewness': nan, 'is_normal_5_kurtosis': nan, 'is_normal_1_min': 1.0, 'is_normal_1_max': 1.0, 'is_normal_1_mean': 1.0, 'is_normal_1_std': 0.0, 'is_normal_1_skewness': nan, 'is_normal_1_kurtosis': nan, 'moment_5_min': -0.00026308531860555766, 'moment_5_max': 3.3280404433197035e-05, 'moment_5_mean': -3.441052208992061e-05, 'moment_5_std': 0.00010290115211295744, 'moment_5_skewness': -1.7383750091165298, 'moment_5_kurtosis': 1.1144148761654735, 'moment_6_min': 2.7606145360487063e-09, 'moment_6_max': 0.0002929368543743844, 'moment_6_mean': 5.31021665124245e-05, 'moment_6_std': 0.0001073895059860217, 'moment_6_skewness': 1.7790731494528464, 'moment_6_kurtosis': 1.182121588706309, 'moment_7_min': -4.838223813610721e-05, 'moment_7_max': 7.302815618963075e-06, 'moment_7_mean': -6.065385914629557e-06, 'moment_7_std': 1.9092248860250952e-05, 'moment_7_skewness': -1.7167650688611327, 'moment_7_kurtosis': 1.0797138810288747, 'moment_8_min': 6.41018458093051e-11, 'moment_8_max': 4.0559258272162706e-05, 'moment_8_mean': 7.713324538314077e-06, 'moment_8_std': 1.4738703287657945e-05, 'moment_8_skewness': 1.7623990140620907, 'moment_8_kurtosis': 1.151019290607481, 'moment_9_min': -9.758347449205942e-06, 'moment_9_max': 1.6686066289467502e-06, 'moment_9_mean': -1.1659076939515676e-06, 'moment_9_std': 3.8864794506856975e-06, 'moment_9_skewness': -1.696294462368915, 'moment_9_kurtosis': 1.046602900832446, 'moment_10_min': 9.778069975523483e-13, 'moment_10_max': 6.845524258364435e-06, 'moment_10_mean': 1.3653322408615445e-06, 'moment_10_std': 2.4670177014203566e-06, 'moment_10_skewness': 1.7376678950512672, 'moment_10_kurtosis': 1.1044155904008912, 'skewness_min': -0.21252805922345863, 'skewness_max': 14.522537791735905, 'skewness_mean': 3.8241372676023637, 'skewness_std': 4.914321575759337, 'skewness_skewness': 1.5816472165517228, 'skewness_kurtosis': 0.8412390155769458, 'kurtosis_min': -0.8764616707190691, 'kurtosis_max': 261.765008299574, 'kurtosis_mean': 57.56637415920514, 'kurtosis_std': 92.55630027284475, 'kurtosis_skewness': 1.6867251949875264, 'kurtosis_kurtosis': 1.006492482924652, 'correlation_min': -0.27707668603881996, 'correlation_max': 0.787510237962353, 'correlation_mean': 0.07004110439397454, 'correlation_std': 0.308669028929971, 'correlation_skewness': 0.8120946217285152, 'correlation_kurtosis': -0.37989569286390035, 'covariance_min': -0.0005828004327973795, 'covariance_max': 0.0010224857250659136, 'covariance_mean': -1.367432112510679e-05, 'covariance_std': 0.0003569992396712294, 'covariance_skewness': 1.2596035121251974, 'covariance_kurtosis': 2.3454311523490503, 'sparsity_min': 0.011805555555555555, 'sparsity_max': 0.06472222222222222, 'sparsity_mean': 0.03259259259259259, 'sparsity_std': 0.01878471865657984, 'sparsity_skewness': 0.4640666354924639, 'sparsity_kurtosis': -1.0995872123779264, 'anova_p_value_min': 0.0, 'anova_p_value_max': 3.027938967192575e-10, 'anova_p_value_mean': 2.0186259781283833e-11, 'anova_p_value_std': 7.553006802197838e-11, 'anova_p_value_skewness': 3.474396144861517, 'anova_p_value_kurtosis': 10.07142857142857, 'first_pca_std': 0.11056704054992914, 'first_pca_skewness': -0.7000098529531663, 'first_pca_kurtosis': -1.4999999999999993, 'entropy_min': 0.00045325283602860975, 'entropy_max': 0.0006924176332083118, 'entropy_mean': 0.0006091735319199238, 'entropy_std': 8.24590880590473e-05, 'entropy_skewness': -0.8235249354344447, 'entropy_kurtosis': -0.5714766617917242, 'HBOS_mean_min': 1.0416666666666667, 'HBOS_mean_max': 5.571030640668523, 'HBOS_mean_mean': 2.727310032078432, 'HBOS_mean_std': 1.7186905673114756, 'HBOS_mean_skewness': 0.7137766069986964, 'HBOS_mean_kurtosis': -1.278152842756988, 'HBOS_max_min': 1.977719907407408, 'HBOS_max_max': 36.11884865366759, 'HBOS_max_mean': 17.542263290011828, 'HBOS_max_std': 11.095427363534133, 'HBOS_max_skewness': 0.3359988274783752, 'HBOS_max_kurtosis': -0.9546101084481422, 'HBOS_min_min': 0.0, 'HBOS_min_max': 0.05642361111111111, 'HBOS_min_mean': 0.013690629286694107, 'HBOS_min_std': 0.021293781473866152, 'HBOS_min_skewness': 1.1999054376730693, 'HBOS_min_kurtosis': -0.16583050399810872, 'IForest_n_leaves_min': 18.0, 'IForest_n_leaves_max': 86.0, 'IForest_n_leaves_mean': 50.2, 'IForest_n_leaves_std': 16.584329953302305, 'IForest_n_leaves_skewness': 0.19300584403240642, 'IForest_n_leaves_kurtosis': -0.7675004847779721, 'IForest_n_depth_min': 8.0, 'IForest_n_depth_max': 8.0, 'IForest_n_depth_mean': 8.0, 'IForest_n_depth_std': 0.0, 'IForest_n_depth_skewness': nan, 'IForest_n_depth_kurtosis': nan, 'IForest_fi_mean_min': 0.16666666666666663, 'IForest_fi_mean_max': 0.1666666666666667, 'IForest_fi_mean_mean': 0.1666666666666667, 'IForest_fi_mean_std': 5.453105385130469e-17, 'IForest_fi_mean_skewness': nan, 'IForest_fi_mean_kurtosis': nan, 'IForest_fi_max_min': 0.19900007760446042, 'IForest_fi_max_max': 0.489870532796648, 'IForest_fi_max_mean': 0.3012842722503134, 'IForest_fi_max_std': 0.061633177698265235, 'IForest_fi_max_skewness': 1.000099009314103, 'IForest_fi_max_kurtosis': 1.0190234200118322, 'pca_expl_ratio_1': 0.3826153692965373, 'pca_expl_ratio_2': 0.23079250179578578, 'pca_expl_ratio_3': 0.15180969863436375, 'pca_sv_1': 128.56509617159088, 'pca_sv_2': 99.85106948640033, 'pca_sv_3': 80.98258443026201, 'LODA_n_hists_mean_min': 0.03925277777777786, 'LODA_n_hists_mean_max': 0.19960138888888873, 'LODA_n_hists_mean_mean': 0.10000000000000002, 'LODA_n_hists_mean_std': 0.04565122891855909, 'LODA_n_hists_mean_skewness': 0.7400952198782136, 'LODA_n_hists_mean_kurtosis': -0.1695599213440082, 'LODA_n_hists_max_min': 0.6358333333333327, 'LODA_n_hists_max_max': 0.9851388888888878, 'LODA_n_hists_max_mean': 0.8198472222222213, 'LODA_n_hists_max_std': 0.11763978174264329, 'LODA_n_hists_max_skewness': -0.1169200157874586, 'LODA_n_hists_max_kurtosis': -1.3123190427177076, 'LODA_n_cuts_mean_min': 0.09999999999999998, 'LODA_n_cuts_mean_max': 0.10000000000000002, 'LODA_n_cuts_mean_mean': 0.1, 'LODA_n_cuts_mean_std': 9.100274040305113e-18, 'LODA_n_cuts_mean_skewness': nan, 'LODA_n_cuts_mean_kurtosis': nan, 'LODA_n_cuts_max_min': 0.18541666666666656, 'LODA_n_cuts_max_max': 0.9851388888888878, 'LODA_n_cuts_max_mean': 0.5583499999999993, 'LODA_n_cuts_max_std': 0.23509532171697872, 'LODA_n_cuts_max_skewness': -0.2288759234515528, 'LODA_n_cuts_max_kurtosis': -1.006448307556426}\n",
      "{'n_samples': 452.0, 'n_features': 274.0, 'sample_mean': 10.125108197144884, 'sample_median': 0.0, 'sample_var': 1110.5044251304032, 'sample_min': -242.4, 'sample_max': 780.0, 'sample_std': 33.32423180105437, 'q1': -143.08392999999998, 'q25': -39.03825, 'q75': -25.2, 'q99': -21.7, 'iqr': 13.838249999999999, 'normalized_mean': 0.012980907945057544, 'normalized_median': 0.0, 'sample_range': 1022.4, 'sample_gini': 0.04079017365422492, 'med_abs_dev': 0.0, 'avg_abs_dev': 17.035481803009542, 'quant_coeff_disp': -0.21542071896416853, 'coeff_var': 109.67827735841355, 'percent_outliers_15iqr': 262.0553097345133, 'percent_outliers_3iqr': 49.54867256637168, 'percent_outliers_1_99': 271.28982300884957, 'percent_outliers_3std': 4.4402654867256635, 'has_outliers_15iqr': 1.0, 'has_outliers_3iqr': 1.0, 'has_outliers_1_99': 1.0, 'has_outliers_3std': 1.0, 'normality_p_min': 0.0, 'normality_p_max': 0.4223705830544068, 'normality_p_mean': 0.004113142026213961, 'normality_p_std': 0.034824498294081394, 'normality_p_skewness': 9.929364031924148, 'normality_p_kurtosis': 103.06426176508795, 'is_normal_5_min': 0.0, 'is_normal_5_max': 1.0, 'is_normal_5_mean': 0.9233576642335767, 'is_normal_5_std': 0.26602309699477256, 'is_normal_5_skewness': -3.1828639619355745, 'is_normal_5_kurtosis': 8.13062300018822, 'is_normal_1_min': 0.0, 'is_normal_1_max': 1.0, 'is_normal_1_mean': 0.916058394160584, 'is_normal_1_std': 0.27730022114761493, 'is_normal_1_skewness': -3.000779389491394, 'is_normal_1_kurtosis': 7.004676944396335, 'moment_5_min': -2482548686.199658, 'moment_5_max': 230007270370.01224, 'moment_5_mean': 900219317.5796413, 'moment_5_std': 13890464578.339153, 'moment_5_skewness': 16.37789317615888, 'moment_5_kurtosis': 267.1088562555876, 'moment_6_min': 0.0, 'moment_6_max': 134779059061001.73, 'moment_6_mean': 531150362530.7165, 'moment_6_std': 8134391956521.144, 'moment_6_skewness': 16.406763581835214, 'moment_6_kurtosis': 267.7575690831196, 'moment_7_min': -101736140257749.78, 'moment_7_max': 7.989861534569467e+16, 'moment_7_mean': 300244315720460.9, 'moment_7_std': 4819059201567131.0, 'moment_7_skewness': 16.44647955777861, 'moment_7_kurtosis': 268.65469906609013, 'moment_8_min': 0.0, 'moment_8_max': 4.779232575177879e+19, 'moment_8_mean': 1.781130921233695e+17, 'moment_8_std': 2.882129568389455e+18, 'moment_8_skewness': 16.45559100742419, 'moment_8_kurtosis': 268.8578613175457, 'moment_9_min': -5.089141874606488e+18, 'moment_9_max': 2.878305416941872e+22, 'moment_9_mean': 1.0619026900645664e+20, 'moment_9_std': 1.7356846343355976e+21, 'moment_9_skewness': 16.45985699490511, 'moment_9_kurtosis': 268.95234346287174, 'moment_10_min': 0.0, 'moment_10_max': 1.7423305407303532e+25, 'moment_10_mean': 6.402241181462781e+22, 'moment_10_std': 1.0506502725565552e+24, 'moment_10_skewness': 16.461308256518485, 'moment_10_kurtosis': 268.98432887700176, 'skewness_min': -21.1896724206605, 'skewness_max': 21.1896724206605, 'skewness_mean': 4.200419482040424, 'skewness_std': 7.931576910271617, 'skewness_skewness': 0.12409747390489115, 'skewness_kurtosis': 0.6804218137581226, 'kurtosis_min': -1.9581379706016175, 'kurtosis_max': 447.0022172949003, 'kurtosis_mean': 85.12221242579261, 'kurtosis_std': 126.70151098996618, 'kurtosis_skewness': 1.750900544402442, 'kurtosis_kurtosis': 2.0750973653804374, 'correlation_min': -1.0000000000000002, 'correlation_max': 0.9977687615606295, 'correlation_mean': 0.009543725301475516, 'correlation_std': 0.13983762872459193, 'correlation_skewness': 0.600219979899015, 'correlation_kurtosis': 8.901529176504797, 'covariance_min': -601.982300884956, 'covariance_max': 920.2515876714484, 'covariance_mean': 1.3636182274876638, 'covariance_std': 29.46367185361879, 'covariance_skewness': 5.443860319281678, 'covariance_kurtosis': 156.58178518681126, 'sparsity_min': 0.0022123893805309734, 'sparsity_max': 0.8495575221238938, 'sparsity_mean': 0.11794296234093406, 'sparsity_std': 0.19677236109359883, 'sparsity_skewness': 2.2529785280883883, 'sparsity_kurtosis': 4.047565480086847, 'anova_p_value_min': 0.0, 'anova_p_value_max': 1.0, 'anova_p_value_mean': 0.04846544057185725, 'anova_p_value_std': 0.15685784826117788, 'anova_p_value_skewness': 4.096398784161962, 'anova_p_value_kurtosis': 17.490481085917175, 'first_pca_std': 29.41965017623237, 'first_pca_skewness': -0.4643952444833386, 'first_pca_kurtosis': -1.5000000000000002, 'entropy_min': 0.0, 'entropy_max': 0.013046507125272461, 'entropy_mean': 0.004084301232256603, 'entropy_std': 0.004247113953992867, 'entropy_skewness': 0.6384465691099676, 'entropy_kurtosis': -0.9208465418906844, 'HBOS_mean_min': 0.0014814814814814816, 'HBOS_mean_max': 2.4999999999999973, 'HBOS_mean_mean': 0.3631931401304401, 'HBOS_mean_std': 0.4569413045739255, 'HBOS_mean_skewness': 0.9846058987254213, 'HBOS_mean_kurtosis': 0.11184431972278608, 'HBOS_max_min': 0.009035330676214282, 'HBOS_max_max': 24.944690265486702, 'HBOS_max_mean': 3.4507237296796256, 'HBOS_max_std': 4.595214646353108, 'HBOS_max_skewness': 1.0187356855297518, 'HBOS_max_kurtosis': 0.13832129719229336, 'HBOS_min_min': 0.0, 'HBOS_min_max': 0.008194034742707308, 'HBOS_min_mean': 0.00024501588952270117, 'HBOS_min_std': 0.0008758613856405196, 'HBOS_min_skewness': 6.287743894817479, 'HBOS_min_kurtosis': 45.528278990693686, 'IForest_n_leaves_min': 15.0, 'IForest_n_leaves_max': 71.0, 'IForest_n_leaves_mean': 36.72, 'IForest_n_leaves_std': 14.225385759268534, 'IForest_n_leaves_skewness': 0.6177174076868552, 'IForest_n_leaves_kurtosis': -0.47280379623588864, 'IForest_n_depth_min': 8.0, 'IForest_n_depth_max': 8.0, 'IForest_n_depth_mean': 8.0, 'IForest_n_depth_std': 0.0, 'IForest_n_depth_skewness': nan, 'IForest_n_depth_kurtosis': nan, 'IForest_fi_mean_min': 0.0036496350364963494, 'IForest_fi_mean_max': 0.003649635036496351, 'IForest_fi_mean_mean': 0.0036496350364963502, 'IForest_fi_mean_std': 3.1868905207277775e-19, 'IForest_fi_mean_skewness': nan, 'IForest_fi_mean_kurtosis': nan, 'IForest_fi_max_min': 0.07488184595834722, 'IForest_fi_max_max': 0.3265089175232874, 'IForest_fi_max_mean': 0.15067114642420182, 'IForest_fi_max_std': 0.05550179629866897, 'IForest_fi_max_skewness': 1.1234190873780616, 'IForest_fi_max_kurtosis': 0.9372216641385509, 'pca_expl_ratio_1': 0.07931055479782932, 'pca_expl_ratio_2': 0.07146410025130998, 'pca_expl_ratio_3': 0.052882293195671407, 'pca_sv_1': 95.98453671052984, 'pca_sv_2': 91.11287363261667, 'pca_sv_3': 78.37741196787488, 'LODA_n_hists_mean_min': 0.01269911504424972, 'LODA_n_hists_mean_max': 0.18962389380530775, 'LODA_n_hists_mean_mean': 0.09999999999999999, 'LODA_n_hists_mean_std': 0.06441182297644833, 'LODA_n_hists_mean_skewness': 0.11837244407553241, 'LODA_n_hists_mean_kurtosis': -1.5307640412696344, 'LODA_n_hists_max_min': 0.14601769911504323, 'LODA_n_hists_max_max': 0.8694690265486555, 'LODA_n_hists_max_mean': 0.6508849557522002, 'LODA_n_hists_max_std': 0.1963644827930716, 'LODA_n_hists_max_skewness': -1.4399879963918147, 'LODA_n_hists_max_kurtosis': 1.6844232540474096, 'LODA_n_cuts_mean_min': 0.09999999999999998, 'LODA_n_cuts_mean_max': 0.1, 'LODA_n_cuts_mean_mean': 0.09999999999999996, 'LODA_n_cuts_mean_std': 3.559862221219806e-17, 'LODA_n_cuts_mean_skewness': nan, 'LODA_n_cuts_mean_kurtosis': nan, 'LODA_n_cuts_max_min': 0.16814159292035247, 'LODA_n_cuts_max_max': 0.8694690265486555, 'LODA_n_cuts_max_mean': 0.42599557522123166, 'LODA_n_cuts_max_std': 0.14267608890164596, 'LODA_n_cuts_max_skewness': 0.9829344678660169, 'LODA_n_cuts_max_kurtosis': 0.5277113217651914}\n",
      "\n",
      "Num of NaN in dataset 1: 12 \n",
      "Num of NaN in dataset 2: 6 \n",
      "\n",
      "33 normality_p_skewness nan\n",
      "34 normality_p_kurtosis nan\n",
      "39 is_normal_5_skewness nan\n",
      "40 is_normal_5_kurtosis nan\n",
      "45 is_normal_1_skewness nan\n",
      "46 is_normal_1_kurtosis nan\n",
      "156 IForest_n_depth_skewness nan\n",
      "157 IForest_n_depth_kurtosis nan\n",
      "162 IForest_fi_mean_skewness nan\n",
      "163 IForest_fi_mean_kurtosis nan\n",
      "192 LODA_n_cuts_mean_skewness nan\n",
      "193 LODA_n_cuts_mean_kurtosis nan\n",
      "\n",
      "156 IForest_n_depth_skewness nan\n",
      "157 IForest_n_depth_kurtosis nan\n",
      "162 IForest_fi_mean_skewness nan\n",
      "163 IForest_fi_mean_kurtosis nan\n",
      "192 LODA_n_cuts_mean_skewness nan\n",
      "193 LODA_n_cuts_mean_kurtosis nan\n"
     ]
    }
   ],
   "source": [
    "dict_1, dict_2 = {}, {}\n",
    "\n",
    "for i, meta_feature in enumerate(meta_vec_names):\n",
    "    dict_1[meta_feature] = meta_mat[0, i]\n",
    "    dict_2[meta_feature] = meta_mat[1, i]\n",
    "\n",
    "print(dict_1)\n",
    "print(dict_2)\n",
    "\n",
    "nan1, nan2 = np.isnan(meta_mat[0, :]).sum(), np.isnan(meta_mat[1, :]).sum()\n",
    "\n",
    "print('\\nNum of NaN in dataset 1:', nan1, '\\nNum of NaN in dataset 2:', nan2, '\\n')\n",
    "\n",
    "indexes_1, indexes_2 = np.argwhere(np.isnan(meta_mat[0, :])), np.argwhere(np.isnan(meta_mat[1, :]))\n",
    "indexes_1, indexes_2 = [index[0] for index in indexes_1], [index[0] for index in indexes_2]\n",
    "\n",
    "for i, value in enumerate(meta_vec_names):\n",
    "    if i in indexes_1:\n",
    "        print(i, value, dict_1[value])\n",
    "\n",
    "print()\n",
    "\n",
    "for i, value in enumerate(meta_vec_names):\n",
    "    if i in indexes_2:\n",
    "        print(i, value, dict_2[value])"
   ]
  },
  {
   "cell_type": "code",
   "execution_count": 111,
   "metadata": {},
   "outputs": [
    {
     "name": "stderr",
     "output_type": "stream",
     "text": [
      "/Users/ifgrdo/anaconda3/envs/metaOD/lib/python3.11/site-packages/sklearn/preprocessing/_data.py:473: RuntimeWarning: All-NaN slice encountered\n",
      "  data_min = np.nanmin(X, axis=0)\n",
      "/Users/ifgrdo/anaconda3/envs/metaOD/lib/python3.11/site-packages/sklearn/preprocessing/_data.py:474: RuntimeWarning: All-NaN slice encountered\n",
      "  data_max = np.nanmax(X, axis=0)\n",
      "/Users/ifgrdo/anaconda3/envs/metaOD/lib/python3.11/site-packages/metaod/models/utility.py:19: RuntimeWarning: Mean of empty slice\n",
      "  col_mean = np.nanmean(X, axis = 0)\n"
     ]
    }
   ],
   "source": [
    "meta_scalar = MinMaxScaler()\n",
    "meta_mat_transformed = meta_scalar.fit_transform(meta_mat)\n",
    "meta_mat_transformed = fix_nan(meta_mat_transformed)\n",
    "#dump(meta_scalar, Path('results') / 'meta_scalar.joblib')"
   ]
  },
  {
   "cell_type": "code",
   "execution_count": 112,
   "metadata": {},
   "outputs": [
    {
     "name": "stdout",
     "output_type": "stream",
     "text": [
      "[0, 1]\n",
      "n_train: 1\n"
     ]
    }
   ],
   "source": [
    "seed = 0\n",
    "full_list = list(range(n_datasets))\n",
    "print(full_list)\n",
    "\n",
    "random.Random(seed).shuffle(full_list)\n",
    "n_train = int(0.85 * n_datasets)\n",
    "print('n_train:', n_train)"
   ]
  },
  {
   "cell_type": "code",
   "execution_count": 115,
   "metadata": {},
   "outputs": [
    {
     "name": "stdout",
     "output_type": "stream",
     "text": [
      "train_set:\n",
      " [[0.11314 0.0906 ]] \n",
      "valid_set:\n",
      " [[0.09884 0.0745 ]]\n"
     ]
    }
   ],
   "source": [
    "train_index = full_list[:n_train]\n",
    "valid_index = full_list[n_train:]\n",
    "\n",
    "train_set = perf_mat_red[train_index, :].astype('float64')\n",
    "valid_set = perf_mat_red[valid_index, :].astype('float64')\n",
    "print('train_set:\\n', train_set, '\\nvalid_set:\\n', valid_set)\n",
    "\n",
    "train_meta = meta_mat_transformed[train_index, :].astype('float64')\n",
    "valid_meta = meta_mat_transformed[valid_index, :].astype('float64')\n",
    "\n",
    "#deal with NaN values\n",
    "train_meta[np.isnan(train_meta)] = 0\n",
    "valid_meta[np.isnan(valid_meta)] = 0"
   ]
  },
  {
   "cell_type": "code",
   "execution_count": 116,
   "metadata": {},
   "outputs": [
    {
     "name": "stderr",
     "output_type": "stream",
     "text": [
      "/Users/ifgrdo/anaconda3/envs/metaOD/lib/python3.11/site-packages/sklearn/decomposition/_pca.py:543: RuntimeWarning: invalid value encountered in divide\n",
      "  explained_variance_ = (S**2) / (n_samples - 1)\n"
     ]
    },
    {
     "name": "stdout",
     "output_type": "stream",
     "text": [
      "MetaOD 1 train 0.9755762356213441 valid 0.9692028695917866 learning rate 0.1\n",
      "MetaOD 2 train 0.9999999999999999 valid 0.9999999999999998 learning rate 0.2142857142857143\n",
      "MetaOD 3 train 0.9999999999999999 valid 0.9999999999999998 learning rate 0.3285714285714286\n",
      "MetaOD 4 train 0.9999999999999999 valid 0.9999999999999998 learning rate 0.4428571428571429\n",
      "MetaOD 5 train 0.9999999999999999 valid 0.9999999999999998 learning rate 0.5571428571428572\n"
     ]
    },
    {
     "name": "stderr",
     "output_type": "stream",
     "text": [
      "/Users/ifgrdo/anaconda3/envs/metaOD/lib/python3.11/site-packages/metaod/models/core.py:179: RuntimeWarning: divide by zero encountered in scalar divide\n",
      "  if ((self.valid_loss_[-1] - self.valid_loss_[-2]) /\n"
     ]
    },
    {
     "name": "stdout",
     "output_type": "stream",
     "text": [
      "MetaOD 6 train 0.9999999999999999 valid 0.9999999999999998 learning rate 0.6714285714285715\n",
      "MetaOD 7 train 0.9999999999999999 valid 0.9999999999999998 learning rate 0.7857142857142858\n"
     ]
    },
    {
     "data": {
      "text/plain": [
       "<metaod.models.core.MetaODClass at 0x135fd5c90>"
      ]
     },
     "execution_count": 116,
     "metadata": {},
     "output_type": "execute_result"
    }
   ],
   "source": [
    "n_components = 1\n",
    "\n",
    "clf = MetaODClass(train_set, valid_performance=valid_set, n_factors=n_components, learning='sgd')\n",
    "clf.train(n_iter=50, meta_features=train_meta, valid_meta=valid_meta, learning_rate=0.05, max_rate=0.9, min_rate=0.1, discount=1, n_steps=8)\n",
    "\n",
    "#dump(clf, Path('results')  /  str('train_' + str(seed) + '.joblib'))"
   ]
  }
 ],
 "metadata": {
  "kernelspec": {
   "display_name": "metaOD",
   "language": "python",
   "name": "python3"
  },
  "language_info": {
   "codemirror_mode": {
    "name": "ipython",
    "version": 3
   },
   "file_extension": ".py",
   "mimetype": "text/x-python",
   "name": "python",
   "nbconvert_exporter": "python",
   "pygments_lexer": "ipython3",
   "version": "3.11.4"
  },
  "orig_nbformat": 4
 },
 "nbformat": 4,
 "nbformat_minor": 2
}

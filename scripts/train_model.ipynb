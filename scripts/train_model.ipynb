{
 "cells": [
  {
   "cell_type": "code",
   "execution_count": 1,
   "metadata": {},
   "outputs": [],
   "source": [
    "import os\n",
    "import sys\n",
    "import random"
   ]
  },
  {
   "cell_type": "code",
   "execution_count": 2,
   "metadata": {},
   "outputs": [],
   "source": [
    "import pandas as pd\n",
    "import numpy as np"
   ]
  },
  {
   "cell_type": "code",
   "execution_count": 3,
   "metadata": {},
   "outputs": [],
   "source": [
    "from joblib import dump\n",
    "from scipy.io import loadmat\n",
    "from pathlib import Path\n",
    "from dataclasses import dataclass\n",
    "from sklearn.preprocessing import MinMaxScaler\n",
    "from metaod.models.gen_meta_features import generate_meta_features\n",
    "from metaod.models.core import MetaODClass\n",
    "from metaod.models.utility import fix_nan"
   ]
  },
  {
   "cell_type": "code",
   "execution_count": 4,
   "metadata": {},
   "outputs": [],
   "source": [
    "@dataclass\n",
    "class Model:\n",
    "    name: str\n",
    "    type: str\n",
    "    pars: tuple\n",
    "\n",
    "@dataclass\n",
    "class Dataset:\n",
    "    name: str\n",
    "    path: str"
   ]
  },
  {
   "cell_type": "code",
   "execution_count": 5,
   "metadata": {},
   "outputs": [],
   "source": [
    "model_list = [Model('LODA (5, 10)', 'LODA', (5, 10)), Model('LOF (70, \"euclidean\")', 'LOF', (70, \"euclidean\"))]\n",
    "    \n",
    "data_list = [Dataset('Annthyroid', 'annthyroid.mat'), Dataset('Arrhythmia', 'arrhythmia.mat')]"
   ]
  },
  {
   "cell_type": "code",
   "execution_count": 6,
   "metadata": {},
   "outputs": [
    {
     "name": "stdout",
     "output_type": "stream",
     "text": [
      "         Data  Index   #Samples   # Dimensions   Outlier Perc  LODA (5, 10)  \\\n",
      "0  Annthyroid      1       1986             15         5.0352       0.11314   \n",
      "1  Arrhythmia      1       1986             15         5.0352       0.09884   \n",
      "\n",
      "   LOF (70, 'euclidean')      Max   97% Max  tolerance  \n",
      "0                 0.0906  0.11314  0.109746       0.03  \n",
      "1                 0.0745  0.09884  0.095875       0.03  \n"
     ]
    }
   ],
   "source": [
    "script_directory = os.path.dirname(os.path.abspath('__file__'))\n",
    "excel_file_path = os.path.join(script_directory, '..', 'data', 'performance_table.xlsx')\n",
    "perf_df = pd.read_excel(excel_file_path, sheet_name='AP')\n",
    "\n",
    "print(perf_df)"
   ]
  },
  {
   "cell_type": "code",
   "execution_count": 7,
   "metadata": {},
   "outputs": [
    {
     "name": "stdout",
     "output_type": "stream",
     "text": [
      "[['Annthyroid' 1 1986 15 5.0352 0.11314 0.0906 0.11314 0.1097458 0.03]\n",
      " ['Arrhythmia' 1 1986 15 5.0352 0.09884 0.0745 0.09884 0.0958748 0.03]]\n",
      "[[5.0352    0.11314   0.0906    0.11314   0.1097458 0.03     ]\n",
      " [5.0352    0.09884   0.0745    0.09884   0.0958748 0.03     ]]\n"
     ]
    }
   ],
   "source": [
    "perf_mat = perf_df.to_numpy()\n",
    "print(perf_mat)\n",
    "\n",
    "perf_mat_red = fix_nan(perf_mat[:, 4:].astype('float'))\n",
    "print(perf_mat_red)"
   ]
  },
  {
   "cell_type": "code",
   "execution_count": 8,
   "metadata": {},
   "outputs": [
    {
     "name": "stdout",
     "output_type": "stream",
     "text": [
      "num_datasets: 2 \n",
      "num_configs: 10\n"
     ]
    },
    {
     "data": {
      "text/plain": [
       "['model_list.joblib']"
      ]
     },
     "execution_count": 8,
     "metadata": {},
     "output_type": "execute_result"
    }
   ],
   "source": [
    "n_datasets, n_configs = perf_mat.shape[0], perf_mat.shape[1]\n",
    "print('num_datasets:', n_datasets, '\\nnum_configs:', n_configs)\n",
    "\n",
    "data_headers = perf_mat[:, 0]\n",
    "config_headers = perf_df.columns[4:]\n",
    "dump(config_headers, 'model_list.joblib')  "
   ]
  },
  {
   "cell_type": "code",
   "execution_count": 9,
   "metadata": {},
   "outputs": [
    {
     "name": "stderr",
     "output_type": "stream",
     "text": [
      "/Users/ifgrdo/anaconda3/envs/metaOD/lib/python3.11/site-packages/metaod/models/gen_meta_features.py:119: RuntimeWarning: Precision loss occurred in moment calculation due to catastrophic cancellation. This occurs when the data are nearly identical. Results may be unreliable.\n",
      "  return_list.append(skew(x, nan_policy='omit')[0])\n",
      "/Users/ifgrdo/anaconda3/envs/metaOD/lib/python3.11/site-packages/metaod/models/gen_meta_features.py:122: RuntimeWarning: Precision loss occurred in moment calculation due to catastrophic cancellation. This occurs when the data are nearly identical. Results may be unreliable.\n",
      "  return_list.append(kurtosis(x, nan_policy='omit')[0])\n",
      "/Users/ifgrdo/anaconda3/envs/metaOD/lib/python3.11/site-packages/metaod/models/gen_meta_features.py:119: RuntimeWarning: Precision loss occurred in moment calculation due to catastrophic cancellation. This occurs when the data are nearly identical. Results may be unreliable.\n",
      "  return_list.append(skew(x, nan_policy='omit')[0])\n",
      "/Users/ifgrdo/anaconda3/envs/metaOD/lib/python3.11/site-packages/metaod/models/gen_meta_features.py:122: RuntimeWarning: Precision loss occurred in moment calculation due to catastrophic cancellation. This occurs when the data are nearly identical. Results may be unreliable.\n",
      "  return_list.append(kurtosis(x, nan_policy='omit')[0])\n",
      "/Users/ifgrdo/anaconda3/envs/metaOD/lib/python3.11/site-packages/metaod/models/gen_meta_features.py:119: RuntimeWarning: Precision loss occurred in moment calculation due to catastrophic cancellation. This occurs when the data are nearly identical. Results may be unreliable.\n",
      "  return_list.append(skew(x, nan_policy='omit')[0])\n",
      "/Users/ifgrdo/anaconda3/envs/metaOD/lib/python3.11/site-packages/metaod/models/gen_meta_features.py:122: RuntimeWarning: Precision loss occurred in moment calculation due to catastrophic cancellation. This occurs when the data are nearly identical. Results may be unreliable.\n",
      "  return_list.append(kurtosis(x, nan_policy='omit')[0])\n",
      "/Users/ifgrdo/anaconda3/envs/metaOD/lib/python3.11/site-packages/scipy/stats/_stats_py.py:4167: ConstantInputWarning: Each of the input arrays is constant;the F statistic is not defined or infinite\n",
      "  warnings.warn(stats.ConstantInputWarning(msg))\n",
      "/Users/ifgrdo/anaconda3/envs/metaOD/lib/python3.11/site-packages/metaod/models/gen_meta_features.py:119: RuntimeWarning: Precision loss occurred in moment calculation due to catastrophic cancellation. This occurs when the data are nearly identical. Results may be unreliable.\n",
      "  return_list.append(skew(x, nan_policy='omit')[0])\n",
      "/Users/ifgrdo/anaconda3/envs/metaOD/lib/python3.11/site-packages/metaod/models/gen_meta_features.py:122: RuntimeWarning: Precision loss occurred in moment calculation due to catastrophic cancellation. This occurs when the data are nearly identical. Results may be unreliable.\n",
      "  return_list.append(kurtosis(x, nan_policy='omit')[0])\n",
      "/Users/ifgrdo/anaconda3/envs/metaOD/lib/python3.11/site-packages/metaod/models/gen_meta_features.py:119: RuntimeWarning: Precision loss occurred in moment calculation due to catastrophic cancellation. This occurs when the data are nearly identical. Results may be unreliable.\n",
      "  return_list.append(skew(x, nan_policy='omit')[0])\n",
      "/Users/ifgrdo/anaconda3/envs/metaOD/lib/python3.11/site-packages/metaod/models/gen_meta_features.py:122: RuntimeWarning: Precision loss occurred in moment calculation due to catastrophic cancellation. This occurs when the data are nearly identical. Results may be unreliable.\n",
      "  return_list.append(kurtosis(x, nan_policy='omit')[0])\n"
     ]
    }
   ],
   "source": [
    "meta_mat = np.zeros((n_datasets, 200))\n",
    "\n",
    "for index, dataset in enumerate(data_list):\n",
    "    mat = loadmat('../data/' + dataset.path)\n",
    "    X = mat['X']\n",
    "    meta_mat[index, :], meta_vec_names = generate_meta_features(X)"
   ]
  },
  {
   "cell_type": "code",
   "execution_count": 10,
   "metadata": {},
   "outputs": [
    {
     "name": "stderr",
     "output_type": "stream",
     "text": [
      "/Users/ifgrdo/anaconda3/envs/metaOD/lib/python3.11/site-packages/sklearn/preprocessing/_data.py:473: RuntimeWarning: All-NaN slice encountered\n",
      "  data_min = np.nanmin(X, axis=0)\n",
      "/Users/ifgrdo/anaconda3/envs/metaOD/lib/python3.11/site-packages/sklearn/preprocessing/_data.py:474: RuntimeWarning: All-NaN slice encountered\n",
      "  data_max = np.nanmax(X, axis=0)\n",
      "/Users/ifgrdo/anaconda3/envs/metaOD/lib/python3.11/site-packages/metaod/models/utility.py:19: RuntimeWarning: Mean of empty slice\n",
      "  col_mean = np.nanmean(X, axis = 0)\n"
     ]
    }
   ],
   "source": [
    "meta_scalar = MinMaxScaler()\n",
    "meta_mat_transformed = meta_scalar.fit_transform(meta_mat)\n",
    "meta_mat_transformed = fix_nan(meta_mat_transformed)\n",
    "#dump(meta_scalar, Path('results') / 'meta_scalar.joblib')"
   ]
  },
  {
   "cell_type": "code",
   "execution_count": 11,
   "metadata": {},
   "outputs": [],
   "source": [
    "seed = 0\n",
    "full_list = list(range(n_datasets))\n",
    "random.Random(seed).shuffle(full_list)\n",
    "n_train = int(0.85 * n_datasets)"
   ]
  },
  {
   "cell_type": "code",
   "execution_count": 12,
   "metadata": {},
   "outputs": [],
   "source": [
    "train_index = full_list[:n_train]\n",
    "valid_index = full_list[n_train:]\n",
    "\n",
    "train_set = perf_mat_red[train_index, :].astype('float64')\n",
    "valid_set = perf_mat_red[valid_index, :].astype('float64')\n",
    "\n",
    "train_meta = meta_mat_transformed[train_index, :].astype('float64')\n",
    "valid_meta = meta_mat_transformed[valid_index, :].astype('float64')\n",
    "\n",
    "train_meta[np.isnan(train_meta)] = 0\n",
    "valid_meta[np.isnan(valid_meta)] = 0"
   ]
  },
  {
   "cell_type": "code",
   "execution_count": 13,
   "metadata": {},
   "outputs": [
    {
     "name": "stderr",
     "output_type": "stream",
     "text": [
      "/Users/ifgrdo/anaconda3/envs/metaOD/lib/python3.11/site-packages/sklearn/decomposition/_pca.py:543: RuntimeWarning: invalid value encountered in divide\n",
      "  explained_variance_ = (S**2) / (n_samples - 1)\n"
     ]
    },
    {
     "name": "stdout",
     "output_type": "stream",
     "text": [
      "MetaOD 1 train 0.5754731722470243 valid 0.5724258331350667 learning rate 0.1\n",
      "MetaOD 2 train 0.5314278466007283 valid 0.5276112879055392 learning rate 0.2142857142857143\n",
      "MetaOD 3 train 0.5314278466007283 valid 0.5276112879055392 learning rate 0.3285714285714286\n",
      "MetaOD 4 train 0.5314278466007283 valid 0.5276112879055392 learning rate 0.4428571428571429\n"
     ]
    },
    {
     "name": "stderr",
     "output_type": "stream",
     "text": [
      "/Users/ifgrdo/anaconda3/envs/metaOD/lib/python3.11/site-packages/metaod/models/core.py:179: RuntimeWarning: divide by zero encountered in scalar divide\n",
      "  if ((self.valid_loss_[-1] - self.valid_loss_[-2]) /\n"
     ]
    },
    {
     "name": "stdout",
     "output_type": "stream",
     "text": [
      "MetaOD 5 train 0.5314278466007283 valid 0.5276112879055392 learning rate 0.5571428571428572\n",
      "MetaOD 6 train 0.5314278466007283 valid 0.5276112879055392 learning rate 0.6714285714285715\n"
     ]
    },
    {
     "data": {
      "text/plain": [
       "['results/train_0.joblib']"
      ]
     },
     "execution_count": 13,
     "metadata": {},
     "output_type": "execute_result"
    }
   ],
   "source": [
    "n_components = 1\n",
    "clf = MetaODClass(train_set, valid_performance=valid_set, n_factors=n_components, learning='sgd')\n",
    "clf.train(n_iter=50, meta_features=train_meta, valid_meta=valid_meta, learning_rate=0.05, max_rate=0.9, min_rate=0.1, discount=1, n_steps=8)\n",
    "\n",
    "dump(clf, Path('results')  /  str('train_' + str(seed) + '.joblib'))"
   ]
  }
 ],
 "metadata": {
  "kernelspec": {
   "display_name": "metaOD",
   "language": "python",
   "name": "python3"
  },
  "language_info": {
   "codemirror_mode": {
    "name": "ipython",
    "version": 3
   },
   "file_extension": ".py",
   "mimetype": "text/x-python",
   "name": "python",
   "nbconvert_exporter": "python",
   "pygments_lexer": "ipython3",
   "version": "3.11.4"
  },
  "orig_nbformat": 4
 },
 "nbformat": 4,
 "nbformat_minor": 2
}

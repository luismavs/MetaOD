{
 "cells": [
  {
   "cell_type": "code",
   "execution_count": 183,
   "metadata": {},
   "outputs": [],
   "source": [
    "import os\n",
    "import sys\n",
    "import random"
   ]
  },
  {
   "cell_type": "code",
   "execution_count": 184,
   "metadata": {},
   "outputs": [],
   "source": [
    "import pandas as pd\n",
    "import numpy as np"
   ]
  },
  {
   "cell_type": "code",
   "execution_count": 185,
   "metadata": {},
   "outputs": [],
   "source": [
    "from joblib import dump\n",
    "from scipy.io import loadmat\n",
    "from pathlib import Path\n",
    "from dataclasses import dataclass\n",
    "from sklearn.preprocessing import MinMaxScaler\n",
    "from metaod.models.gen_meta_features import generate_meta_features\n",
    "from metaod.models.core import MetaODClass\n",
    "from metaod.models.utility import fix_nan"
   ]
  },
  {
   "cell_type": "code",
   "execution_count": 186,
   "metadata": {},
   "outputs": [],
   "source": [
    "@dataclass\n",
    "class Model:\n",
    "    name: str\n",
    "    type: str\n",
    "    pars: tuple\n",
    "\n",
    "@dataclass\n",
    "class Dataset:\n",
    "    name: str\n",
    "    path: str"
   ]
  },
  {
   "cell_type": "code",
   "execution_count": 187,
   "metadata": {},
   "outputs": [
    {
     "name": "stdout",
     "output_type": "stream",
     "text": [
      "           Data  LODA (5, 10)  LODA (5, 20)  LODA (5, 30)  LODA (5, 40)  \\\n",
      "0    Annthyroid        0.0593        0.0513        0.0488        0.0469   \n",
      "1    Arrhythmia        0.1753        0.2161        0.2275        0.1992   \n",
      "2       Breastw        0.6431        0.9723        0.7711        0.9240   \n",
      "3         Glass        0.0411        0.1193        0.0574        0.0585   \n",
      "4    Ionosphere        0.7711        0.5320        0.6142        0.6257   \n",
      "5        Letter        0.1130        0.0740        0.0799        0.0865   \n",
      "6        Lympho        0.2946        0.9107        0.1109        0.5645   \n",
      "7   Mammography        0.1886        0.3117        0.1198        0.0969   \n",
      "8         Mnist        0.1070        0.1589        0.1155        0.1336   \n",
      "9          Musk        0.1380        0.3413        0.1997        0.4673   \n",
      "10    Optdigits        0.0172        0.0160        0.0180        0.0209   \n",
      "11    Pendigits        0.1309        0.1212        0.0672        0.0982   \n",
      "12         Pima        0.5441        0.3636        0.4669        0.3354   \n",
      "13    Satellite        0.2217        0.3881        0.4546        0.4786   \n",
      "14   Satimage-2        0.5139        0.5280        0.6969        0.8114   \n",
      "15      Shuttle        0.4371        0.9198        0.0683        0.0511   \n",
      "16       Speech        0.0184        0.0191        0.0183        0.0217   \n",
      "17      Thyroid        0.0151        0.2312        0.0323        0.0446   \n",
      "18    Vertebral        0.0886        0.0891        0.0924        0.0827   \n",
      "19       Vowels        0.0274        0.0305        0.0322        0.0344   \n",
      "20          Wbc        0.4221        0.5957        0.2277        0.4639   \n",
      "21         Wine        0.6330        0.1624        0.2572        0.4880   \n",
      "\n",
      "    LODA (5, 50)  LODA (5, 75)  LODA (5, 100)  LODA (5, 150)  LODA (5, 200)  \\\n",
      "0         0.0481        0.0530         0.0521         0.0545         0.0494   \n",
      "1         0.2995        0.3095         0.2384         0.1833         0.2272   \n",
      "2         0.8170        0.9784         0.9482         0.9614         0.9592   \n",
      "3         0.0481        0.0617         0.0399         0.0802         0.0344   \n",
      "4         0.5210        0.6400         0.6189         0.5700         0.6354   \n",
      "5         0.0592        0.0920         0.0733         0.0736         0.0917   \n",
      "6         0.0302        0.5302         0.0343         0.1170         0.3709   \n",
      "7         0.0463        0.2857         0.3028         0.2326         0.1309   \n",
      "8         0.1235        0.1393         0.3066         0.0996         0.0695   \n",
      "9         0.7843        0.2511         0.1893         0.7007         0.7667   \n",
      "10        0.0222        0.0304         0.0241         0.0586         0.0360   \n",
      "11        0.2381        0.0453         0.1287         0.3198         0.2483   \n",
      "12        0.3136        0.4715         0.5000         0.4412         0.4686   \n",
      "13        0.5827        0.3671         0.6290         0.5332         0.5641   \n",
      "14        0.8392        0.9011         0.9037         0.9081         0.9344   \n",
      "15        0.0425        0.0418         0.0426         0.0388         0.0381   \n",
      "16        0.0195        0.0134         0.0134         0.0197         0.0168   \n",
      "17        0.2321        0.0314         0.1369         0.0247         0.0436   \n",
      "18        0.0763        0.0786         0.0865         0.0820         0.0834   \n",
      "19        0.0384        0.0256         0.2677         0.0414         0.0463   \n",
      "20        0.6872        0.1654         0.4681         0.3966         0.5102   \n",
      "21        0.1688        0.3424         0.6025         0.3845         0.2787   \n",
      "\n",
      "    ...  LOF (70, 'minkowski')  LOF (80, 'manhattan')  LOF (80, 'euclidean')  \\\n",
      "0   ...                 0.1967                 0.1924                 0.2024   \n",
      "1   ...                 0.3798                 0.4617                 0.3829   \n",
      "2   ...                 0.3453                 0.3668                 0.3672   \n",
      "3   ...                 0.1092                 0.0890                 0.1035   \n",
      "4   ...                 0.8635                 0.8102                 0.8668   \n",
      "5   ...                 0.2714                 0.2725                 0.2556   \n",
      "6   ...                 0.8012                 0.8482                 0.8012   \n",
      "7   ...                 0.1381                 0.1216                 0.1385   \n",
      "8   ...                 0.3401                 0.3642                 0.3448   \n",
      "9   ...                 0.0836                 0.0214                 0.0605   \n",
      "10  ...                 0.0222                 0.0211                 0.0213   \n",
      "11  ...                 0.0282                 0.0374                 0.0287   \n",
      "12  ...                 0.4686                 0.4820                 0.4743   \n",
      "13  ...                 0.3958                 0.3972                 0.3965   \n",
      "14  ...                 0.0422                 0.0666                 0.0721   \n",
      "15  ...                 0.1230                 0.1189                 0.1229   \n",
      "16  ...                 0.0194                 0.0204                 0.0192   \n",
      "17  ...                 0.2832                 0.2344                 0.3208   \n",
      "18  ...                 0.0847                 0.0840                 0.0843   \n",
      "19  ...                 0.4071                 0.3947                 0.4084   \n",
      "20  ...                 0.5965                 0.6414                 0.5986   \n",
      "21  ...                 0.3367                 0.3668                 0.3131   \n",
      "\n",
      "    LOF (80, 'minkowski')  LOF (90, 'manhattan')  LOF (90, 'euclidean')  \\\n",
      "0                  0.2024                 0.1983                 0.2095   \n",
      "1                  0.3829                 0.4624                 0.3849   \n",
      "2                  0.3672                 0.3831                 0.3935   \n",
      "3                  0.1035                 0.0834                 0.0852   \n",
      "4                  0.8668                 0.8071                 0.8603   \n",
      "5                  0.2556                 0.2548                 0.2397   \n",
      "6                  0.8012                 0.8571                 0.8125   \n",
      "7                  0.1385                 0.1210                 0.1385   \n",
      "8                  0.3448                 0.3727                 0.3504   \n",
      "9                  0.0605                 0.0229                 0.0968   \n",
      "10                 0.0213                 0.0207                 0.0205   \n",
      "11                 0.0287                 0.0389                 0.0309   \n",
      "12                 0.4743                 0.4878                 0.4829   \n",
      "13                 0.3965                 0.3975                 0.3969   \n",
      "14                 0.0721                 0.1037                 0.1048   \n",
      "15                 0.1229                 0.1199                 0.1228   \n",
      "16                 0.0192                 0.0203                 0.0191   \n",
      "17                 0.3208                 0.2881                 0.3619   \n",
      "18                 0.0843                 0.0868                 0.0861   \n",
      "19                 0.4084                 0.3843                 0.4070   \n",
      "20                 0.5986                 0.6482                 0.6009   \n",
      "21                 0.3131                 0.3346                 0.2958   \n",
      "\n",
      "    LOF (90, 'minkowski')  LOF (100, 'manhattan')  LOF (100, 'euclidean')  \\\n",
      "0                  0.2095                  0.2043                  0.2153   \n",
      "1                  0.3849                  0.4635                  0.3863   \n",
      "2                  0.3935                  0.3921                  0.4085   \n",
      "3                  0.0852                  0.0828                  0.0800   \n",
      "4                  0.8603                  0.7987                  0.8461   \n",
      "5                  0.2397                  0.2437                  0.2290   \n",
      "6                  0.8125                  0.8571                  0.8125   \n",
      "7                  0.1385                  0.1206                  0.1384   \n",
      "8                  0.3504                  0.3787                  0.3550   \n",
      "9                  0.0968                  0.0905                  0.4210   \n",
      "10                 0.0205                  0.0206                  0.0201   \n",
      "11                 0.0309                  0.0443                  0.0341   \n",
      "12                 0.4829                  0.4926                  0.4853   \n",
      "13                 0.3969                  0.3972                  0.3975   \n",
      "14                 0.1048                  0.1420                  0.1374   \n",
      "15                 0.1228                  0.1194                  0.1216   \n",
      "16                 0.0191                  0.0202                  0.0190   \n",
      "17                 0.3619                  0.3348                  0.3948   \n",
      "18                 0.0861                  0.0877                  0.0870   \n",
      "19                 0.4070                  0.3852                  0.4056   \n",
      "20                 0.6009                  0.6497                  0.6010   \n",
      "21                 0.2958                  0.2902                  0.2589   \n",
      "\n",
      "    LOF (100, 'minkowski')  \n",
      "0                   0.2153  \n",
      "1                   0.3863  \n",
      "2                   0.4085  \n",
      "3                   0.0800  \n",
      "4                   0.8461  \n",
      "5                   0.2290  \n",
      "6                   0.8125  \n",
      "7                   0.1384  \n",
      "8                   0.3550  \n",
      "9                   0.4210  \n",
      "10                  0.0201  \n",
      "11                  0.0341  \n",
      "12                  0.4853  \n",
      "13                  0.3975  \n",
      "14                  0.1374  \n",
      "15                  0.1216  \n",
      "16                  0.0190  \n",
      "17                  0.3948  \n",
      "18                  0.0870  \n",
      "19                  0.4056  \n",
      "20                  0.6010  \n",
      "21                  0.2589  \n",
      "\n",
      "[22 rows x 208 columns]\n"
     ]
    }
   ],
   "source": [
    "script_directory = os.path.dirname(os.path.abspath('__file__'))\n",
    "excel_file_path = os.path.join(script_directory, '..', 'data', 'performance_table.xlsx')\n",
    "perf_df = pd.read_excel(excel_file_path, sheet_name='AP')\n",
    "\n",
    "print(perf_df)"
   ]
  },
  {
   "cell_type": "code",
   "execution_count": 188,
   "metadata": {},
   "outputs": [
    {
     "name": "stdout",
     "output_type": "stream",
     "text": [
      "LODA (5, 10)\n",
      "LODA (5, 20)\n",
      "LODA (5, 30)\n",
      "LODA (5, 40)\n",
      "LODA (5, 50)\n",
      "LODA (5, 75)\n",
      "LODA (5, 100)\n",
      "LODA (5, 150)\n",
      "LODA (5, 200)\n",
      "LODA (10, 10)\n",
      "LODA (10, 20)\n",
      "LODA (10, 30)\n",
      "LODA (10, 40)\n",
      "LODA (10, 50)\n",
      "LODA (10, 75)\n",
      "LODA (10, 100)\n",
      "LODA (10, 150)\n",
      "LODA (10, 200)\n",
      "LODA (15, 10)\n",
      "LODA (15, 20)\n",
      "LODA (15, 30)\n",
      "LODA (15, 40)\n",
      "LODA (15, 50)\n",
      "LODA (15, 75)\n",
      "LODA (15, 100)\n",
      "LODA (15, 150)\n",
      "LODA (15, 200)\n",
      "LODA (20, 10)\n",
      "LODA (20, 20)\n",
      "LODA (20, 30)\n",
      "LODA (20, 40)\n",
      "LODA (20, 50)\n",
      "LODA (20, 75)\n",
      "LODA (20, 100)\n",
      "LODA (20, 150)\n",
      "LODA (20, 200)\n",
      "LODA (25, 10)\n",
      "LODA (25, 20)\n",
      "LODA (25, 30)\n",
      "LODA (25, 40)\n",
      "LODA (25, 50)\n",
      "LODA (25, 75)\n",
      "LODA (25, 100)\n",
      "LODA (25, 150)\n",
      "LODA (25, 200)\n",
      "LODA (30, 10)\n",
      "LODA (30, 20)\n",
      "LODA (30, 30)\n",
      "LODA (30, 40)\n",
      "LODA (30, 50)\n",
      "LODA (30, 75)\n",
      "LODA (30, 100)\n",
      "LODA (30, 150)\n",
      "LODA (30, 200)\n",
      "Iforest (10, 0.1)\n",
      "Iforest (10, 0.2)\n",
      "Iforest (10, 0.3)\n",
      "Iforest (10, 0.4)\n",
      "Iforest (10, 0.5)\n",
      "Iforest (10, 0.6)\n",
      "Iforest (10, 0.7)\n",
      "Iforest (10, 0.8)\n",
      "Iforest (10, 0.9)\n",
      "Iforest (20, 0.1)\n",
      "Iforest (20, 0.2)\n",
      "Iforest (20, 0.3)\n",
      "Iforest (20, 0.4)\n",
      "Iforest (20, 0.5)\n",
      "Iforest (20, 0.6)\n",
      "Iforest (20, 0.7)\n",
      "Iforest (20, 0.8)\n",
      "Iforest (20, 0.9)\n",
      "Iforest (30, 0.1)\n",
      "Iforest (30, 0.2)\n",
      "Iforest (30, 0.3)\n",
      "Iforest (30, 0.4)\n",
      "Iforest (30, 0.5)\n",
      "Iforest (30, 0.6)\n",
      "Iforest (30, 0.7)\n",
      "Iforest (30, 0.8)\n",
      "Iforest (30, 0.9)\n",
      "Iforest (40, 0.1)\n",
      "Iforest (40, 0.2)\n",
      "Iforest (40, 0.3)\n",
      "Iforest (40, 0.4)\n",
      "Iforest (40, 0.5)\n",
      "Iforest (40, 0.6)\n",
      "Iforest (40, 0.7)\n",
      "Iforest (40, 0.8)\n",
      "Iforest (40, 0.9)\n",
      "Iforest (50, 0.1)\n",
      "Iforest (50, 0.2)\n",
      "Iforest (50, 0.3)\n",
      "Iforest (50, 0.4)\n",
      "Iforest (50, 0.5)\n",
      "Iforest (50, 0.6)\n",
      "Iforest (50, 0.7)\n",
      "Iforest (50, 0.8)\n",
      "Iforest (50, 0.9)\n",
      "Iforest (75, 0.1)\n",
      "Iforest (75, 0.2)\n",
      "Iforest (75, 0.3)\n",
      "Iforest (75, 0.4)\n",
      "Iforest (75, 0.5)\n",
      "Iforest (75, 0.6)\n",
      "Iforest (75, 0.7)\n",
      "Iforest (75, 0.8)\n",
      "Iforest (75, 0.9)\n",
      "Iforest (100, 0.1)\n",
      "Iforest (100, 0.2)\n",
      "Iforest (100, 0.3)\n",
      "Iforest (100, 0.4)\n",
      "Iforest (100, 0.5)\n",
      "Iforest (100, 0.6)\n",
      "Iforest (100, 0.7)\n",
      "Iforest (100, 0.8)\n",
      "Iforest (100, 0.9)\n",
      "Iforest (150, 0.1)\n",
      "Iforest (150, 0.2)\n",
      "Iforest (150, 0.3)\n",
      "Iforest (150, 0.4)\n",
      "Iforest (150, 0.5)\n",
      "Iforest (150, 0.6)\n",
      "Iforest (150, 0.7)\n",
      "Iforest (150, 0.8)\n",
      "Iforest (150, 0.9)\n",
      "Iforest (200, 0.1)\n",
      "Iforest (200, 0.2)\n",
      "Iforest (200, 0.3)\n",
      "Iforest (200, 0.4)\n",
      "Iforest (200, 0.5)\n",
      "Iforest (200, 0.6)\n",
      "Iforest (200, 0.7)\n",
      "Iforest (200, 0.8)\n",
      "Iforest (200, 0.9)\n",
      "kNN (1, 'largest')\n",
      "kNN (1, 'mean')\n",
      "kNN (1, 'median')\n",
      "kNN (5, 'largest')\n",
      "kNN (5, 'mean')\n",
      "kNN (5, 'median')\n",
      "kNN (10, 'largest')\n",
      "kNN (10, 'mean')\n",
      "kNN (10, 'median')\n",
      "kNN (15, 'largest')\n",
      "kNN (15, 'mean')\n",
      "kNN (15, 'median')\n",
      "kNN (20, 'largest')\n",
      "kNN (20, 'mean')\n",
      "kNN (20, 'median')\n",
      "kNN (25, 'largest')\n",
      "kNN (25, 'mean')\n",
      "kNN (25, 'median')\n",
      "kNN (50, 'largest')\n",
      "kNN (50, 'mean')\n",
      "kNN (50, 'median')\n",
      "kNN (60, 'largest')\n",
      "kNN (60, 'mean')\n",
      "kNN (60, 'median')\n",
      "kNN (70, 'largest')\n",
      "kNN (70, 'mean')\n",
      "kNN (70, 'median')\n",
      "kNN (80, 'largest')\n",
      "kNN (80, 'mean')\n",
      "kNN (80, 'median')\n",
      "kNN (90, 'largest')\n",
      "kNN (90, 'mean')\n",
      "kNN (90, 'median')\n",
      "kNN (100, 'largest')\n",
      "kNN (100, 'mean')\n",
      "kNN (100, 'median')\n",
      "LOF (1, 'manhattan')\n",
      "LOF (1, 'euclidean')\n",
      "LOF (1, 'minkowski')\n",
      "LOF (5, 'manhattan')\n",
      "LOF (5, 'euclidean')\n",
      "LOF (5, 'minkowski')\n",
      "LOF (10, 'manhattan')\n",
      "LOF (10, 'euclidean')\n",
      "LOF (10, 'minkowski')\n",
      "LOF (15, 'manhattan')\n",
      "LOF (15, 'euclidean')\n",
      "LOF (15, 'minkowski')\n",
      "LOF (20, 'manhattan')\n",
      "LOF (20, 'euclidean')\n",
      "LOF (20, 'minkowski')\n",
      "LOF (25, 'manhattan')\n",
      "LOF (25, 'euclidean')\n",
      "LOF (25, 'minkowski')\n",
      "LOF (50, 'manhattan')\n",
      "LOF (50, 'euclidean')\n",
      "LOF (50, 'minkowski')\n",
      "LOF (60, 'manhattan')\n",
      "LOF (60, 'euclidean')\n",
      "LOF (60, 'minkowski')\n",
      "LOF (70, 'manhattan')\n",
      "LOF (70, 'euclidean')\n",
      "LOF (70, 'minkowski')\n",
      "LOF (80, 'manhattan')\n",
      "LOF (80, 'euclidean')\n",
      "LOF (80, 'minkowski')\n",
      "LOF (90, 'manhattan')\n",
      "LOF (90, 'euclidean')\n",
      "LOF (90, 'minkowski')\n",
      "LOF (100, 'manhattan')\n",
      "LOF (100, 'euclidean')\n",
      "LOF (100, 'minkowski')\n"
     ]
    }
   ],
   "source": [
    "data_list, model_list = [], []\n",
    "\n",
    "models = perf_df.columns[1:].to_list()\n",
    "\n",
    "\n",
    "for model in models:\n",
    "    name = model\n",
    "    print(model)\n",
    "    type = model.split()[0]\n",
    "    pars = model.split()[1]\n",
    "    model_list.append(Model(name, type, pars))\n",
    "\n",
    "\n",
    "for i in range(perf_df.shape[0]):\n",
    "    name = perf_df.iloc[i, 0]\n",
    "    path = name.lower() + '.mat'\n",
    "    data_list.append(Dataset(name, path))"
   ]
  },
  {
   "cell_type": "code",
   "execution_count": 189,
   "metadata": {},
   "outputs": [
    {
     "name": "stdout",
     "output_type": "stream",
     "text": [
      "[['Annthyroid' 0.0593 0.0513 ... 0.2043 0.2153 0.2153]\n",
      " ['Arrhythmia' 0.1753 0.2161 ... 0.4635 0.3863 0.3863]\n",
      " ['Breastw' 0.6431 0.9723 ... 0.3921 0.4085 0.4085]\n",
      " ...\n",
      " ['Vowels' 0.0274 0.0305 ... 0.3852 0.4056 0.4056]\n",
      " ['Wbc' 0.4221 0.5957 ... 0.6497 0.601 0.601]\n",
      " ['Wine' 0.633 0.1624 ... 0.2902 0.2589 0.2589]]\n"
     ]
    }
   ],
   "source": [
    "perf_mat = perf_df.to_numpy()\n",
    "print(perf_mat)"
   ]
  },
  {
   "cell_type": "code",
   "execution_count": 190,
   "metadata": {},
   "outputs": [
    {
     "name": "stdout",
     "output_type": "stream",
     "text": [
      "[[0.0593 0.0513 0.0488 ... 0.2043 0.2153 0.2153]\n",
      " [0.1753 0.2161 0.2275 ... 0.4635 0.3863 0.3863]\n",
      " [0.6431 0.9723 0.7711 ... 0.3921 0.4085 0.4085]\n",
      " ...\n",
      " [0.0274 0.0305 0.0322 ... 0.3852 0.4056 0.4056]\n",
      " [0.4221 0.5957 0.2277 ... 0.6497 0.601  0.601 ]\n",
      " [0.633  0.1624 0.2572 ... 0.2902 0.2589 0.2589]]\n"
     ]
    }
   ],
   "source": [
    "perf_mat_red = fix_nan(perf_mat[:, 1:].astype('float'))\n",
    "print(perf_mat_red)"
   ]
  },
  {
   "cell_type": "code",
   "execution_count": 191,
   "metadata": {},
   "outputs": [
    {
     "name": "stdout",
     "output_type": "stream",
     "text": [
      "num_datasets: 22 \n",
      "num_configs: 207\n"
     ]
    }
   ],
   "source": [
    "n_datasets, n_configs = perf_mat_red.shape[0], perf_mat_red.shape[1]\n",
    "print('num_datasets:', n_datasets, '\\nnum_configs:', n_configs)\n",
    "\n",
    "data_headers = perf_mat[:, 0]\n",
    "config_headers = perf_df.columns[4:]\n",
    "#dump(config_headers, 'model_list.joblib')  "
   ]
  },
  {
   "cell_type": "code",
   "execution_count": 192,
   "metadata": {},
   "outputs": [
    {
     "name": "stdout",
     "output_type": "stream",
     "text": [
      "Dataset(name='Annthyroid', path='annthyroid.mat')\n"
     ]
    },
    {
     "name": "stderr",
     "output_type": "stream",
     "text": [
      "/Users/ifgrdo/anaconda3/envs/metaOD/lib/python3.11/site-packages/metaod/models/gen_meta_features.py:119: RuntimeWarning: Precision loss occurred in moment calculation due to catastrophic cancellation. This occurs when the data are nearly identical. Results may be unreliable.\n",
      "  return_list.append(skew(x, nan_policy='omit')[0])\n",
      "/Users/ifgrdo/anaconda3/envs/metaOD/lib/python3.11/site-packages/metaod/models/gen_meta_features.py:122: RuntimeWarning: Precision loss occurred in moment calculation due to catastrophic cancellation. This occurs when the data are nearly identical. Results may be unreliable.\n",
      "  return_list.append(kurtosis(x, nan_policy='omit')[0])\n",
      "/Users/ifgrdo/anaconda3/envs/metaOD/lib/python3.11/site-packages/metaod/models/gen_meta_features.py:119: RuntimeWarning: Precision loss occurred in moment calculation due to catastrophic cancellation. This occurs when the data are nearly identical. Results may be unreliable.\n",
      "  return_list.append(skew(x, nan_policy='omit')[0])\n",
      "/Users/ifgrdo/anaconda3/envs/metaOD/lib/python3.11/site-packages/metaod/models/gen_meta_features.py:122: RuntimeWarning: Precision loss occurred in moment calculation due to catastrophic cancellation. This occurs when the data are nearly identical. Results may be unreliable.\n",
      "  return_list.append(kurtosis(x, nan_policy='omit')[0])\n",
      "/Users/ifgrdo/anaconda3/envs/metaOD/lib/python3.11/site-packages/metaod/models/gen_meta_features.py:119: RuntimeWarning: Precision loss occurred in moment calculation due to catastrophic cancellation. This occurs when the data are nearly identical. Results may be unreliable.\n",
      "  return_list.append(skew(x, nan_policy='omit')[0])\n",
      "/Users/ifgrdo/anaconda3/envs/metaOD/lib/python3.11/site-packages/metaod/models/gen_meta_features.py:122: RuntimeWarning: Precision loss occurred in moment calculation due to catastrophic cancellation. This occurs when the data are nearly identical. Results may be unreliable.\n",
      "  return_list.append(kurtosis(x, nan_policy='omit')[0])\n"
     ]
    },
    {
     "name": "stdout",
     "output_type": "stream",
     "text": [
      "Dataset(name='Arrhythmia', path='arrhythmia.mat')\n"
     ]
    },
    {
     "name": "stderr",
     "output_type": "stream",
     "text": [
      "/Users/ifgrdo/anaconda3/envs/metaOD/lib/python3.11/site-packages/scipy/stats/_stats_py.py:4167: ConstantInputWarning: Each of the input arrays is constant;the F statistic is not defined or infinite\n",
      "  warnings.warn(stats.ConstantInputWarning(msg))\n",
      "/Users/ifgrdo/anaconda3/envs/metaOD/lib/python3.11/site-packages/metaod/models/gen_meta_features.py:119: RuntimeWarning: Precision loss occurred in moment calculation due to catastrophic cancellation. This occurs when the data are nearly identical. Results may be unreliable.\n",
      "  return_list.append(skew(x, nan_policy='omit')[0])\n",
      "/Users/ifgrdo/anaconda3/envs/metaOD/lib/python3.11/site-packages/metaod/models/gen_meta_features.py:122: RuntimeWarning: Precision loss occurred in moment calculation due to catastrophic cancellation. This occurs when the data are nearly identical. Results may be unreliable.\n",
      "  return_list.append(kurtosis(x, nan_policy='omit')[0])\n",
      "/Users/ifgrdo/anaconda3/envs/metaOD/lib/python3.11/site-packages/metaod/models/gen_meta_features.py:119: RuntimeWarning: Precision loss occurred in moment calculation due to catastrophic cancellation. This occurs when the data are nearly identical. Results may be unreliable.\n",
      "  return_list.append(skew(x, nan_policy='omit')[0])\n",
      "/Users/ifgrdo/anaconda3/envs/metaOD/lib/python3.11/site-packages/metaod/models/gen_meta_features.py:122: RuntimeWarning: Precision loss occurred in moment calculation due to catastrophic cancellation. This occurs when the data are nearly identical. Results may be unreliable.\n",
      "  return_list.append(kurtosis(x, nan_policy='omit')[0])\n",
      "/Users/ifgrdo/anaconda3/envs/metaOD/lib/python3.11/site-packages/metaod/models/gen_meta_features.py:119: RuntimeWarning: Precision loss occurred in moment calculation due to catastrophic cancellation. This occurs when the data are nearly identical. Results may be unreliable.\n",
      "  return_list.append(skew(x, nan_policy='omit')[0])\n",
      "/Users/ifgrdo/anaconda3/envs/metaOD/lib/python3.11/site-packages/metaod/models/gen_meta_features.py:122: RuntimeWarning: Precision loss occurred in moment calculation due to catastrophic cancellation. This occurs when the data are nearly identical. Results may be unreliable.\n",
      "  return_list.append(kurtosis(x, nan_policy='omit')[0])\n",
      "/Users/ifgrdo/anaconda3/envs/metaOD/lib/python3.11/site-packages/metaod/models/gen_meta_features.py:119: RuntimeWarning: Precision loss occurred in moment calculation due to catastrophic cancellation. This occurs when the data are nearly identical. Results may be unreliable.\n",
      "  return_list.append(skew(x, nan_policy='omit')[0])\n",
      "/Users/ifgrdo/anaconda3/envs/metaOD/lib/python3.11/site-packages/metaod/models/gen_meta_features.py:122: RuntimeWarning: Precision loss occurred in moment calculation due to catastrophic cancellation. This occurs when the data are nearly identical. Results may be unreliable.\n",
      "  return_list.append(kurtosis(x, nan_policy='omit')[0])\n"
     ]
    },
    {
     "name": "stdout",
     "output_type": "stream",
     "text": [
      "Dataset(name='Breastw', path='breastw.mat')\n",
      "Dataset(name='Glass', path='glass.mat')\n"
     ]
    },
    {
     "name": "stderr",
     "output_type": "stream",
     "text": [
      "/Users/ifgrdo/anaconda3/envs/metaOD/lib/python3.11/site-packages/metaod/models/gen_meta_features.py:119: RuntimeWarning: Precision loss occurred in moment calculation due to catastrophic cancellation. This occurs when the data are nearly identical. Results may be unreliable.\n",
      "  return_list.append(skew(x, nan_policy='omit')[0])\n",
      "/Users/ifgrdo/anaconda3/envs/metaOD/lib/python3.11/site-packages/metaod/models/gen_meta_features.py:122: RuntimeWarning: Precision loss occurred in moment calculation due to catastrophic cancellation. This occurs when the data are nearly identical. Results may be unreliable.\n",
      "  return_list.append(kurtosis(x, nan_policy='omit')[0])\n",
      "/Users/ifgrdo/anaconda3/envs/metaOD/lib/python3.11/site-packages/metaod/models/gen_meta_features.py:119: RuntimeWarning: Precision loss occurred in moment calculation due to catastrophic cancellation. This occurs when the data are nearly identical. Results may be unreliable.\n",
      "  return_list.append(skew(x, nan_policy='omit')[0])\n",
      "/Users/ifgrdo/anaconda3/envs/metaOD/lib/python3.11/site-packages/metaod/models/gen_meta_features.py:122: RuntimeWarning: Precision loss occurred in moment calculation due to catastrophic cancellation. This occurs when the data are nearly identical. Results may be unreliable.\n",
      "  return_list.append(kurtosis(x, nan_policy='omit')[0])\n",
      "/Users/ifgrdo/anaconda3/envs/metaOD/lib/python3.11/site-packages/metaod/models/gen_meta_features.py:178: RuntimeWarning: invalid value encountered in scalar divide\n",
      "  quant_coeff_disp = (q75 - q25) / (q75 + q25)\n",
      "/Users/ifgrdo/anaconda3/envs/metaOD/lib/python3.11/site-packages/metaod/models/gen_meta_features.py:119: RuntimeWarning: Precision loss occurred in moment calculation due to catastrophic cancellation. This occurs when the data are nearly identical. Results may be unreliable.\n",
      "  return_list.append(skew(x, nan_policy='omit')[0])\n",
      "/Users/ifgrdo/anaconda3/envs/metaOD/lib/python3.11/site-packages/metaod/models/gen_meta_features.py:122: RuntimeWarning: Precision loss occurred in moment calculation due to catastrophic cancellation. This occurs when the data are nearly identical. Results may be unreliable.\n",
      "  return_list.append(kurtosis(x, nan_policy='omit')[0])\n",
      "/Users/ifgrdo/anaconda3/envs/metaOD/lib/python3.11/site-packages/metaod/models/gen_meta_features.py:119: RuntimeWarning: Precision loss occurred in moment calculation due to catastrophic cancellation. This occurs when the data are nearly identical. Results may be unreliable.\n",
      "  return_list.append(skew(x, nan_policy='omit')[0])\n",
      "/Users/ifgrdo/anaconda3/envs/metaOD/lib/python3.11/site-packages/metaod/models/gen_meta_features.py:122: RuntimeWarning: Precision loss occurred in moment calculation due to catastrophic cancellation. This occurs when the data are nearly identical. Results may be unreliable.\n",
      "  return_list.append(kurtosis(x, nan_policy='omit')[0])\n",
      "/Users/ifgrdo/anaconda3/envs/metaOD/lib/python3.11/site-packages/metaod/models/gen_meta_features.py:119: RuntimeWarning: Precision loss occurred in moment calculation due to catastrophic cancellation. This occurs when the data are nearly identical. Results may be unreliable.\n",
      "  return_list.append(skew(x, nan_policy='omit')[0])\n",
      "/Users/ifgrdo/anaconda3/envs/metaOD/lib/python3.11/site-packages/metaod/models/gen_meta_features.py:122: RuntimeWarning: Precision loss occurred in moment calculation due to catastrophic cancellation. This occurs when the data are nearly identical. Results may be unreliable.\n",
      "  return_list.append(kurtosis(x, nan_policy='omit')[0])\n"
     ]
    },
    {
     "name": "stdout",
     "output_type": "stream",
     "text": [
      "Dataset(name='Ionosphere', path='ionosphere.mat')\n",
      "Dataset(name='Letter', path='letter.mat')\n"
     ]
    },
    {
     "name": "stderr",
     "output_type": "stream",
     "text": [
      "/Users/ifgrdo/anaconda3/envs/metaOD/lib/python3.11/site-packages/metaod/models/gen_meta_features.py:119: RuntimeWarning: Precision loss occurred in moment calculation due to catastrophic cancellation. This occurs when the data are nearly identical. Results may be unreliable.\n",
      "  return_list.append(skew(x, nan_policy='omit')[0])\n",
      "/Users/ifgrdo/anaconda3/envs/metaOD/lib/python3.11/site-packages/metaod/models/gen_meta_features.py:122: RuntimeWarning: Precision loss occurred in moment calculation due to catastrophic cancellation. This occurs when the data are nearly identical. Results may be unreliable.\n",
      "  return_list.append(kurtosis(x, nan_policy='omit')[0])\n",
      "/Users/ifgrdo/anaconda3/envs/metaOD/lib/python3.11/site-packages/metaod/models/gen_meta_features.py:119: RuntimeWarning: Precision loss occurred in moment calculation due to catastrophic cancellation. This occurs when the data are nearly identical. Results may be unreliable.\n",
      "  return_list.append(skew(x, nan_policy='omit')[0])\n",
      "/Users/ifgrdo/anaconda3/envs/metaOD/lib/python3.11/site-packages/metaod/models/gen_meta_features.py:122: RuntimeWarning: Precision loss occurred in moment calculation due to catastrophic cancellation. This occurs when the data are nearly identical. Results may be unreliable.\n",
      "  return_list.append(kurtosis(x, nan_policy='omit')[0])\n",
      "/Users/ifgrdo/anaconda3/envs/metaOD/lib/python3.11/site-packages/metaod/models/gen_meta_features.py:178: RuntimeWarning: invalid value encountered in scalar divide\n",
      "  quant_coeff_disp = (q75 - q25) / (q75 + q25)\n",
      "/Users/ifgrdo/anaconda3/envs/metaOD/lib/python3.11/site-packages/metaod/models/gen_meta_features.py:119: RuntimeWarning: Precision loss occurred in moment calculation due to catastrophic cancellation. This occurs when the data are nearly identical. Results may be unreliable.\n",
      "  return_list.append(skew(x, nan_policy='omit')[0])\n",
      "/Users/ifgrdo/anaconda3/envs/metaOD/lib/python3.11/site-packages/metaod/models/gen_meta_features.py:122: RuntimeWarning: Precision loss occurred in moment calculation due to catastrophic cancellation. This occurs when the data are nearly identical. Results may be unreliable.\n",
      "  return_list.append(kurtosis(x, nan_policy='omit')[0])\n",
      "/Users/ifgrdo/anaconda3/envs/metaOD/lib/python3.11/site-packages/metaod/models/gen_meta_features.py:119: RuntimeWarning: Precision loss occurred in moment calculation due to catastrophic cancellation. This occurs when the data are nearly identical. Results may be unreliable.\n",
      "  return_list.append(skew(x, nan_policy='omit')[0])\n",
      "/Users/ifgrdo/anaconda3/envs/metaOD/lib/python3.11/site-packages/metaod/models/gen_meta_features.py:122: RuntimeWarning: Precision loss occurred in moment calculation due to catastrophic cancellation. This occurs when the data are nearly identical. Results may be unreliable.\n",
      "  return_list.append(kurtosis(x, nan_policy='omit')[0])\n",
      "/Users/ifgrdo/anaconda3/envs/metaOD/lib/python3.11/site-packages/metaod/models/gen_meta_features.py:119: RuntimeWarning: Precision loss occurred in moment calculation due to catastrophic cancellation. This occurs when the data are nearly identical. Results may be unreliable.\n",
      "  return_list.append(skew(x, nan_policy='omit')[0])\n",
      "/Users/ifgrdo/anaconda3/envs/metaOD/lib/python3.11/site-packages/metaod/models/gen_meta_features.py:122: RuntimeWarning: Precision loss occurred in moment calculation due to catastrophic cancellation. This occurs when the data are nearly identical. Results may be unreliable.\n",
      "  return_list.append(kurtosis(x, nan_policy='omit')[0])\n",
      "/Users/ifgrdo/anaconda3/envs/metaOD/lib/python3.11/site-packages/metaod/models/gen_meta_features.py:119: RuntimeWarning: Precision loss occurred in moment calculation due to catastrophic cancellation. This occurs when the data are nearly identical. Results may be unreliable.\n",
      "  return_list.append(skew(x, nan_policy='omit')[0])\n",
      "/Users/ifgrdo/anaconda3/envs/metaOD/lib/python3.11/site-packages/metaod/models/gen_meta_features.py:122: RuntimeWarning: Precision loss occurred in moment calculation due to catastrophic cancellation. This occurs when the data are nearly identical. Results may be unreliable.\n",
      "  return_list.append(kurtosis(x, nan_policy='omit')[0])\n",
      "/Users/ifgrdo/anaconda3/envs/metaOD/lib/python3.11/site-packages/metaod/models/gen_meta_features.py:119: RuntimeWarning: Precision loss occurred in moment calculation due to catastrophic cancellation. This occurs when the data are nearly identical. Results may be unreliable.\n",
      "  return_list.append(skew(x, nan_policy='omit')[0])\n",
      "/Users/ifgrdo/anaconda3/envs/metaOD/lib/python3.11/site-packages/metaod/models/gen_meta_features.py:122: RuntimeWarning: Precision loss occurred in moment calculation due to catastrophic cancellation. This occurs when the data are nearly identical. Results may be unreliable.\n",
      "  return_list.append(kurtosis(x, nan_policy='omit')[0])\n",
      "/Users/ifgrdo/anaconda3/envs/metaOD/lib/python3.11/site-packages/metaod/models/gen_meta_features.py:119: RuntimeWarning: Precision loss occurred in moment calculation due to catastrophic cancellation. This occurs when the data are nearly identical. Results may be unreliable.\n",
      "  return_list.append(skew(x, nan_policy='omit')[0])\n",
      "/Users/ifgrdo/anaconda3/envs/metaOD/lib/python3.11/site-packages/metaod/models/gen_meta_features.py:122: RuntimeWarning: Precision loss occurred in moment calculation due to catastrophic cancellation. This occurs when the data are nearly identical. Results may be unreliable.\n",
      "  return_list.append(kurtosis(x, nan_policy='omit')[0])\n"
     ]
    },
    {
     "name": "stdout",
     "output_type": "stream",
     "text": [
      "Dataset(name='Lympho', path='lympho.mat')\n",
      "Dataset(name='Mammography', path='mammography.mat')\n"
     ]
    },
    {
     "name": "stderr",
     "output_type": "stream",
     "text": [
      "/Users/ifgrdo/anaconda3/envs/metaOD/lib/python3.11/site-packages/metaod/models/gen_meta_features.py:119: RuntimeWarning: Precision loss occurred in moment calculation due to catastrophic cancellation. This occurs when the data are nearly identical. Results may be unreliable.\n",
      "  return_list.append(skew(x, nan_policy='omit')[0])\n",
      "/Users/ifgrdo/anaconda3/envs/metaOD/lib/python3.11/site-packages/metaod/models/gen_meta_features.py:122: RuntimeWarning: Precision loss occurred in moment calculation due to catastrophic cancellation. This occurs when the data are nearly identical. Results may be unreliable.\n",
      "  return_list.append(kurtosis(x, nan_policy='omit')[0])\n",
      "/Users/ifgrdo/anaconda3/envs/metaOD/lib/python3.11/site-packages/metaod/models/gen_meta_features.py:119: RuntimeWarning: Precision loss occurred in moment calculation due to catastrophic cancellation. This occurs when the data are nearly identical. Results may be unreliable.\n",
      "  return_list.append(skew(x, nan_policy='omit')[0])\n",
      "/Users/ifgrdo/anaconda3/envs/metaOD/lib/python3.11/site-packages/metaod/models/gen_meta_features.py:122: RuntimeWarning: Precision loss occurred in moment calculation due to catastrophic cancellation. This occurs when the data are nearly identical. Results may be unreliable.\n",
      "  return_list.append(kurtosis(x, nan_policy='omit')[0])\n",
      "/Users/ifgrdo/anaconda3/envs/metaOD/lib/python3.11/site-packages/scipy/stats/_stats_py.py:1606: RuntimeWarning: Precision loss occurred in moment calculation due to catastrophic cancellation. This occurs when the data are nearly identical. Results may be unreliable.\n",
      "  b2 = skew(a, axis)\n",
      "/Users/ifgrdo/anaconda3/envs/metaOD/lib/python3.11/site-packages/scipy/stats/_stats_py.py:1808: RuntimeWarning: Precision loss occurred in moment calculation due to catastrophic cancellation. This occurs when the data are nearly identical. Results may be unreliable.\n",
      "  b2 = kurtosis(a, axis, fisher=False)\n",
      "/Users/ifgrdo/anaconda3/envs/metaOD/lib/python3.11/site-packages/metaod/models/gen_meta_features.py:236: RuntimeWarning: Precision loss occurred in moment calculation due to catastrophic cancellation. This occurs when the data are nearly identical. Results may be unreliable.\n",
      "  moment_5 = moment(X, moment=5)\n",
      "/Users/ifgrdo/anaconda3/envs/metaOD/lib/python3.11/site-packages/metaod/models/gen_meta_features.py:237: RuntimeWarning: Precision loss occurred in moment calculation due to catastrophic cancellation. This occurs when the data are nearly identical. Results may be unreliable.\n",
      "  moment_6 = moment(X, moment=6)\n",
      "/Users/ifgrdo/anaconda3/envs/metaOD/lib/python3.11/site-packages/metaod/models/gen_meta_features.py:238: RuntimeWarning: Precision loss occurred in moment calculation due to catastrophic cancellation. This occurs when the data are nearly identical. Results may be unreliable.\n",
      "  moment_7 = moment(X, moment=7)\n",
      "/Users/ifgrdo/anaconda3/envs/metaOD/lib/python3.11/site-packages/metaod/models/gen_meta_features.py:239: RuntimeWarning: Precision loss occurred in moment calculation due to catastrophic cancellation. This occurs when the data are nearly identical. Results may be unreliable.\n",
      "  moment_8 = moment(X, moment=8)\n",
      "/Users/ifgrdo/anaconda3/envs/metaOD/lib/python3.11/site-packages/metaod/models/gen_meta_features.py:240: RuntimeWarning: Precision loss occurred in moment calculation due to catastrophic cancellation. This occurs when the data are nearly identical. Results may be unreliable.\n",
      "  moment_9 = moment(X, moment=9)\n",
      "/Users/ifgrdo/anaconda3/envs/metaOD/lib/python3.11/site-packages/metaod/models/gen_meta_features.py:241: RuntimeWarning: Precision loss occurred in moment calculation due to catastrophic cancellation. This occurs when the data are nearly identical. Results may be unreliable.\n",
      "  moment_10 = moment(X, moment=10)\n"
     ]
    },
    {
     "name": "stdout",
     "output_type": "stream",
     "text": [
      "Dataset(name='Mnist', path='mnist.mat')\n"
     ]
    },
    {
     "name": "stderr",
     "output_type": "stream",
     "text": [
      "/Users/ifgrdo/anaconda3/envs/metaOD/lib/python3.11/site-packages/metaod/models/gen_meta_features.py:256: RuntimeWarning: Precision loss occurred in moment calculation due to catastrophic cancellation. This occurs when the data are nearly identical. Results may be unreliable.\n",
      "  skewness_list = skew(X).reshape(-1, 1)\n",
      "/Users/ifgrdo/anaconda3/envs/metaOD/lib/python3.11/site-packages/metaod/models/gen_meta_features.py:262: RuntimeWarning: Precision loss occurred in moment calculation due to catastrophic cancellation. This occurs when the data are nearly identical. Results may be unreliable.\n",
      "  kurtosis_list = kurtosis(X)\n",
      "/Users/ifgrdo/anaconda3/envs/metaOD/lib/python3.11/site-packages/scipy/stats/_stats_py.py:4167: ConstantInputWarning: Each of the input arrays is constant;the F statistic is not defined or infinite\n",
      "  warnings.warn(stats.ConstantInputWarning(msg))\n",
      "/Users/ifgrdo/anaconda3/envs/metaOD/lib/python3.11/site-packages/metaod/models/gen_meta_features.py:119: RuntimeWarning: Precision loss occurred in moment calculation due to catastrophic cancellation. This occurs when the data are nearly identical. Results may be unreliable.\n",
      "  return_list.append(skew(x, nan_policy='omit')[0])\n",
      "/Users/ifgrdo/anaconda3/envs/metaOD/lib/python3.11/site-packages/metaod/models/gen_meta_features.py:122: RuntimeWarning: Precision loss occurred in moment calculation due to catastrophic cancellation. This occurs when the data are nearly identical. Results may be unreliable.\n",
      "  return_list.append(kurtosis(x, nan_policy='omit')[0])\n",
      "/Users/ifgrdo/anaconda3/envs/metaOD/lib/python3.11/site-packages/metaod/models/gen_meta_features.py:119: RuntimeWarning: Precision loss occurred in moment calculation due to catastrophic cancellation. This occurs when the data are nearly identical. Results may be unreliable.\n",
      "  return_list.append(skew(x, nan_policy='omit')[0])\n",
      "/Users/ifgrdo/anaconda3/envs/metaOD/lib/python3.11/site-packages/metaod/models/gen_meta_features.py:122: RuntimeWarning: Precision loss occurred in moment calculation due to catastrophic cancellation. This occurs when the data are nearly identical. Results may be unreliable.\n",
      "  return_list.append(kurtosis(x, nan_policy='omit')[0])\n",
      "/Users/ifgrdo/anaconda3/envs/metaOD/lib/python3.11/site-packages/metaod/models/gen_meta_features.py:119: RuntimeWarning: Precision loss occurred in moment calculation due to catastrophic cancellation. This occurs when the data are nearly identical. Results may be unreliable.\n",
      "  return_list.append(skew(x, nan_policy='omit')[0])\n",
      "/Users/ifgrdo/anaconda3/envs/metaOD/lib/python3.11/site-packages/metaod/models/gen_meta_features.py:122: RuntimeWarning: Precision loss occurred in moment calculation due to catastrophic cancellation. This occurs when the data are nearly identical. Results may be unreliable.\n",
      "  return_list.append(kurtosis(x, nan_policy='omit')[0])\n"
     ]
    },
    {
     "name": "stdout",
     "output_type": "stream",
     "text": [
      "Dataset(name='Musk', path='musk.mat')\n"
     ]
    },
    {
     "name": "stderr",
     "output_type": "stream",
     "text": [
      "/Users/ifgrdo/anaconda3/envs/metaOD/lib/python3.11/site-packages/metaod/models/gen_meta_features.py:119: RuntimeWarning: Precision loss occurred in moment calculation due to catastrophic cancellation. This occurs when the data are nearly identical. Results may be unreliable.\n",
      "  return_list.append(skew(x, nan_policy='omit')[0])\n",
      "/Users/ifgrdo/anaconda3/envs/metaOD/lib/python3.11/site-packages/metaod/models/gen_meta_features.py:122: RuntimeWarning: Precision loss occurred in moment calculation due to catastrophic cancellation. This occurs when the data are nearly identical. Results may be unreliable.\n",
      "  return_list.append(kurtosis(x, nan_policy='omit')[0])\n",
      "/Users/ifgrdo/anaconda3/envs/metaOD/lib/python3.11/site-packages/metaod/models/gen_meta_features.py:119: RuntimeWarning: Precision loss occurred in moment calculation due to catastrophic cancellation. This occurs when the data are nearly identical. Results may be unreliable.\n",
      "  return_list.append(skew(x, nan_policy='omit')[0])\n",
      "/Users/ifgrdo/anaconda3/envs/metaOD/lib/python3.11/site-packages/metaod/models/gen_meta_features.py:122: RuntimeWarning: Precision loss occurred in moment calculation due to catastrophic cancellation. This occurs when the data are nearly identical. Results may be unreliable.\n",
      "  return_list.append(kurtosis(x, nan_policy='omit')[0])\n",
      "/Users/ifgrdo/anaconda3/envs/metaOD/lib/python3.11/site-packages/metaod/models/gen_meta_features.py:178: RuntimeWarning: invalid value encountered in scalar divide\n",
      "  quant_coeff_disp = (q75 - q25) / (q75 + q25)\n",
      "/Users/ifgrdo/anaconda3/envs/metaOD/lib/python3.11/site-packages/scipy/stats/_stats_py.py:4167: ConstantInputWarning: Each of the input arrays is constant;the F statistic is not defined or infinite\n",
      "  warnings.warn(stats.ConstantInputWarning(msg))\n"
     ]
    },
    {
     "name": "stdout",
     "output_type": "stream",
     "text": [
      "Dataset(name='Optdigits', path='optdigits.mat')\n"
     ]
    },
    {
     "name": "stderr",
     "output_type": "stream",
     "text": [
      "/Users/ifgrdo/anaconda3/envs/metaOD/lib/python3.11/site-packages/metaod/models/gen_meta_features.py:119: RuntimeWarning: Precision loss occurred in moment calculation due to catastrophic cancellation. This occurs when the data are nearly identical. Results may be unreliable.\n",
      "  return_list.append(skew(x, nan_policy='omit')[0])\n",
      "/Users/ifgrdo/anaconda3/envs/metaOD/lib/python3.11/site-packages/metaod/models/gen_meta_features.py:122: RuntimeWarning: Precision loss occurred in moment calculation due to catastrophic cancellation. This occurs when the data are nearly identical. Results may be unreliable.\n",
      "  return_list.append(kurtosis(x, nan_policy='omit')[0])\n",
      "/Users/ifgrdo/anaconda3/envs/metaOD/lib/python3.11/site-packages/metaod/models/gen_meta_features.py:119: RuntimeWarning: Precision loss occurred in moment calculation due to catastrophic cancellation. This occurs when the data are nearly identical. Results may be unreliable.\n",
      "  return_list.append(skew(x, nan_policy='omit')[0])\n",
      "/Users/ifgrdo/anaconda3/envs/metaOD/lib/python3.11/site-packages/metaod/models/gen_meta_features.py:122: RuntimeWarning: Precision loss occurred in moment calculation due to catastrophic cancellation. This occurs when the data are nearly identical. Results may be unreliable.\n",
      "  return_list.append(kurtosis(x, nan_policy='omit')[0])\n",
      "/Users/ifgrdo/anaconda3/envs/metaOD/lib/python3.11/site-packages/metaod/models/gen_meta_features.py:178: RuntimeWarning: invalid value encountered in scalar divide\n",
      "  quant_coeff_disp = (q75 - q25) / (q75 + q25)\n",
      "/Users/ifgrdo/anaconda3/envs/metaOD/lib/python3.11/site-packages/metaod/models/gen_meta_features.py:119: RuntimeWarning: Precision loss occurred in moment calculation due to catastrophic cancellation. This occurs when the data are nearly identical. Results may be unreliable.\n",
      "  return_list.append(skew(x, nan_policy='omit')[0])\n",
      "/Users/ifgrdo/anaconda3/envs/metaOD/lib/python3.11/site-packages/metaod/models/gen_meta_features.py:122: RuntimeWarning: Precision loss occurred in moment calculation due to catastrophic cancellation. This occurs when the data are nearly identical. Results may be unreliable.\n",
      "  return_list.append(kurtosis(x, nan_policy='omit')[0])\n"
     ]
    },
    {
     "name": "stdout",
     "output_type": "stream",
     "text": [
      "Dataset(name='Pendigits', path='pendigits.mat')\n"
     ]
    },
    {
     "name": "stderr",
     "output_type": "stream",
     "text": [
      "/Users/ifgrdo/anaconda3/envs/metaOD/lib/python3.11/site-packages/metaod/models/gen_meta_features.py:119: RuntimeWarning: Precision loss occurred in moment calculation due to catastrophic cancellation. This occurs when the data are nearly identical. Results may be unreliable.\n",
      "  return_list.append(skew(x, nan_policy='omit')[0])\n",
      "/Users/ifgrdo/anaconda3/envs/metaOD/lib/python3.11/site-packages/metaod/models/gen_meta_features.py:122: RuntimeWarning: Precision loss occurred in moment calculation due to catastrophic cancellation. This occurs when the data are nearly identical. Results may be unreliable.\n",
      "  return_list.append(kurtosis(x, nan_policy='omit')[0])\n",
      "/Users/ifgrdo/anaconda3/envs/metaOD/lib/python3.11/site-packages/metaod/models/gen_meta_features.py:119: RuntimeWarning: Precision loss occurred in moment calculation due to catastrophic cancellation. This occurs when the data are nearly identical. Results may be unreliable.\n",
      "  return_list.append(skew(x, nan_policy='omit')[0])\n",
      "/Users/ifgrdo/anaconda3/envs/metaOD/lib/python3.11/site-packages/metaod/models/gen_meta_features.py:122: RuntimeWarning: Precision loss occurred in moment calculation due to catastrophic cancellation. This occurs when the data are nearly identical. Results may be unreliable.\n",
      "  return_list.append(kurtosis(x, nan_policy='omit')[0])\n",
      "/Users/ifgrdo/anaconda3/envs/metaOD/lib/python3.11/site-packages/metaod/models/gen_meta_features.py:178: RuntimeWarning: invalid value encountered in scalar divide\n",
      "  quant_coeff_disp = (q75 - q25) / (q75 + q25)\n",
      "/Users/ifgrdo/anaconda3/envs/metaOD/lib/python3.11/site-packages/metaod/models/gen_meta_features.py:119: RuntimeWarning: Precision loss occurred in moment calculation due to catastrophic cancellation. This occurs when the data are nearly identical. Results may be unreliable.\n",
      "  return_list.append(skew(x, nan_policy='omit')[0])\n",
      "/Users/ifgrdo/anaconda3/envs/metaOD/lib/python3.11/site-packages/metaod/models/gen_meta_features.py:122: RuntimeWarning: Precision loss occurred in moment calculation due to catastrophic cancellation. This occurs when the data are nearly identical. Results may be unreliable.\n",
      "  return_list.append(kurtosis(x, nan_policy='omit')[0])\n",
      "/Users/ifgrdo/anaconda3/envs/metaOD/lib/python3.11/site-packages/metaod/models/gen_meta_features.py:119: RuntimeWarning: Precision loss occurred in moment calculation due to catastrophic cancellation. This occurs when the data are nearly identical. Results may be unreliable.\n",
      "  return_list.append(skew(x, nan_policy='omit')[0])\n",
      "/Users/ifgrdo/anaconda3/envs/metaOD/lib/python3.11/site-packages/metaod/models/gen_meta_features.py:122: RuntimeWarning: Precision loss occurred in moment calculation due to catastrophic cancellation. This occurs when the data are nearly identical. Results may be unreliable.\n",
      "  return_list.append(kurtosis(x, nan_policy='omit')[0])\n",
      "/Users/ifgrdo/anaconda3/envs/metaOD/lib/python3.11/site-packages/metaod/models/gen_meta_features.py:119: RuntimeWarning: Precision loss occurred in moment calculation due to catastrophic cancellation. This occurs when the data are nearly identical. Results may be unreliable.\n",
      "  return_list.append(skew(x, nan_policy='omit')[0])\n",
      "/Users/ifgrdo/anaconda3/envs/metaOD/lib/python3.11/site-packages/metaod/models/gen_meta_features.py:122: RuntimeWarning: Precision loss occurred in moment calculation due to catastrophic cancellation. This occurs when the data are nearly identical. Results may be unreliable.\n",
      "  return_list.append(kurtosis(x, nan_policy='omit')[0])\n",
      "/Users/ifgrdo/anaconda3/envs/metaOD/lib/python3.11/site-packages/metaod/models/gen_meta_features.py:119: RuntimeWarning: Precision loss occurred in moment calculation due to catastrophic cancellation. This occurs when the data are nearly identical. Results may be unreliable.\n",
      "  return_list.append(skew(x, nan_policy='omit')[0])\n",
      "/Users/ifgrdo/anaconda3/envs/metaOD/lib/python3.11/site-packages/metaod/models/gen_meta_features.py:122: RuntimeWarning: Precision loss occurred in moment calculation due to catastrophic cancellation. This occurs when the data are nearly identical. Results may be unreliable.\n",
      "  return_list.append(kurtosis(x, nan_policy='omit')[0])\n"
     ]
    },
    {
     "name": "stdout",
     "output_type": "stream",
     "text": [
      "Dataset(name='Pima', path='pima.mat')\n",
      "Dataset(name='Satellite', path='satellite.mat')\n"
     ]
    },
    {
     "name": "stderr",
     "output_type": "stream",
     "text": [
      "/Users/ifgrdo/anaconda3/envs/metaOD/lib/python3.11/site-packages/metaod/models/gen_meta_features.py:119: RuntimeWarning: Precision loss occurred in moment calculation due to catastrophic cancellation. This occurs when the data are nearly identical. Results may be unreliable.\n",
      "  return_list.append(skew(x, nan_policy='omit')[0])\n",
      "/Users/ifgrdo/anaconda3/envs/metaOD/lib/python3.11/site-packages/metaod/models/gen_meta_features.py:122: RuntimeWarning: Precision loss occurred in moment calculation due to catastrophic cancellation. This occurs when the data are nearly identical. Results may be unreliable.\n",
      "  return_list.append(kurtosis(x, nan_policy='omit')[0])\n",
      "/Users/ifgrdo/anaconda3/envs/metaOD/lib/python3.11/site-packages/metaod/models/gen_meta_features.py:119: RuntimeWarning: Precision loss occurred in moment calculation due to catastrophic cancellation. This occurs when the data are nearly identical. Results may be unreliable.\n",
      "  return_list.append(skew(x, nan_policy='omit')[0])\n",
      "/Users/ifgrdo/anaconda3/envs/metaOD/lib/python3.11/site-packages/metaod/models/gen_meta_features.py:122: RuntimeWarning: Precision loss occurred in moment calculation due to catastrophic cancellation. This occurs when the data are nearly identical. Results may be unreliable.\n",
      "  return_list.append(kurtosis(x, nan_policy='omit')[0])\n",
      "/Users/ifgrdo/anaconda3/envs/metaOD/lib/python3.11/site-packages/metaod/models/gen_meta_features.py:119: RuntimeWarning: Precision loss occurred in moment calculation due to catastrophic cancellation. This occurs when the data are nearly identical. Results may be unreliable.\n",
      "  return_list.append(skew(x, nan_policy='omit')[0])\n",
      "/Users/ifgrdo/anaconda3/envs/metaOD/lib/python3.11/site-packages/metaod/models/gen_meta_features.py:122: RuntimeWarning: Precision loss occurred in moment calculation due to catastrophic cancellation. This occurs when the data are nearly identical. Results may be unreliable.\n",
      "  return_list.append(kurtosis(x, nan_policy='omit')[0])\n"
     ]
    },
    {
     "name": "stdout",
     "output_type": "stream",
     "text": [
      "Dataset(name='Satimage-2', path='satimage-2.mat')\n"
     ]
    },
    {
     "name": "stderr",
     "output_type": "stream",
     "text": [
      "/Users/ifgrdo/anaconda3/envs/metaOD/lib/python3.11/site-packages/metaod/models/gen_meta_features.py:119: RuntimeWarning: Precision loss occurred in moment calculation due to catastrophic cancellation. This occurs when the data are nearly identical. Results may be unreliable.\n",
      "  return_list.append(skew(x, nan_policy='omit')[0])\n",
      "/Users/ifgrdo/anaconda3/envs/metaOD/lib/python3.11/site-packages/metaod/models/gen_meta_features.py:122: RuntimeWarning: Precision loss occurred in moment calculation due to catastrophic cancellation. This occurs when the data are nearly identical. Results may be unreliable.\n",
      "  return_list.append(kurtosis(x, nan_policy='omit')[0])\n",
      "/Users/ifgrdo/anaconda3/envs/metaOD/lib/python3.11/site-packages/metaod/models/gen_meta_features.py:119: RuntimeWarning: Precision loss occurred in moment calculation due to catastrophic cancellation. This occurs when the data are nearly identical. Results may be unreliable.\n",
      "  return_list.append(skew(x, nan_policy='omit')[0])\n",
      "/Users/ifgrdo/anaconda3/envs/metaOD/lib/python3.11/site-packages/metaod/models/gen_meta_features.py:122: RuntimeWarning: Precision loss occurred in moment calculation due to catastrophic cancellation. This occurs when the data are nearly identical. Results may be unreliable.\n",
      "  return_list.append(kurtosis(x, nan_policy='omit')[0])\n",
      "/Users/ifgrdo/anaconda3/envs/metaOD/lib/python3.11/site-packages/metaod/models/gen_meta_features.py:174: RuntimeWarning: overflow encountered in scalar subtract\n",
      "  sample_range = sample_max - sample_min\n",
      "/Users/ifgrdo/anaconda3/envs/metaOD/lib/python3.11/site-packages/metaod/models/gen_meta_features.py:119: RuntimeWarning: Precision loss occurred in moment calculation due to catastrophic cancellation. This occurs when the data are nearly identical. Results may be unreliable.\n",
      "  return_list.append(skew(x, nan_policy='omit')[0])\n",
      "/Users/ifgrdo/anaconda3/envs/metaOD/lib/python3.11/site-packages/metaod/models/gen_meta_features.py:122: RuntimeWarning: Precision loss occurred in moment calculation due to catastrophic cancellation. This occurs when the data are nearly identical. Results may be unreliable.\n",
      "  return_list.append(kurtosis(x, nan_policy='omit')[0])\n"
     ]
    },
    {
     "name": "stdout",
     "output_type": "stream",
     "text": [
      "Dataset(name='Shuttle', path='shuttle.mat')\n"
     ]
    },
    {
     "name": "stderr",
     "output_type": "stream",
     "text": [
      "/Users/ifgrdo/anaconda3/envs/metaOD/lib/python3.11/site-packages/metaod/models/gen_meta_features.py:119: RuntimeWarning: Precision loss occurred in moment calculation due to catastrophic cancellation. This occurs when the data are nearly identical. Results may be unreliable.\n",
      "  return_list.append(skew(x, nan_policy='omit')[0])\n",
      "/Users/ifgrdo/anaconda3/envs/metaOD/lib/python3.11/site-packages/metaod/models/gen_meta_features.py:122: RuntimeWarning: Precision loss occurred in moment calculation due to catastrophic cancellation. This occurs when the data are nearly identical. Results may be unreliable.\n",
      "  return_list.append(kurtosis(x, nan_policy='omit')[0])\n",
      "/Users/ifgrdo/anaconda3/envs/metaOD/lib/python3.11/site-packages/metaod/models/gen_meta_features.py:119: RuntimeWarning: Precision loss occurred in moment calculation due to catastrophic cancellation. This occurs when the data are nearly identical. Results may be unreliable.\n",
      "  return_list.append(skew(x, nan_policy='omit')[0])\n",
      "/Users/ifgrdo/anaconda3/envs/metaOD/lib/python3.11/site-packages/metaod/models/gen_meta_features.py:122: RuntimeWarning: Precision loss occurred in moment calculation due to catastrophic cancellation. This occurs when the data are nearly identical. Results may be unreliable.\n",
      "  return_list.append(kurtosis(x, nan_policy='omit')[0])\n"
     ]
    },
    {
     "name": "stdout",
     "output_type": "stream",
     "text": [
      "Dataset(name='Speech', path='speech.mat')\n"
     ]
    },
    {
     "name": "stderr",
     "output_type": "stream",
     "text": [
      "/Users/ifgrdo/anaconda3/envs/metaOD/lib/python3.11/site-packages/metaod/models/gen_meta_features.py:119: RuntimeWarning: Precision loss occurred in moment calculation due to catastrophic cancellation. This occurs when the data are nearly identical. Results may be unreliable.\n",
      "  return_list.append(skew(x, nan_policy='omit')[0])\n",
      "/Users/ifgrdo/anaconda3/envs/metaOD/lib/python3.11/site-packages/metaod/models/gen_meta_features.py:122: RuntimeWarning: Precision loss occurred in moment calculation due to catastrophic cancellation. This occurs when the data are nearly identical. Results may be unreliable.\n",
      "  return_list.append(kurtosis(x, nan_policy='omit')[0])\n",
      "/Users/ifgrdo/anaconda3/envs/metaOD/lib/python3.11/site-packages/metaod/models/gen_meta_features.py:119: RuntimeWarning: Precision loss occurred in moment calculation due to catastrophic cancellation. This occurs when the data are nearly identical. Results may be unreliable.\n",
      "  return_list.append(skew(x, nan_policy='omit')[0])\n",
      "/Users/ifgrdo/anaconda3/envs/metaOD/lib/python3.11/site-packages/metaod/models/gen_meta_features.py:122: RuntimeWarning: Precision loss occurred in moment calculation due to catastrophic cancellation. This occurs when the data are nearly identical. Results may be unreliable.\n",
      "  return_list.append(kurtosis(x, nan_policy='omit')[0])\n",
      "/Users/ifgrdo/anaconda3/envs/metaOD/lib/python3.11/site-packages/metaod/models/gen_meta_features.py:119: RuntimeWarning: Precision loss occurred in moment calculation due to catastrophic cancellation. This occurs when the data are nearly identical. Results may be unreliable.\n",
      "  return_list.append(skew(x, nan_policy='omit')[0])\n",
      "/Users/ifgrdo/anaconda3/envs/metaOD/lib/python3.11/site-packages/metaod/models/gen_meta_features.py:122: RuntimeWarning: Precision loss occurred in moment calculation due to catastrophic cancellation. This occurs when the data are nearly identical. Results may be unreliable.\n",
      "  return_list.append(kurtosis(x, nan_policy='omit')[0])\n",
      "/Users/ifgrdo/anaconda3/envs/metaOD/lib/python3.11/site-packages/metaod/models/gen_meta_features.py:119: RuntimeWarning: Precision loss occurred in moment calculation due to catastrophic cancellation. This occurs when the data are nearly identical. Results may be unreliable.\n",
      "  return_list.append(skew(x, nan_policy='omit')[0])\n",
      "/Users/ifgrdo/anaconda3/envs/metaOD/lib/python3.11/site-packages/metaod/models/gen_meta_features.py:122: RuntimeWarning: Precision loss occurred in moment calculation due to catastrophic cancellation. This occurs when the data are nearly identical. Results may be unreliable.\n",
      "  return_list.append(kurtosis(x, nan_policy='omit')[0])\n"
     ]
    },
    {
     "name": "stdout",
     "output_type": "stream",
     "text": [
      "Dataset(name='Thyroid', path='thyroid.mat')\n"
     ]
    },
    {
     "name": "stderr",
     "output_type": "stream",
     "text": [
      "/Users/ifgrdo/anaconda3/envs/metaOD/lib/python3.11/site-packages/metaod/models/gen_meta_features.py:119: RuntimeWarning: Precision loss occurred in moment calculation due to catastrophic cancellation. This occurs when the data are nearly identical. Results may be unreliable.\n",
      "  return_list.append(skew(x, nan_policy='omit')[0])\n",
      "/Users/ifgrdo/anaconda3/envs/metaOD/lib/python3.11/site-packages/metaod/models/gen_meta_features.py:122: RuntimeWarning: Precision loss occurred in moment calculation due to catastrophic cancellation. This occurs when the data are nearly identical. Results may be unreliable.\n",
      "  return_list.append(kurtosis(x, nan_policy='omit')[0])\n",
      "/Users/ifgrdo/anaconda3/envs/metaOD/lib/python3.11/site-packages/metaod/models/gen_meta_features.py:119: RuntimeWarning: Precision loss occurred in moment calculation due to catastrophic cancellation. This occurs when the data are nearly identical. Results may be unreliable.\n",
      "  return_list.append(skew(x, nan_policy='omit')[0])\n",
      "/Users/ifgrdo/anaconda3/envs/metaOD/lib/python3.11/site-packages/metaod/models/gen_meta_features.py:122: RuntimeWarning: Precision loss occurred in moment calculation due to catastrophic cancellation. This occurs when the data are nearly identical. Results may be unreliable.\n",
      "  return_list.append(kurtosis(x, nan_policy='omit')[0])\n",
      "/Users/ifgrdo/anaconda3/envs/metaOD/lib/python3.11/site-packages/metaod/models/gen_meta_features.py:119: RuntimeWarning: Precision loss occurred in moment calculation due to catastrophic cancellation. This occurs when the data are nearly identical. Results may be unreliable.\n",
      "  return_list.append(skew(x, nan_policy='omit')[0])\n",
      "/Users/ifgrdo/anaconda3/envs/metaOD/lib/python3.11/site-packages/metaod/models/gen_meta_features.py:122: RuntimeWarning: Precision loss occurred in moment calculation due to catastrophic cancellation. This occurs when the data are nearly identical. Results may be unreliable.\n",
      "  return_list.append(kurtosis(x, nan_policy='omit')[0])\n",
      "/Users/ifgrdo/anaconda3/envs/metaOD/lib/python3.11/site-packages/metaod/models/gen_meta_features.py:119: RuntimeWarning: Precision loss occurred in moment calculation due to catastrophic cancellation. This occurs when the data are nearly identical. Results may be unreliable.\n",
      "  return_list.append(skew(x, nan_policy='omit')[0])\n",
      "/Users/ifgrdo/anaconda3/envs/metaOD/lib/python3.11/site-packages/metaod/models/gen_meta_features.py:122: RuntimeWarning: Precision loss occurred in moment calculation due to catastrophic cancellation. This occurs when the data are nearly identical. Results may be unreliable.\n",
      "  return_list.append(kurtosis(x, nan_policy='omit')[0])\n",
      "/Users/ifgrdo/anaconda3/envs/metaOD/lib/python3.11/site-packages/metaod/models/gen_meta_features.py:119: RuntimeWarning: Precision loss occurred in moment calculation due to catastrophic cancellation. This occurs when the data are nearly identical. Results may be unreliable.\n",
      "  return_list.append(skew(x, nan_policy='omit')[0])\n",
      "/Users/ifgrdo/anaconda3/envs/metaOD/lib/python3.11/site-packages/metaod/models/gen_meta_features.py:122: RuntimeWarning: Precision loss occurred in moment calculation due to catastrophic cancellation. This occurs when the data are nearly identical. Results may be unreliable.\n",
      "  return_list.append(kurtosis(x, nan_policy='omit')[0])\n",
      "/Users/ifgrdo/anaconda3/envs/metaOD/lib/python3.11/site-packages/metaod/models/gen_meta_features.py:119: RuntimeWarning: Precision loss occurred in moment calculation due to catastrophic cancellation. This occurs when the data are nearly identical. Results may be unreliable.\n",
      "  return_list.append(skew(x, nan_policy='omit')[0])\n",
      "/Users/ifgrdo/anaconda3/envs/metaOD/lib/python3.11/site-packages/metaod/models/gen_meta_features.py:122: RuntimeWarning: Precision loss occurred in moment calculation due to catastrophic cancellation. This occurs when the data are nearly identical. Results may be unreliable.\n",
      "  return_list.append(kurtosis(x, nan_policy='omit')[0])\n"
     ]
    },
    {
     "name": "stdout",
     "output_type": "stream",
     "text": [
      "Dataset(name='Vertebral', path='vertebral.mat')\n",
      "Dataset(name='Vowels', path='vowels.mat')\n"
     ]
    },
    {
     "name": "stderr",
     "output_type": "stream",
     "text": [
      "/Users/ifgrdo/anaconda3/envs/metaOD/lib/python3.11/site-packages/metaod/models/gen_meta_features.py:119: RuntimeWarning: Precision loss occurred in moment calculation due to catastrophic cancellation. This occurs when the data are nearly identical. Results may be unreliable.\n",
      "  return_list.append(skew(x, nan_policy='omit')[0])\n",
      "/Users/ifgrdo/anaconda3/envs/metaOD/lib/python3.11/site-packages/metaod/models/gen_meta_features.py:122: RuntimeWarning: Precision loss occurred in moment calculation due to catastrophic cancellation. This occurs when the data are nearly identical. Results may be unreliable.\n",
      "  return_list.append(kurtosis(x, nan_policy='omit')[0])\n",
      "/Users/ifgrdo/anaconda3/envs/metaOD/lib/python3.11/site-packages/metaod/models/gen_meta_features.py:119: RuntimeWarning: Precision loss occurred in moment calculation due to catastrophic cancellation. This occurs when the data are nearly identical. Results may be unreliable.\n",
      "  return_list.append(skew(x, nan_policy='omit')[0])\n",
      "/Users/ifgrdo/anaconda3/envs/metaOD/lib/python3.11/site-packages/metaod/models/gen_meta_features.py:122: RuntimeWarning: Precision loss occurred in moment calculation due to catastrophic cancellation. This occurs when the data are nearly identical. Results may be unreliable.\n",
      "  return_list.append(kurtosis(x, nan_policy='omit')[0])\n",
      "/Users/ifgrdo/anaconda3/envs/metaOD/lib/python3.11/site-packages/metaod/models/gen_meta_features.py:178: RuntimeWarning: invalid value encountered in scalar divide\n",
      "  quant_coeff_disp = (q75 - q25) / (q75 + q25)\n",
      "/Users/ifgrdo/anaconda3/envs/metaOD/lib/python3.11/site-packages/metaod/models/gen_meta_features.py:119: RuntimeWarning: Precision loss occurred in moment calculation due to catastrophic cancellation. This occurs when the data are nearly identical. Results may be unreliable.\n",
      "  return_list.append(skew(x, nan_policy='omit')[0])\n",
      "/Users/ifgrdo/anaconda3/envs/metaOD/lib/python3.11/site-packages/metaod/models/gen_meta_features.py:122: RuntimeWarning: Precision loss occurred in moment calculation due to catastrophic cancellation. This occurs when the data are nearly identical. Results may be unreliable.\n",
      "  return_list.append(kurtosis(x, nan_policy='omit')[0])\n",
      "/Users/ifgrdo/anaconda3/envs/metaOD/lib/python3.11/site-packages/metaod/models/gen_meta_features.py:119: RuntimeWarning: Precision loss occurred in moment calculation due to catastrophic cancellation. This occurs when the data are nearly identical. Results may be unreliable.\n",
      "  return_list.append(skew(x, nan_policy='omit')[0])\n",
      "/Users/ifgrdo/anaconda3/envs/metaOD/lib/python3.11/site-packages/metaod/models/gen_meta_features.py:122: RuntimeWarning: Precision loss occurred in moment calculation due to catastrophic cancellation. This occurs when the data are nearly identical. Results may be unreliable.\n",
      "  return_list.append(kurtosis(x, nan_policy='omit')[0])\n",
      "/Users/ifgrdo/anaconda3/envs/metaOD/lib/python3.11/site-packages/metaod/models/gen_meta_features.py:119: RuntimeWarning: Precision loss occurred in moment calculation due to catastrophic cancellation. This occurs when the data are nearly identical. Results may be unreliable.\n",
      "  return_list.append(skew(x, nan_policy='omit')[0])\n",
      "/Users/ifgrdo/anaconda3/envs/metaOD/lib/python3.11/site-packages/metaod/models/gen_meta_features.py:122: RuntimeWarning: Precision loss occurred in moment calculation due to catastrophic cancellation. This occurs when the data are nearly identical. Results may be unreliable.\n",
      "  return_list.append(kurtosis(x, nan_policy='omit')[0])\n"
     ]
    },
    {
     "name": "stdout",
     "output_type": "stream",
     "text": [
      "Dataset(name='Wbc', path='wbc.mat')\n",
      "Dataset(name='Wine', path='wine.mat')\n"
     ]
    },
    {
     "name": "stderr",
     "output_type": "stream",
     "text": [
      "/Users/ifgrdo/anaconda3/envs/metaOD/lib/python3.11/site-packages/metaod/models/gen_meta_features.py:119: RuntimeWarning: Precision loss occurred in moment calculation due to catastrophic cancellation. This occurs when the data are nearly identical. Results may be unreliable.\n",
      "  return_list.append(skew(x, nan_policy='omit')[0])\n",
      "/Users/ifgrdo/anaconda3/envs/metaOD/lib/python3.11/site-packages/metaod/models/gen_meta_features.py:122: RuntimeWarning: Precision loss occurred in moment calculation due to catastrophic cancellation. This occurs when the data are nearly identical. Results may be unreliable.\n",
      "  return_list.append(kurtosis(x, nan_policy='omit')[0])\n",
      "/Users/ifgrdo/anaconda3/envs/metaOD/lib/python3.11/site-packages/metaod/models/gen_meta_features.py:119: RuntimeWarning: Precision loss occurred in moment calculation due to catastrophic cancellation. This occurs when the data are nearly identical. Results may be unreliable.\n",
      "  return_list.append(skew(x, nan_policy='omit')[0])\n",
      "/Users/ifgrdo/anaconda3/envs/metaOD/lib/python3.11/site-packages/metaod/models/gen_meta_features.py:122: RuntimeWarning: Precision loss occurred in moment calculation due to catastrophic cancellation. This occurs when the data are nearly identical. Results may be unreliable.\n",
      "  return_list.append(kurtosis(x, nan_policy='omit')[0])\n"
     ]
    }
   ],
   "source": [
    "meta_mat = np.zeros((len(data_list), 200))\n",
    "\n",
    "for index, dataset in enumerate(data_list):\n",
    "    print(dataset)\n",
    "    mat = loadmat('../data/datasets/' + dataset.path)\n",
    "    X = mat['X']\n",
    "    meta_mat[index, :], meta_vec_names = generate_meta_features(X)"
   ]
  },
  {
   "cell_type": "code",
   "execution_count": 193,
   "metadata": {},
   "outputs": [
    {
     "name": "stdout",
     "output_type": "stream",
     "text": [
      "Annthyroid {'n_samples': 7200.0, 'n_features': 6.0, 'sample_mean': 0.14430651111111112, 'sample_median': 0.095, 'sample_var': 0.03669061941821191, 'sample_min': 0.0, 'sample_max': 0.97, 'sample_std': 0.19154795592282345, 'q1': 0.0, 'q25': 1e-05, 'q75': 3e-05, 'q99': 5e-05, 'iqr': 1.9999999999999998e-05, 'normalized_mean': 0.14876959908361972, 'normalized_median': 0.0979381443298969, 'sample_range': 0.97, 'sample_gini': 0.5989186931249482, 'med_abs_dev': 0.069, 'avg_abs_dev': 0.12864815667901233, 'quant_coeff_disp': 0.4999999999999999, 'coeff_var': 0.25425477433905513, 'percent_outliers_15iqr': 5.932916666666666, 'percent_outliers_3iqr': 5.913611111111111, 'percent_outliers_1_99': 5.932916666666666, 'percent_outliers_3std': 0.17888888888888888, 'has_outliers_15iqr': 1.0, 'has_outliers_3iqr': 1.0, 'has_outliers_1_99': 1.0, 'has_outliers_3std': 1.0, 'normality_p_min': 0.0, 'normality_p_max': 1.1941469202585856e-202, 'normality_p_mean': 1.9902448670976426e-203, 'normality_p_std': 0.0, 'normality_p_skewness': nan, 'normality_p_kurtosis': nan, 'is_normal_5_min': 1.0, 'is_normal_5_max': 1.0, 'is_normal_5_mean': 1.0, 'is_normal_5_std': 0.0, 'is_normal_5_skewness': nan, 'is_normal_5_kurtosis': nan, 'is_normal_1_min': 1.0, 'is_normal_1_max': 1.0, 'is_normal_1_mean': 1.0, 'is_normal_1_std': 0.0, 'is_normal_1_skewness': nan, 'is_normal_1_kurtosis': nan, 'moment_5_min': -0.00026308531860555766, 'moment_5_max': 3.3280404433197035e-05, 'moment_5_mean': -3.441052208992061e-05, 'moment_5_std': 0.00010290115211295744, 'moment_5_skewness': -1.7383750091165298, 'moment_5_kurtosis': 1.1144148761654735, 'moment_6_min': 2.7606145360487063e-09, 'moment_6_max': 0.0002929368543743844, 'moment_6_mean': 5.31021665124245e-05, 'moment_6_std': 0.0001073895059860217, 'moment_6_skewness': 1.7790731494528464, 'moment_6_kurtosis': 1.182121588706309, 'moment_7_min': -4.838223813610721e-05, 'moment_7_max': 7.302815618963075e-06, 'moment_7_mean': -6.065385914629557e-06, 'moment_7_std': 1.9092248860250952e-05, 'moment_7_skewness': -1.7167650688611327, 'moment_7_kurtosis': 1.0797138810288747, 'moment_8_min': 6.41018458093051e-11, 'moment_8_max': 4.0559258272162706e-05, 'moment_8_mean': 7.713324538314077e-06, 'moment_8_std': 1.4738703287657945e-05, 'moment_8_skewness': 1.7623990140620907, 'moment_8_kurtosis': 1.151019290607481, 'moment_9_min': -9.758347449205942e-06, 'moment_9_max': 1.6686066289467502e-06, 'moment_9_mean': -1.1659076939515676e-06, 'moment_9_std': 3.8864794506856975e-06, 'moment_9_skewness': -1.696294462368915, 'moment_9_kurtosis': 1.046602900832446, 'moment_10_min': 9.778069975523483e-13, 'moment_10_max': 6.845524258364435e-06, 'moment_10_mean': 1.3653322408615445e-06, 'moment_10_std': 2.4670177014203566e-06, 'moment_10_skewness': 1.7376678950512672, 'moment_10_kurtosis': 1.1044155904008912, 'skewness_min': -0.21252805922345863, 'skewness_max': 14.522537791735905, 'skewness_mean': 3.8241372676023637, 'skewness_std': 4.914321575759337, 'skewness_skewness': 1.5816472165517228, 'skewness_kurtosis': 0.8412390155769458, 'kurtosis_min': -0.8764616707190691, 'kurtosis_max': 261.765008299574, 'kurtosis_mean': 57.56637415920514, 'kurtosis_std': 92.55630027284475, 'kurtosis_skewness': 1.6867251949875264, 'kurtosis_kurtosis': 1.006492482924652, 'correlation_min': -0.27707668603881996, 'correlation_max': 0.787510237962353, 'correlation_mean': 0.07004110439397454, 'correlation_std': 0.308669028929971, 'correlation_skewness': 0.8120946217285152, 'correlation_kurtosis': -0.37989569286390035, 'covariance_min': -0.0005828004327973795, 'covariance_max': 0.0010224857250659136, 'covariance_mean': -1.367432112510679e-05, 'covariance_std': 0.0003569992396712294, 'covariance_skewness': 1.2596035121251974, 'covariance_kurtosis': 2.3454311523490503, 'sparsity_min': 0.011805555555555555, 'sparsity_max': 0.06472222222222222, 'sparsity_mean': 0.03259259259259259, 'sparsity_std': 0.01878471865657984, 'sparsity_skewness': 0.4640666354924639, 'sparsity_kurtosis': -1.0995872123779264, 'anova_p_value_min': 0.0, 'anova_p_value_max': 3.027938967192575e-10, 'anova_p_value_mean': 2.0186259781283833e-11, 'anova_p_value_std': 7.553006802197838e-11, 'anova_p_value_skewness': 3.474396144861517, 'anova_p_value_kurtosis': 10.07142857142857, 'first_pca_std': 0.11056704054992852, 'first_pca_skewness': -0.7000098529531656, 'first_pca_kurtosis': -1.4999999999999996, 'entropy_min': 0.00045325283602860975, 'entropy_max': 0.0006924176332083118, 'entropy_mean': 0.0006091735319199238, 'entropy_std': 8.24590880590473e-05, 'entropy_skewness': -0.8235249354344447, 'entropy_kurtosis': -0.5714766617917242, 'HBOS_mean_min': 1.0416666666666667, 'HBOS_mean_max': 5.571030640668523, 'HBOS_mean_mean': 2.727310032078432, 'HBOS_mean_std': 1.7186905673114756, 'HBOS_mean_skewness': 0.7137766069986964, 'HBOS_mean_kurtosis': -1.278152842756988, 'HBOS_max_min': 1.977719907407408, 'HBOS_max_max': 36.11884865366759, 'HBOS_max_mean': 17.542263290011828, 'HBOS_max_std': 11.095427363534133, 'HBOS_max_skewness': 0.3359988274783752, 'HBOS_max_kurtosis': -0.9546101084481422, 'HBOS_min_min': 0.0, 'HBOS_min_max': 0.05642361111111111, 'HBOS_min_mean': 0.013690629286694107, 'HBOS_min_std': 0.021293781473866152, 'HBOS_min_skewness': 1.1999054376730693, 'HBOS_min_kurtosis': -0.16583050399810872, 'IForest_n_leaves_min': 20.0, 'IForest_n_leaves_max': 86.0, 'IForest_n_leaves_mean': 48.3, 'IForest_n_leaves_std': 16.47877422625846, 'IForest_n_leaves_skewness': 0.3085846433393983, 'IForest_n_leaves_kurtosis': -0.6258944422556176, 'IForest_n_depth_min': 8.0, 'IForest_n_depth_max': 8.0, 'IForest_n_depth_mean': 8.0, 'IForest_n_depth_std': 0.0, 'IForest_n_depth_skewness': nan, 'IForest_n_depth_kurtosis': nan, 'IForest_fi_mean_min': 0.16666666666666663, 'IForest_fi_mean_max': 0.1666666666666667, 'IForest_fi_mean_mean': 0.1666666666666667, 'IForest_fi_mean_std': 5.564975606931872e-17, 'IForest_fi_mean_skewness': nan, 'IForest_fi_mean_kurtosis': nan, 'IForest_fi_max_min': 0.20234617207248984, 'IForest_fi_max_max': 0.47875302834068617, 'IForest_fi_max_mean': 0.3133559952618247, 'IForest_fi_max_std': 0.06163449309661292, 'IForest_fi_max_skewness': 0.5886346124431174, 'IForest_fi_max_kurtosis': -0.10841829150910698, 'pca_expl_ratio_1': 0.3826153692965368, 'pca_expl_ratio_2': 0.23079250179578578, 'pca_expl_ratio_3': 0.1518096986343639, 'pca_sv_1': 128.5650961715908, 'pca_sv_2': 99.85106948640033, 'pca_sv_3': 80.98258443026205, 'LODA_n_hists_mean_min': 0.03693888888888897, 'LODA_n_hists_mean_max': 0.18317499999999992, 'LODA_n_hists_mean_mean': 0.1, 'LODA_n_hists_mean_std': 0.04334763263004826, 'LODA_n_hists_mean_skewness': 0.36145310643313167, 'LODA_n_hists_mean_kurtosis': -0.5773405904899289, 'LODA_n_hists_max_min': 0.6363888888888882, 'LODA_n_hists_max_max': 0.9855555555555543, 'LODA_n_hists_max_mean': 0.8589722222222212, 'LODA_n_hists_max_std': 0.11534228784013907, 'LODA_n_hists_max_skewness': -0.7151981015634089, 'LODA_n_hists_max_kurtosis': -0.8808538188506425, 'LODA_n_cuts_mean_min': 0.09999999999999999, 'LODA_n_cuts_mean_max': 0.10000000000000002, 'LODA_n_cuts_mean_mean': 0.09999999999999998, 'LODA_n_cuts_mean_std': 3.245741332238011e-17, 'LODA_n_cuts_mean_skewness': nan, 'LODA_n_cuts_mean_kurtosis': nan, 'LODA_n_cuts_max_min': 0.18319444444444433, 'LODA_n_cuts_max_max': 0.9855555555555543, 'LODA_n_cuts_max_mean': 0.5600249999999994, 'LODA_n_cuts_max_std': 0.24462422711637494, 'LODA_n_cuts_max_skewness': -0.2133919779071945, 'LODA_n_cuts_max_kurtosis': -1.2297277370286304}\n",
      "Arrhythmia {'n_samples': 452.0, 'n_features': 274.0, 'sample_mean': 10.125108197144884, 'sample_median': 0.0, 'sample_var': 1110.5044251304032, 'sample_min': -242.4, 'sample_max': 780.0, 'sample_std': 33.32423180105437, 'q1': -143.08392999999998, 'q25': -39.03825, 'q75': -25.2, 'q99': -21.7, 'iqr': 13.838249999999999, 'normalized_mean': 0.012980907945057544, 'normalized_median': 0.0, 'sample_range': 1022.4, 'sample_gini': 0.04079017365422492, 'med_abs_dev': 0.0, 'avg_abs_dev': 17.035481803009542, 'quant_coeff_disp': -0.21542071896416853, 'coeff_var': 109.67827735841355, 'percent_outliers_15iqr': 262.0553097345133, 'percent_outliers_3iqr': 49.54867256637168, 'percent_outliers_1_99': 271.28982300884957, 'percent_outliers_3std': 4.4402654867256635, 'has_outliers_15iqr': 1.0, 'has_outliers_3iqr': 1.0, 'has_outliers_1_99': 1.0, 'has_outliers_3std': 1.0, 'normality_p_min': 0.0, 'normality_p_max': 0.4223705830544068, 'normality_p_mean': 0.004113142026213961, 'normality_p_std': 0.034824498294081394, 'normality_p_skewness': 9.929364031924148, 'normality_p_kurtosis': 103.06426176508795, 'is_normal_5_min': 0.0, 'is_normal_5_max': 1.0, 'is_normal_5_mean': 0.9233576642335767, 'is_normal_5_std': 0.26602309699477256, 'is_normal_5_skewness': -3.1828639619355745, 'is_normal_5_kurtosis': 8.13062300018822, 'is_normal_1_min': 0.0, 'is_normal_1_max': 1.0, 'is_normal_1_mean': 0.916058394160584, 'is_normal_1_std': 0.27730022114761493, 'is_normal_1_skewness': -3.000779389491394, 'is_normal_1_kurtosis': 7.004676944396335, 'moment_5_min': -2482548686.199658, 'moment_5_max': 230007270370.01224, 'moment_5_mean': 900219317.5796413, 'moment_5_std': 13890464578.339153, 'moment_5_skewness': 16.37789317615888, 'moment_5_kurtosis': 267.1088562555876, 'moment_6_min': 0.0, 'moment_6_max': 134779059061001.73, 'moment_6_mean': 531150362530.7165, 'moment_6_std': 8134391956521.144, 'moment_6_skewness': 16.406763581835214, 'moment_6_kurtosis': 267.7575690831196, 'moment_7_min': -101736140257749.78, 'moment_7_max': 7.989861534569467e+16, 'moment_7_mean': 300244315720460.9, 'moment_7_std': 4819059201567131.0, 'moment_7_skewness': 16.44647955777861, 'moment_7_kurtosis': 268.65469906609013, 'moment_8_min': 0.0, 'moment_8_max': 4.779232575177879e+19, 'moment_8_mean': 1.781130921233695e+17, 'moment_8_std': 2.882129568389455e+18, 'moment_8_skewness': 16.45559100742419, 'moment_8_kurtosis': 268.8578613175457, 'moment_9_min': -5.089141874606488e+18, 'moment_9_max': 2.878305416941872e+22, 'moment_9_mean': 1.0619026900645664e+20, 'moment_9_std': 1.7356846343355976e+21, 'moment_9_skewness': 16.45985699490511, 'moment_9_kurtosis': 268.95234346287174, 'moment_10_min': 0.0, 'moment_10_max': 1.7423305407303532e+25, 'moment_10_mean': 6.402241181462781e+22, 'moment_10_std': 1.0506502725565552e+24, 'moment_10_skewness': 16.461308256518485, 'moment_10_kurtosis': 268.98432887700176, 'skewness_min': -21.1896724206605, 'skewness_max': 21.1896724206605, 'skewness_mean': 4.200419482040424, 'skewness_std': 7.931576910271617, 'skewness_skewness': 0.12409747390489115, 'skewness_kurtosis': 0.6804218137581226, 'kurtosis_min': -1.9581379706016175, 'kurtosis_max': 447.0022172949003, 'kurtosis_mean': 85.12221242579261, 'kurtosis_std': 126.70151098996618, 'kurtosis_skewness': 1.750900544402442, 'kurtosis_kurtosis': 2.0750973653804374, 'correlation_min': -1.0000000000000002, 'correlation_max': 0.9977687615606295, 'correlation_mean': 0.009543725301475516, 'correlation_std': 0.13983762872459193, 'correlation_skewness': 0.600219979899015, 'correlation_kurtosis': 8.901529176504797, 'covariance_min': -601.982300884956, 'covariance_max': 920.2515876714484, 'covariance_mean': 1.3636182274876638, 'covariance_std': 29.46367185361879, 'covariance_skewness': 5.443860319281678, 'covariance_kurtosis': 156.58178518681126, 'sparsity_min': 0.0022123893805309734, 'sparsity_max': 0.8495575221238938, 'sparsity_mean': 0.11794296234093406, 'sparsity_std': 0.19677236109359883, 'sparsity_skewness': 2.2529785280883883, 'sparsity_kurtosis': 4.047565480086847, 'anova_p_value_min': 0.0, 'anova_p_value_max': 1.0, 'anova_p_value_mean': 0.04846544057185725, 'anova_p_value_std': 0.15685784826117788, 'anova_p_value_skewness': 4.096398784161962, 'anova_p_value_kurtosis': 17.490481085917175, 'first_pca_std': 29.41965017623237, 'first_pca_skewness': -0.4643952444833386, 'first_pca_kurtosis': -1.5000000000000002, 'entropy_min': 0.0, 'entropy_max': 0.013046507125272461, 'entropy_mean': 0.004084301232256603, 'entropy_std': 0.004247113953992867, 'entropy_skewness': 0.6384465691099676, 'entropy_kurtosis': -0.9208465418906844, 'HBOS_mean_min': 0.0014814814814814816, 'HBOS_mean_max': 2.4999999999999973, 'HBOS_mean_mean': 0.3631931401304401, 'HBOS_mean_std': 0.4569413045739255, 'HBOS_mean_skewness': 0.9846058987254213, 'HBOS_mean_kurtosis': 0.11184431972278608, 'HBOS_max_min': 0.009035330676214282, 'HBOS_max_max': 24.944690265486702, 'HBOS_max_mean': 3.4507237296796256, 'HBOS_max_std': 4.595214646353108, 'HBOS_max_skewness': 1.0187356855297518, 'HBOS_max_kurtosis': 0.13832129719229336, 'HBOS_min_min': 0.0, 'HBOS_min_max': 0.008194034742707308, 'HBOS_min_mean': 0.00024501588952270117, 'HBOS_min_std': 0.0008758613856405196, 'HBOS_min_skewness': 6.287743894817479, 'HBOS_min_kurtosis': 45.528278990693686, 'IForest_n_leaves_min': 12.0, 'IForest_n_leaves_max': 77.0, 'IForest_n_leaves_mean': 33.99, 'IForest_n_leaves_std': 12.563833013853694, 'IForest_n_leaves_skewness': 0.5959689523097171, 'IForest_n_leaves_kurtosis': 0.22704789494803146, 'IForest_n_depth_min': 8.0, 'IForest_n_depth_max': 8.0, 'IForest_n_depth_mean': 8.0, 'IForest_n_depth_std': 0.0, 'IForest_n_depth_skewness': nan, 'IForest_n_depth_kurtosis': nan, 'IForest_fi_mean_min': 0.0036496350364963494, 'IForest_fi_mean_max': 0.003649635036496351, 'IForest_fi_mean_mean': 0.0036496350364963502, 'IForest_fi_mean_std': 3.805534180917389e-19, 'IForest_fi_mean_skewness': nan, 'IForest_fi_mean_kurtosis': nan, 'IForest_fi_max_min': 0.08108909271680047, 'IForest_fi_max_max': 0.44502135078370425, 'IForest_fi_max_mean': 0.16013067862164646, 'IForest_fi_max_std': 0.06334549891905424, 'IForest_fi_max_skewness': 1.740989058825302, 'IForest_fi_max_kurtosis': 3.9436374555371385, 'pca_expl_ratio_1': 0.07931055479782932, 'pca_expl_ratio_2': 0.07146410025130998, 'pca_expl_ratio_3': 0.052882293195671407, 'pca_sv_1': 95.98453671052984, 'pca_sv_2': 91.11287363261667, 'pca_sv_3': 78.37741196787488, 'LODA_n_hists_mean_min': 0.01641592920354167, 'LODA_n_hists_mean_max': 0.17758849557521955, 'LODA_n_hists_mean_mean': 0.1, 'LODA_n_hists_mean_std': 0.05515632796449775, 'LODA_n_hists_mean_skewness': -0.1678496070708938, 'LODA_n_hists_mean_kurtosis': -1.4813315017920896, 'LODA_n_hists_max_min': 0.25884955752212035, 'LODA_n_hists_max_max': 0.8163716814159134, 'LODA_n_hists_max_mean': 0.6061946902654756, 'LODA_n_hists_max_std': 0.1401055731181431, 'LODA_n_hists_max_skewness': -1.143673621260455, 'LODA_n_hists_max_kurtosis': 1.3517503055789204, 'LODA_n_cuts_mean_min': 0.09999999999999998, 'LODA_n_cuts_mean_max': 0.10000000000000002, 'LODA_n_cuts_mean_mean': 0.09999999999999996, 'LODA_n_cuts_mean_std': 3.5490254769855515e-17, 'LODA_n_cuts_mean_skewness': nan, 'LODA_n_cuts_mean_kurtosis': nan, 'LODA_n_cuts_max_min': 0.21902654867256371, 'LODA_n_cuts_max_max': 0.8163716814159134, 'LODA_n_cuts_max_mean': 0.41230088495574535, 'LODA_n_cuts_max_std': 0.11884321506017295, 'LODA_n_cuts_max_skewness': 0.6991635350181721, 'LODA_n_cuts_max_kurtosis': 0.35903392220711616}\n",
      "Breastw {'n_samples': 683.0, 'n_features': 9.0, 'sample_mean': 3.148365056124939, 'sample_median': 2.0, 'sample_var': 8.38046056105646, 'sample_min': 1.0, 'sample_max': 10.0, 'sample_std': 2.894902513221552, 'q1': 1.0, 'q25': 1.0, 'q75': 1.0, 'q99': 1.0, 'iqr': 0.0, 'normalized_mean': 0.3148365056124939, 'normalized_median': 0.2, 'sample_range': 9.0, 'sample_gini': 0.4608291358582488, 'med_abs_dev': 1.0, 'avg_abs_dev': 2.3324492665977674, 'quant_coeff_disp': 0.0, 'coeff_var': 2.661845247187209, 'percent_outliers_15iqr': 4.838945827232797, 'percent_outliers_3iqr': 4.838945827232797, 'percent_outliers_1_99': 4.838945827232797, 'percent_outliers_3std': 0.0, 'has_outliers_15iqr': 1.0, 'has_outliers_3iqr': 1.0, 'has_outliers_1_99': 1.0, 'has_outliers_3std': 0.0, 'normality_p_min': 1.2604067195606295e-112, 'normality_p_max': 1.0931976828454229e-13, 'normality_p_mean': 1.21466411015327e-14, 'normality_p_std': 3.4355888590104466e-14, 'normality_p_skewness': 2.474873734152915, 'normality_p_kurtosis': 4.124999999999999, 'is_normal_5_min': 1.0, 'is_normal_5_max': 1.0, 'is_normal_5_mean': 1.0, 'is_normal_5_std': 0.0, 'is_normal_5_skewness': nan, 'is_normal_5_kurtosis': nan, 'is_normal_1_min': 1.0, 'is_normal_1_max': 1.0, 'is_normal_1_mean': 1.0, 'is_normal_1_std': 0.0, 'is_normal_1_skewness': nan, 'is_normal_1_kurtosis': nan, 'moment_5_min': 511.26873898705423, 'moment_5_max': 2227.4961951166624, 'moment_5_mean': 1317.2089737434108, 'moment_5_std': 590.5290850989896, 'moment_5_skewness': -0.015159934510630803, 'moment_5_kurtosis': -1.401423472951086, 'moment_6_min': 3425.309643311608, 'moment_6_max': 14755.08804395779, 'moment_6_mean': 9028.177250516503, 'moment_6_std': 4010.467263757827, 'moment_6_skewness': -0.14542985519592766, 'moment_6_kurtosis': -1.412984807517028, 'moment_7_min': 16671.29401793447, 'moment_7_max': 93142.80223365553, 'moment_7_mean': 60249.20031449021, 'moment_7_std': 28461.489162680882, 'moment_7_skewness': -0.3942277085429449, 'moment_7_kurtosis': -1.3876872156710338, 'moment_8_min': 101616.7660017266, 'moment_8_max': 649297.2746373209, 'moment_8_mean': 415651.1472029134, 'moment_8_std': 202924.92392991946, 'moment_8_skewness': -0.4813341990562677, 'moment_8_kurtosis': -1.4191874401216884, 'moment_9_min': 520592.1712266808, 'moment_9_max': 4545513.025992747, 'moment_9_mean': 2881603.7931723874, 'moment_9_std': 1512039.9723864845, 'moment_9_skewness': -0.427339144840382, 'moment_9_kurtosis': -1.4230719950391646, 'moment_10_min': 2989808.7305246615, 'moment_10_max': 37347243.55681777, 'moment_10_mean': 20282327.655554745, 'moment_10_std': 11563182.555875273, 'moment_10_skewness': -0.18075560808239813, 'moment_10_kurtosis': -1.3147264752709713, 'skewness_min': 0.5863628457023149, 'skewness_max': 3.5037596511648808, 'skewness_mean': 1.46366970682476, 'skewness_std': 0.7823013714100152, 'skewness_skewness': 1.7700352027803232, 'skewness_kurtosis': 2.3399074435031126, 'kurtosis_min': -0.8017799862831287, 'kurtosis_max': 12.174936688986545, 'kurtosis_mean': 1.6028727370358113, 'kurtosis_std': 3.825193192926184, 'kurtosis_skewness': 2.2706962815663285, 'kurtosis_kurtosis': 3.5233702237344806, 'correlation_min': 0.33921043558979874, 'correlation_max': 0.9072282331914423, 'correlation_mean': 0.6019393055727239, 'correlation_std': 0.13009700265659035, 'correlation_skewness': -0.30795981481174384, 'correlation_kurtosis': -0.3206391482917579, 'covariance_min': 1.468652185673864, 'covariance_max': 8.310603555986804, 'covariance_mean': 4.720494333120083, 'covariance_std': 1.84336702678342, 'covariance_skewness': -0.10091781367051124, 'covariance_kurtosis': -0.8952765733679899, 'sparsity_min': 0.013177159590043924, 'sparsity_max': 0.014641288433382138, 'sparsity_mean': 0.014478607450789003, 'sparsity_std': 0.0004601313038467854, 'sparsity_skewness': -2.4748737341529123, 'sparsity_kurtosis': 4.124999999999988, 'anova_p_value_min': 5.642072717054628e-95, 'anova_p_value_max': 0.8937799287561212, 'anova_p_value_mean': 0.1148751950782149, 'anova_p_value_std': 0.2430125978865257, 'anova_p_value_skewness': 2.2006912738202575, 'anova_p_value_kurtosis': 3.288028618000981, 'first_pca_std': 1.8552982870522798, 'first_pca_skewness': -0.26903909313679947, 'first_pca_kurtosis': -1.5, 'entropy_min': 0.0011466829810365812, 'entropy_max': 0.003094894933543932, 'entropy_mean': 0.0022924215214483717, 'entropy_std': 0.0005172154090134397, 'entropy_skewness': -0.6937778476874041, 'entropy_kurtosis': 0.44732711887439613, 'HBOS_mean_min': 0.11111111111111109, 'HBOS_mean_max': 0.11111111111111113, 'HBOS_mean_mean': 0.1111111111111111, 'HBOS_mean_std': 1.791614702062191e-17, 'HBOS_mean_skewness': nan, 'HBOS_mean_kurtosis': nan, 'HBOS_max_min': 0.22612656580445747, 'HBOS_max_max': 0.9158939319993494, 'HBOS_max_mean': 0.5757099217323718, 'HBOS_max_std': 0.20142455414502622, 'HBOS_max_skewness': -0.42677316888183103, 'HBOS_max_kurtosis': -0.4120156332116296, 'HBOS_min_min': 0.0, 'HBOS_min_max': 0.02440214738897022, 'HBOS_min_mean': 0.011026155486868026, 'HBOS_min_std': 0.007849918027080403, 'HBOS_min_skewness': 0.474498632200681, 'HBOS_min_kurtosis': -0.9369136203695492, 'IForest_n_leaves_min': 48.0, 'IForest_n_leaves_max': 106.0, 'IForest_n_leaves_mean': 76.82, 'IForest_n_leaves_std': 12.064311003948795, 'IForest_n_leaves_skewness': 0.06789646131773774, 'IForest_n_leaves_kurtosis': -0.4151824240616495, 'IForest_n_depth_min': 8.0, 'IForest_n_depth_max': 8.0, 'IForest_n_depth_mean': 8.0, 'IForest_n_depth_std': 0.0, 'IForest_n_depth_skewness': nan, 'IForest_n_depth_kurtosis': nan, 'IForest_fi_mean_min': 0.11111111111111109, 'IForest_fi_mean_max': 0.11111111111111113, 'IForest_fi_mean_mean': 0.11111111111111112, 'IForest_fi_mean_std': 1.4488835837920476e-17, 'IForest_fi_mean_skewness': nan, 'IForest_fi_mean_kurtosis': nan, 'IForest_fi_max_min': 0.14888659165120968, 'IForest_fi_max_max': 0.3893285998273582, 'IForest_fi_max_mean': 0.21318447342845728, 'IForest_fi_max_std': 0.04533492389872957, 'IForest_fi_max_skewness': 1.5212165872053722, 'IForest_fi_max_kurtosis': 3.6650154640450854, 'pca_expl_ratio_1': 0.655499927712614, 'pca_expl_ratio_2': 0.08621632057056128, 'pca_expl_ratio_3': 0.059916915515321655, 'pca_sv_1': 63.47722470027686, 'pca_sv_2': 23.021114711221962, 'pca_sv_3': 19.19138555896062, 'LODA_n_hists_mean_min': 0.07011713030746748, 'LODA_n_hists_mean_max': 0.13253294289897466, 'LODA_n_hists_mean_mean': 0.1, 'LODA_n_hists_mean_std': 0.019244784874461032, 'LODA_n_hists_mean_skewness': 0.06321712350955684, 'LODA_n_hists_mean_kurtosis': -1.1642225105628172, 'LODA_n_hists_max_min': 0.3513909224011676, 'LODA_n_hists_max_max': 0.8243045387994038, 'LODA_n_hists_max_mean': 0.6480234260614853, 'LODA_n_hists_max_std': 0.1265691751290767, 'LODA_n_hists_max_skewness': -0.7570878479779739, 'LODA_n_hists_max_kurtosis': 0.7770889647494772, 'LODA_n_cuts_mean_min': 0.09999999999999996, 'LODA_n_cuts_mean_max': 0.10000000000000002, 'LODA_n_cuts_mean_mean': 0.09999999999999996, 'LODA_n_cuts_mean_std': 3.444376352465766e-17, 'LODA_n_cuts_mean_skewness': nan, 'LODA_n_cuts_mean_kurtosis': nan, 'LODA_n_cuts_max_min': 0.21376281112737752, 'LODA_n_cuts_max_max': 0.8243045387994038, 'LODA_n_cuts_max_mean': 0.48196193265006765, 'LODA_n_cuts_max_std': 0.1406294618392363, 'LODA_n_cuts_max_skewness': -0.2898629987280817, 'LODA_n_cuts_max_kurtosis': -0.5826061840494035}\n",
      "Glass {'n_samples': 214.0, 'n_features': 9.0, 'sample_mean': 11.26585160955348, 'sample_median': 1.519155, 'sample_var': 490.44851583144714, 'sample_min': 0.0, 'sample_max': 75.41, 'sample_std': 22.14607224388666, 'q1': 0.0, 'q25': 0.0, 'q75': 0.0, 'q99': 0.0, 'iqr': 0.0, 'normalized_mean': 0.14939466396437448, 'normalized_median': 0.020145272510277153, 'sample_range': 75.41, 'sample_gini': 0.7692406600786188, 'med_abs_dev': 1.519155, 'avg_abs_dev': 14.144190334160404, 'quant_coeff_disp': nan, 'coeff_var': 43.534082715553005, 'percent_outliers_15iqr': 7.168224299065421, 'percent_outliers_3iqr': 7.168224299065421, 'percent_outliers_1_99': 7.168224299065421, 'percent_outliers_3std': 0.0, 'has_outliers_15iqr': 1.0, 'has_outliers_3iqr': 1.0, 'has_outliers_1_99': 1.0, 'has_outliers_3std': 0.0, 'normality_p_min': 4.222522236925547e-67, 'normality_p_max': 1.360631519391297e-06, 'normality_p_mean': 1.5592659241448315e-07, 'normality_p_std': 4.259800345500611e-07, 'normality_p_skewness': 2.473699641346401, 'normality_p_kurtosis': 4.121667735084524, 'is_normal_5_min': 1.0, 'is_normal_5_max': 1.0, 'is_normal_5_mean': 1.0, 'is_normal_5_std': 0.0, 'is_normal_5_skewness': nan, 'is_normal_5_kurtosis': nan, 'is_normal_1_min': 1.0, 'is_normal_1_max': 1.0, 'is_normal_1_mean': 1.0, 'is_normal_1_std': 0.0, 'is_normal_1_skewness': nan, 'is_normal_1_kurtosis': nan, 'moment_5_min': -27.331391610723408, 'moment_5_max': 204.41273418065012, 'moment_5_mean': 26.507704872966936, 'moment_5_std': 66.24472284601119, 'moment_5_skewness': 2.0636028115955574, 'moment_5_kurtosis': 2.8489928872452257, 'moment_6_min': 1.028731004255759e-13, 'moment_6_max': 1318.0759569698828, 'moment_6_mean': 195.80000075584812, 'moment_6_std': 408.88628058895443, 'moment_6_skewness': 2.232335882506919, 'moment_6_kurtosis': 3.3384003248266536, 'moment_7_min': -198.8949978413274, 'moment_7_max': 8196.22946066955, 'moment_7_mean': 1102.8191935971324, 'moment_7_std': 2576.102093219925, 'moment_7_skewness': 2.2574375558769812, 'moment_7_kurtosis': 3.4170017703945312, 'moment_8_min': 2.0700897339184875e-17, 'moment_8_max': 54204.48084492759, 'moment_8_mean': 7310.841191364732, 'moment_8_std': 16898.40444789499, 'moment_8_skewness': 2.3157298288866373, 'moment_8_kurtosis': 3.6146433439599237, 'moment_9_min': -1432.0980682090435, 'moment_9_max': 359223.63720739575, 'moment_9_mean': 46614.45883685817, 'moment_9_std': 112130.78714823793, 'moment_9_skewness': 2.351775755357072, 'moment_9_kurtosis': 3.735567416449336, 'moment_10_min': 4.567590483117104e-21, 'moment_10_max': 2439269.490508445, 'moment_10_mean': 310547.904878204, 'moment_10_std': 760256.9289353628, 'moment_10_skewness': 2.38680856883282, 'moment_10_kurtosis': 3.850820406681148, 'skewness_min': -1.1444648495986702, 'skewness_max': 6.505635834012888, 'skewness_mean': 1.6409881542827853, 'skewness_std': 2.1658625883458376, 'skewness_skewness': 0.9142917051664312, 'skewness_kurtosis': 0.34928679426228326, 'kurtosis_min': -0.4287015579881115, 'kurtosis_max': 53.392326556204594, 'kurtosis_mean': 9.650638766927123, 'kurtosis_std': 15.82819925861187, 'kurtosis_skewness': 2.2730179445974716, 'kurtosis_kurtosis': 3.5179452175954813, 'correlation_min': -0.5420521997085239, 'correlation_max': 0.810402696340081, 'correlation_mean': -0.09127650633309171, 'correlation_std': 0.2758099082505148, 'correlation_skewness': 1.0203665103387602, 'correlation_kurtosis': 1.6225233622745314, 'covariance_min': -0.9109157452503184, 'covariance_max': 0.1326108990390944, 'covariance_mean': -0.08734677052406165, 'covariance_std': 0.19022068071291715, 'covariance_skewness': -2.3894606607369666, 'covariance_kurtosis': 7.293456852487584, 'sparsity_min': 0.14953271028037382, 'sparsity_max': 0.8317757009345794, 'sparsity_mean': 0.4875389408099688, 'sparsity_std': 0.2266983993858799, 'sparsity_skewness': -0.24445152413531845, 'sparsity_kurtosis': -1.2215927594293843, 'anova_p_value_min': 0.0, 'anova_p_value_max': 0.03193283434904975, 'anova_p_value_mean': 0.0009069330559719876, 'anova_p_value_std': 0.00524565595551, 'anova_p_value_skewness': 5.742516232304015, 'anova_p_value_kurtosis': 30.9943462444773, 'first_pca_std': 0.16415322681432407, 'first_pca_skewness': -0.6828589564946111, 'first_pca_kurtosis': -1.4999999999999998, 'entropy_min': 0.0050524546310237155, 'entropy_max': 0.02395061852089847, 'entropy_mean': 0.017904870474926535, 'entropy_std': 0.006494087312740424, 'entropy_skewness': -1.0570323206008885, 'entropy_kurtosis': -0.46919383991308905, 'HBOS_mean_min': 0.09293680297397769, 'HBOS_mean_max': 43.8981562774363, 'HBOS_mean_mean': 5.2548399227557345, 'HBOS_mean_std': 13.673612940700835, 'HBOS_mean_skewness': 2.4672586373929613, 'HBOS_mean_kurtosis': 4.102835131424842, 'HBOS_max_min': 0.4516554910884899, 'HBOS_max_max': 223.5934128149793, 'HBOS_max_mean': 27.22956058645251, 'HBOS_max_std': 69.53419181986261, 'HBOS_max_skewness': 2.4603260000576386, 'HBOS_max_kurtosis': 4.08223504741888, 'HBOS_min_min': 0.0, 'HBOS_min_max': 2.0513157138988927, 'HBOS_min_mean': 0.23303468103076014, 'HBOS_min_std': 0.6428899424929395, 'HBOS_min_skewness': 2.474421164295517, 'HBOS_min_kurtosis': 4.123717615552195, 'IForest_n_leaves_min': 14.0, 'IForest_n_leaves_max': 74.0, 'IForest_n_leaves_mean': 42.27, 'IForest_n_leaves_std': 12.76076408370596, 'IForest_n_leaves_skewness': 0.2816425211924481, 'IForest_n_leaves_kurtosis': -0.25017929734867783, 'IForest_n_depth_min': 8.0, 'IForest_n_depth_max': 8.0, 'IForest_n_depth_mean': 8.0, 'IForest_n_depth_std': 0.0, 'IForest_n_depth_skewness': nan, 'IForest_n_depth_kurtosis': nan, 'IForest_fi_mean_min': 0.11111111111111108, 'IForest_fi_mean_max': 0.11111111111111113, 'IForest_fi_mean_mean': 0.1111111111111111, 'IForest_fi_mean_std': 8.441528768080324e-18, 'IForest_fi_mean_skewness': nan, 'IForest_fi_mean_kurtosis': nan, 'IForest_fi_max_min': 0.14715255861466686, 'IForest_fi_max_max': 0.5042800621130433, 'IForest_fi_max_mean': 0.26828186078910515, 'IForest_fi_max_std': 0.06508307255440977, 'IForest_fi_max_skewness': 0.8663507236065525, 'IForest_fi_max_kurtosis': 0.7070522478920962, 'pca_expl_ratio_1': 0.2790181917945646, 'pca_expl_ratio_2': 0.22778579831670423, 'pca_expl_ratio_3': 0.15609377710940467, 'pca_sv_1': 23.181653034163276, 'pca_sv_2': 20.94553526549208, 'pca_sv_3': 17.338875820326802, 'LODA_n_hists_mean_min': 0.029018691588788358, 'LODA_n_hists_mean_max': 0.13612149532710116, 'LODA_n_hists_mean_mean': 0.10000000000000002, 'LODA_n_hists_mean_std': 0.030858342685607464, 'LODA_n_hists_mean_skewness': -1.1137028079996196, 'LODA_n_hists_mean_kurtosis': 0.3456666805774713, 'LODA_n_hists_max_min': 0.30841121495326135, 'LODA_n_hists_max_max': 0.8037383177569766, 'LODA_n_hists_max_mean': 0.6406542056074513, 'LODA_n_hists_max_std': 0.13186266766380567, 'LODA_n_hists_max_skewness': -1.4104810506269871, 'LODA_n_hists_max_kurtosis': 1.3887841448752045, 'LODA_n_cuts_mean_min': 0.09999999999999999, 'LODA_n_cuts_mean_max': 0.10000000000000005, 'LODA_n_cuts_mean_mean': 0.1, 'LODA_n_cuts_mean_std': 1.0927381047259615e-17, 'LODA_n_cuts_mean_skewness': nan, 'LODA_n_cuts_mean_kurtosis': nan, 'LODA_n_cuts_max_min': 0.30373831775699983, 'LODA_n_cuts_max_max': 0.8037383177569766, 'LODA_n_cuts_max_mean': 0.4987383177569908, 'LODA_n_cuts_max_std': 0.10533596517956205, 'LODA_n_cuts_max_skewness': 0.47623211554639855, 'LODA_n_cuts_max_kurtosis': -0.07453915094982255}\n",
      "Ionosphere {'n_samples': 351.0, 'n_features': 33.0, 'sample_mean': 0.25520296727963393, 'sample_median': 0.16667, 'sample_var': 0.3394984661640261, 'sample_min': -1.0, 'sample_max': 1.0, 'sample_std': 0.582664969055139, 'q1': -1.0, 'q25': -1.0, 'q75': -1.0, 'q99': -1.0, 'iqr': 0.0, 'normalized_mean': 0.25520296727963393, 'normalized_median': 0.16667, 'sample_range': 2.0, 'sample_gini': 0.26075625512819095, 'med_abs_dev': 0.43884999999999996, 'avg_abs_dev': 0.4909651470425542, 'quant_coeff_disp': -0.0, 'coeff_var': 1.3303076754277192, 'percent_outliers_15iqr': 31.165242165242166, 'percent_outliers_3iqr': 31.165242165242166, 'percent_outliers_1_99': 31.165242165242166, 'percent_outliers_3std': 0.0, 'has_outliers_15iqr': 1.0, 'has_outliers_3iqr': 1.0, 'has_outliers_1_99': 1.0, 'has_outliers_3std': 0.0, 'normality_p_min': 1.0154017778520675e-40, 'normality_p_max': 0.9878721280439775, 'normality_p_mean': 0.26086060004069483, 'normality_p_std': 0.36293552809468893, 'normality_p_skewness': 0.9483392409888817, 'normality_p_kurtosis': -0.8613166014514104, 'is_normal_5_min': 0.0, 'is_normal_5_max': 1.0, 'is_normal_5_mean': 0.5757575757575758, 'is_normal_5_std': 0.4942274675848512, 'is_normal_5_skewness': -0.30656966974248323, 'is_normal_5_kurtosis': -1.9060150375939846, 'is_normal_1_min': 0.0, 'is_normal_1_max': 1.0, 'is_normal_1_mean': 0.5757575757575758, 'is_normal_1_std': 0.4942274675848512, 'is_normal_1_skewness': -0.30656966974248323, 'is_normal_1_kurtosis': -1.9060150375939846, 'moment_5_min': -0.559200730254472, 'moment_5_max': 0.03898514375104969, 'moment_5_mean': -0.18740233522148209, 'moment_5_std': 0.18605992311866912, 'moment_5_skewness': -0.32523215181427323, 'moment_5_kurtosis': -1.3405916442668144, 'moment_6_min': 0.05443914065993458, 'moment_6_max': 0.8950371360585396, 'moment_6_mean': 0.3473621109724051, 'moment_6_std': 0.21074931566191885, 'moment_6_skewness': 0.7953803300831334, 'moment_6_kurtosis': -0.14248629708474247, 'moment_7_min': -1.4410362154151894, 'moment_7_max': 0.06634898249316905, 'moment_7_mean': -0.36782144943691997, 'moment_7_std': 0.39901168692047584, 'moment_7_skewness': -0.8471612150688513, 'moment_7_kurtosis': 0.056474939495269716, 'moment_8_min': 0.043288687429737384, 'moment_8_max': 2.3371277970794813, 'moment_8_mean': 0.59490439296908, 'moment_8_std': 0.5501779205893991, 'moment_8_skewness': 1.4535686348120374, 'moment_8_kurtosis': 1.9924867417481549, 'moment_9_min': -3.802710405465873, 'moment_9_max': 0.094346065044688, 'moment_9_mean': -0.7482203964478394, 'moment_9_std': 0.9354128817823839, 'moment_9_skewness': -1.5707090788890385, 'moment_9_kurtosis': 2.4454441616079814, 'moment_10_min': 0.0344229981446523, 'moment_10_max': 6.201544020889098, 'moment_10_mean': 1.1540926044529616, 'moment_10_std': 1.4194330466944098, 'moment_10_skewness': 2.030321707917065, 'moment_10_kurtosis': 4.176318512454338, 'skewness_min': -2.521556633522611, 'skewness_max': 0.11216403165384112, 'skewness_mean': -0.5819729231337283, 'skewness_std': 0.6361237178600273, 'skewness_skewness': -1.0079741107235138, 'skewness_kurtosis': 0.7539743204436613, 'kurtosis_min': -0.6784485212617097, 'kurtosis_max': 4.358247856061883, 'kurtosis_mean': 0.3389582726905251, 'kurtosis_std': 1.0613920405944797, 'kurtosis_skewness': 2.1881095553356675, 'kurtosis_kurtosis': 4.872335586568787, 'correlation_min': -0.49186292379691626, 'correlation_max': 0.8255583681721089, 'correlation_mean': 0.11792479310238636, 'correlation_std': 0.26388941968990964, 'correlation_skewness': 0.21278539064365382, 'correlation_kurtosis': -0.5692538979162771, 'covariance_min': -0.15829822944677255, 'covariance_max': 0.3353256435607402, 'covariance_mean': 0.03655871843656583, 'covariance_std': 0.08302680052184669, 'covariance_skewness': 0.6272663699037696, 'covariance_kurtosis': 0.3498334184854963, 'sparsity_min': 0.005698005698005698, 'sparsity_max': 0.8005698005698005, 'sparsity_mean': 0.7033583700250366, 'sparsity_std': 0.1319663859844324, 'sparsity_skewness': -4.454498664745419, 'sparsity_kurtosis': 20.728744523173372, 'anova_p_value_min': 2.8315073116163916e-129, 'anova_p_value_max': 0.9962993307754014, 'anova_p_value_mean': 0.09561609825863858, 'anova_p_value_std': 0.222716768103001, 'anova_p_value_skewness': 2.455780033307466, 'anova_p_value_kurtosis': 4.989821111593577, 'first_pca_std': 0.15844849256586852, 'first_pca_skewness': 0.493466092682776, 'first_pca_kurtosis': -1.4999999999999996, 'entropy_min': 0.0009768272313361766, 'entropy_max': 0.01475931884770387, 'entropy_mean': 0.013409529050459815, 'entropy_std': 0.002302573420110818, 'entropy_skewness': -4.749978882897875, 'entropy_kurtosis': 22.787204079132874, 'HBOS_mean_min': 0.49999999999999983, 'HBOS_mean_max': 1.0000000000000004, 'HBOS_mean_mean': 0.5151515151515151, 'HBOS_mean_std': 0.08570991287109676, 'HBOS_mean_skewness': 5.4800775541957405, 'HBOS_mean_kurtosis': 28.031249999999982, 'HBOS_max_min': 1.1111111111111114, 'HBOS_max_max': 8.91737891737892, 'HBOS_max_mean': 1.9515669515669514, 'HBOS_max_std': 1.2855669466930786, 'HBOS_max_skewness': 4.79979382440892, 'HBOS_max_kurtosis': 23.14892220641682, 'HBOS_min_min': 0.0, 'HBOS_min_max': 0.21367521367521372, 'HBOS_min_mean': 0.10403177069843735, 'HBOS_min_std': 0.07259198138505708, 'HBOS_min_skewness': -0.07876694977979129, 'HBOS_min_kurtosis': -1.4998730616646225, 'IForest_n_leaves_min': 54.0, 'IForest_n_leaves_max': 102.0, 'IForest_n_leaves_mean': 77.91, 'IForest_n_leaves_std': 10.320944724200398, 'IForest_n_leaves_skewness': 0.019584784356422868, 'IForest_n_leaves_kurtosis': -0.825598942917452, 'IForest_n_depth_min': 8.0, 'IForest_n_depth_max': 8.0, 'IForest_n_depth_mean': 8.0, 'IForest_n_depth_std': 0.0, 'IForest_n_depth_skewness': nan, 'IForest_n_depth_kurtosis': nan, 'IForest_fi_mean_min': 0.030303030303030297, 'IForest_fi_mean_max': 0.03030303030303031, 'IForest_fi_mean_mean': 0.030303030303030293, 'IForest_fi_mean_std': 1.0315407380583415e-17, 'IForest_fi_mean_skewness': nan, 'IForest_fi_mean_kurtosis': nan, 'IForest_fi_max_min': 0.0719376080935984, 'IForest_fi_max_max': 0.2750849310030744, 'IForest_fi_max_mean': 0.11737402962123532, 'IForest_fi_max_std': 0.027932206002957642, 'IForest_fi_max_skewness': 2.1940366257285784, 'IForest_fi_max_kurtosis': 9.545414708224868, 'pca_expl_ratio_1': 0.26703461231476505, 'pca_expl_ratio_2': 0.1284437749715901, 'pca_expl_ratio_3': 0.08231057084049193, 'pca_sv_1': 55.615302880070004, 'pca_sv_2': 38.57154709751643, 'pca_sv_3': 30.877230155009336, 'LODA_n_hists_mean_min': 0.015555555555557961, 'LODA_n_hists_mean_max': 0.2292877492877456, 'LODA_n_hists_mean_mean': 0.1, 'LODA_n_hists_mean_std': 0.07495609870871142, 'LODA_n_hists_mean_skewness': 0.4654067312335791, 'LODA_n_hists_mean_kurtosis': -1.221289662938383, 'LODA_n_hists_max_min': 0.05982905982906097, 'LODA_n_hists_max_max': 0.575498575498562, 'LODA_n_hists_max_mean': 0.35811965811965074, 'LODA_n_hists_max_std': 0.15635835339326618, 'LODA_n_hists_max_skewness': -0.24584974892025213, 'LODA_n_hists_max_kurtosis': -0.8498304697023689, 'LODA_n_cuts_mean_min': 0.09999999999999998, 'LODA_n_cuts_mean_max': 0.10000000000000002, 'LODA_n_cuts_mean_mean': 0.09999999999999998, 'LODA_n_cuts_mean_std': 2.263398694898901e-17, 'LODA_n_cuts_mean_skewness': nan, 'LODA_n_cuts_mean_kurtosis': nan, 'LODA_n_cuts_max_min': 0.18233618233617999, 'LODA_n_cuts_max_max': 0.575498575498562, 'LODA_n_cuts_max_mean': 0.35082621082620363, 'LODA_n_cuts_max_std': 0.08081333053959776, 'LODA_n_cuts_max_skewness': 0.2689987515666645, 'LODA_n_cuts_max_kurtosis': -0.3973339890288954}\n",
      "Letter {'n_samples': 1600.0, 'n_features': 32.0, 'sample_mean': 5.7686328125, 'sample_median': 6.0, 'sample_var': 10.071352037048339, 'sample_min': 0.0, 'sample_max': 15.0, 'sample_std': 3.173539354892001, 'q1': 0.0, 'q25': 0.0, 'q75': 0.0, 'q99': 0.0, 'iqr': 0.0, 'normalized_mean': 0.38457552083333335, 'normalized_median': 0.4, 'sample_range': 15.0, 'sample_gini': 0.31023116597177947, 'med_abs_dev': 2.0, 'avg_abs_dev': 2.5835785171508787, 'quant_coeff_disp': nan, 'coeff_var': 1.7458819731470538, 'percent_outliers_15iqr': 29.838125, 'percent_outliers_3iqr': 29.838125, 'percent_outliers_1_99': 29.838125, 'percent_outliers_3std': 0.0, 'has_outliers_15iqr': 1.0, 'has_outliers_3iqr': 1.0, 'has_outliers_1_99': 1.0, 'has_outliers_3std': 0.0, 'normality_p_min': 3.1829859013377673e-72, 'normality_p_max': 0.011567101689994232, 'normality_p_mean': 0.0006488469640102089, 'normality_p_std': 0.002248215561855426, 'normality_p_skewness': 4.037895871361703, 'normality_p_kurtosis': 15.573317647519293, 'is_normal_5_min': 1.0, 'is_normal_5_max': 1.0, 'is_normal_5_mean': 1.0, 'is_normal_5_std': 0.0, 'is_normal_5_skewness': nan, 'is_normal_5_kurtosis': nan, 'is_normal_1_min': 0.0, 'is_normal_1_max': 1.0, 'is_normal_1_mean': 0.96875, 'is_normal_1_std': 0.17399263633843817, 'is_normal_1_skewness': -5.388159060803248, 'is_normal_1_kurtosis': 27.032258064516128, 'moment_5_min': -386.5964787087277, 'moment_5_max': 2631.4183609329584, 'moment_5_mean': 467.60725673128, 'moment_5_std': 841.8317380650271, 'moment_5_skewness': 1.5609801253426676, 'moment_5_kurtosis': 1.2675403715827658, 'moment_6_min': 216.4586644287839, 'moment_6_max': 22790.47053580149, 'moment_6_mean': 5852.621522207383, 'moment_6_std': 6952.878559271788, 'moment_6_skewness': 1.4314545983143567, 'moment_6_kurtosis': 0.7555415207556804, 'moment_7_min': -13115.363881181143, 'moment_7_max': 190199.05110484065, 'moment_7_mean': 34252.987324153735, 'moment_7_std': 61366.56502431861, 'moment_7_skewness': 1.7103968414329505, 'moment_7_kurtosis': 1.4747214103051878, 'moment_8_min': 3128.960524345514, 'moment_8_max': 1805790.7747298358, 'moment_8_mean': 376862.0105721104, 'moment_8_std': 535758.7782950785, 'moment_8_skewness': 1.613349501959628, 'moment_8_kurtosis': 1.2323933585622262, 'moment_9_min': -449142.1747456621, 'moment_9_max': 17956015.25754293, 'moment_9_mean': 2888962.776925616, 'moment_9_std': 5160412.60977852, 'moment_9_skewness': 1.7368094479490814, 'moment_9_kurtosis': 1.5682170131153352, 'moment_10_min': 51995.9720307306, 'moment_10_max': 185320325.1989799, 'moment_10_mean': 30535124.387763925, 'moment_10_std': 48898437.29853713, 'moment_10_skewness': 1.7831519625091028, 'moment_10_kurtosis': 1.983441721574831, 'skewness_min': -0.8157792383324004, 'skewness_max': 1.2979493298153215, 'skewness_mean': 0.2643695973805109, 'skewness_std': 0.647833021622264, 'skewness_skewness': -0.050986143713182164, 'skewness_kurtosis': -1.2142621971909218, 'kurtosis_min': -0.8300837127130278, 'kurtosis_max': 2.2510664342411673, 'kurtosis_mean': 0.3359832488928423, 'kurtosis_std': 0.806341478942464, 'kurtosis_skewness': 0.31680288309359517, 'kurtosis_kurtosis': -0.8972388206616708, 'correlation_min': -0.7106156317819838, 'correlation_max': 0.9053619164584011, 'correlation_mean': 0.040549204325813853, 'correlation_std': 0.27703112665518975, 'correlation_skewness': 0.5806834644370444, 'correlation_kurtosis': 0.5777890216550703, 'covariance_min': -4.493927845528465, 'covariance_max': 10.49021302376484, 'covariance_mean': 0.3302480790665536, 'covariance_std': 1.8706002986525319, 'covariance_skewness': 1.1489761828790916, 'covariance_kurtosis': 3.482128898224542, 'sparsity_min': 0.00625, 'sparsity_max': 0.01, 'sparsity_mean': 0.008417968750000001, 'sparsity_std': 0.0012400421233867169, 'sparsity_skewness': -0.20581503733884013, 'sparsity_kurtosis': -1.3023438237066354, 'anova_p_value_min': 0.0, 'anova_p_value_max': 0.9933585890836961, 'anova_p_value_mean': 0.04091098776775619, 'anova_p_value_std': 0.15950067913379914, 'anova_p_value_skewness': 4.426099725075507, 'anova_p_value_kurtosis': 19.57043290807372, 'first_pca_std': 1.3161019692964802, 'first_pca_skewness': 0.31863751423441666, 'first_pca_kurtosis': -1.5, 'entropy_min': 0.0009503556458842172, 'entropy_max': 0.0015863818928449492, 'entropy_mean': 0.0012713313518895653, 'entropy_std': 0.0001563284707702685, 'entropy_skewness': -0.2823944099226208, 'entropy_kurtosis': -0.09593555794962327, 'HBOS_mean_min': 0.06666666666666665, 'HBOS_mean_max': 0.11111111111111113, 'HBOS_mean_mean': 0.0807279526029526, 'HBOS_mean_std': 0.014317590307260838, 'HBOS_mean_skewness': 0.6955387115666563, 'HBOS_mean_kurtosis': -0.8865521329644954, 'HBOS_max_min': 0.17, 'HBOS_max_max': 0.5895833333333331, 'HBOS_max_mean': 0.307903337981463, 'HBOS_max_std': 0.11568029905108194, 'HBOS_max_skewness': 0.6235293278536973, 'HBOS_max_kurtosis': -0.6104450811179576, 'HBOS_min_min': 0.0, 'HBOS_min_max': 0.02375, 'HBOS_min_mean': 0.00548963839979465, 'HBOS_min_std': 0.005502509361868542, 'HBOS_min_skewness': 1.4554068088621661, 'HBOS_min_kurtosis': 1.8030397098548097, 'IForest_n_leaves_min': 23.0, 'IForest_n_leaves_max': 110.0, 'IForest_n_leaves_mean': 67.11, 'IForest_n_leaves_std': 19.840813995398474, 'IForest_n_leaves_skewness': 0.1003395745658785, 'IForest_n_leaves_kurtosis': -0.4808793176961941, 'IForest_n_depth_min': 8.0, 'IForest_n_depth_max': 8.0, 'IForest_n_depth_mean': 8.0, 'IForest_n_depth_std': 0.0, 'IForest_n_depth_skewness': nan, 'IForest_n_depth_kurtosis': nan, 'IForest_fi_mean_min': 0.031249999999999993, 'IForest_fi_mean_max': 0.03125000000000001, 'IForest_fi_mean_mean': 0.03125, 'IForest_fi_mean_std': 2.6193750069204537e-18, 'IForest_fi_mean_skewness': nan, 'IForest_fi_mean_kurtosis': nan, 'IForest_fi_max_min': 0.08547531434519262, 'IForest_fi_max_max': 0.37477468151806853, 'IForest_fi_max_mean': 0.13923279586436735, 'IForest_fi_max_std': 0.0425650291115776, 'IForest_fi_max_skewness': 1.84848823517401, 'IForest_fi_max_kurtosis': 7.418571205003094, 'pca_expl_ratio_1': 0.23049295504411038, 'pca_expl_ratio_2': 0.14126303355733547, 'pca_expl_ratio_3': 0.12255187264759092, 'pca_sv_1': 108.63350909483891, 'pca_sv_2': 85.04508991197302, 'pca_sv_3': 79.21272549001615, 'LODA_n_hists_mean_min': 0.010712500000000558, 'LODA_n_hists_mean_max': 0.18764999999999948, 'LODA_n_hists_mean_mean': 0.1, 'LODA_n_hists_mean_std': 0.06408911160690596, 'LODA_n_hists_mean_skewness': 0.021610407337758868, 'LODA_n_hists_mean_kurtosis': -1.4754258136979106, 'LODA_n_hists_max_min': 0.08125000000000011, 'LODA_n_hists_max_max': 0.418124999999998, 'LODA_n_hists_max_mean': 0.3104999999999987, 'LODA_n_hists_max_std': 0.10457831993295677, 'LODA_n_hists_max_skewness': -0.9523103783676822, 'LODA_n_hists_max_kurtosis': -0.21960538099834093, 'LODA_n_cuts_mean_min': 0.09999999999999998, 'LODA_n_cuts_mean_max': 0.10000000000000002, 'LODA_n_cuts_mean_mean': 0.1, 'LODA_n_cuts_mean_std': 6.938893903907228e-18, 'LODA_n_cuts_mean_skewness': nan, 'LODA_n_cuts_mean_kurtosis': nan, 'LODA_n_cuts_max_min': 0.16999999999999957, 'LODA_n_cuts_max_max': 0.418124999999998, 'LODA_n_cuts_max_mean': 0.262756249999999, 'LODA_n_cuts_max_std': 0.04705582580496778, 'LODA_n_cuts_max_skewness': 1.0366471584115597, 'LODA_n_cuts_max_kurtosis': 1.2362175538292615}\n",
      "Lympho {'n_samples': 148.0, 'n_features': 18.0, 'sample_mean': 2.0746996996997, 'sample_median': 2.0, 'sample_var': 1.7417923272371474, 'sample_min': 1.0, 'sample_max': 8.0, 'sample_std': 1.3197698008505678, 'q1': 1.0, 'q25': 1.0, 'q75': 1.0, 'q99': 1.0, 'iqr': 0.0, 'normalized_mean': 0.2593374624624625, 'normalized_median': 0.25, 'sample_range': 7.0, 'sample_gini': 0.3008339069914838, 'med_abs_dev': 1.0, 'avg_abs_dev': 0.8896590847604362, 'quant_coeff_disp': 0.0, 'coeff_var': 0.8395394897339896, 'percent_outliers_15iqr': 11.0, 'percent_outliers_3iqr': 11.0, 'percent_outliers_1_99': 11.0, 'percent_outliers_3std': 0.4189189189189189, 'has_outliers_15iqr': 1.0, 'has_outliers_3iqr': 1.0, 'has_outliers_1_99': 1.0, 'has_outliers_3std': 1.0, 'normality_p_min': 0.0, 'normality_p_max': 0.4415654106389073, 'normality_p_mean': 0.02877468185693792, 'normality_p_std': 0.10151497981536699, 'normality_p_skewness': 3.720175295041846, 'normality_p_kurtosis': 12.196634520265619, 'is_normal_5_min': 0.0, 'is_normal_5_max': 1.0, 'is_normal_5_mean': 0.8888888888888888, 'is_normal_5_std': 0.3142696805273545, 'is_normal_5_skewness': -2.474873734152916, 'is_normal_5_kurtosis': 4.124999999999997, 'is_normal_1_min': 0.0, 'is_normal_1_max': 1.0, 'is_normal_1_mean': 0.8888888888888888, 'is_normal_1_std': 0.3142696805273545, 'is_normal_1_skewness': -2.474873734152916, 'is_normal_1_kurtosis': 4.124999999999997, 'moment_5_min': -6.289626938941395, 'moment_5_max': 176.0694530938792, 'moment_5_mean': 9.413512312133228, 'moment_5_std': 40.44660405096776, 'moment_5_skewness': 3.8717920524998624, 'moment_5_kurtosis': 13.01727205742904, 'moment_6_min': 0.015650677635243627, 'moment_6_max': 826.6860089283838, 'moment_6_mean': 65.37995983142224, 'moment_6_std': 200.24503810458663, 'moment_6_skewness': 3.165491146274625, 'moment_6_kurtosis': 8.811813961374106, 'moment_7_min': -294.6921436015412, 'moment_7_max': 3826.426431302991, 'moment_7_mean': 196.09297711200986, 'moment_7_std': 883.0583009717212, 'moment_7_skewness': 3.840812327654255, 'moment_7_kurtosis': 12.876705556254352, 'moment_8_min': 0.003920518623650983, 'moment_8_max': 18365.097675334695, 'moment_8_mean': 1222.248368241445, 'moment_8_std': 4238.814267817521, 'moment_8_skewness': 3.6635800728854364, 'moment_8_kurtosis': 11.873863698416192, 'moment_9_min': -6278.2054478636865, 'moment_9_max': 89348.99827033938, 'moment_9_mean': 4614.571497697387, 'moment_9_std': 20601.190234234575, 'moment_9_skewness': 3.8475128885752836, 'moment_9_kurtosis': 12.9066067493127, 'moment_10_min': 0.0009828071560048235, 'moment_10_max': 442258.4640855327, 'moment_10_mean': 27022.447951499125, 'moment_10_std': 101212.40021927489, 'moment_10_skewness': 3.8196467509529244, 'moment_10_kurtosis': 12.743396130155155, 'skewness_min': -1.427988379975258, 'skewness_max': 5.3870465945962165, 'skewness_mean': 0.7481987022047998, 'skewness_std': 1.8089462248621166, 'skewness_skewness': 1.3072080438646156, 'skewness_kurtosis': 0.6914531201377527, 'kurtosis_min': -1.999269406392694, 'kurtosis_max': 28.71360894678211, 'kurtosis_mean': 2.3553641776577483, 'kurtosis_std': 7.831302112855914, 'kurtosis_skewness': 2.408031701481406, 'kurtosis_kurtosis': 4.748734583317175, 'correlation_min': -0.327834897388356, 'correlation_max': 0.5659572883839071, 'correlation_mean': 0.1509296539120697, 'correlation_std': 0.15948039864049063, 'correlation_skewness': 0.007851660108976402, 'correlation_kurtosis': 0.4365377146825513, 'covariance_min': -0.1413862842434272, 'covariance_max': 0.7068394925537782, 'covariance_mean': 0.07345400622711544, 'covariance_std': 0.11794147853342563, 'covariance_skewness': 2.8515712695687165, 'covariance_kurtosis': 11.654925052186675, 'sparsity_min': 0.013513513513513514, 'sparsity_max': 0.05405405405405406, 'sparsity_mean': 0.022147147147147148, 'sparsity_std': 0.012500619973984018, 'sparsity_skewness': 1.6955700786186814, 'sparsity_kurtosis': 1.8349726518256642, 'anova_p_value_min': 6.945334045396646e-82, 'anova_p_value_max': 0.8381940598564885, 'anova_p_value_mean': 0.040118812660913994, 'anova_p_value_std': 0.1299126471470163, 'anova_p_value_skewness': 3.751463494217313, 'anova_p_value_kurtosis': 14.516693635550169, 'first_pca_std': 2.0851777591715477, 'first_pca_skewness': -0.3322256885719783, 'first_pca_kurtosis': -1.5000000000000002, 'entropy_min': 0.001287020677975717, 'entropy_max': 0.011835608649976098, 'entropy_mean': 0.005515428647879658, 'entropy_std': 0.003027805064639288, 'entropy_skewness': 0.5329332229652867, 'entropy_kurtosis': -0.48682386888307416, 'HBOS_mean_min': 0.14285714285714288, 'HBOS_mean_max': 0.9999999999999993, 'HBOS_mean_mean': 0.6732804232804228, 'HBOS_mean_std': 0.33958661636589416, 'HBOS_mean_skewness': -0.22320535208684286, 'HBOS_mean_kurtosis': -1.6757433503889319, 'HBOS_max_min': 0.4343629343629342, 'HBOS_max_max': 9.527027027027017, 'HBOS_max_mean': 4.653045903045899, 'HBOS_max_std': 3.085606275057242, 'HBOS_max_skewness': 0.1033852988521611, 'HBOS_max_kurtosis': -1.475371447651494, 'HBOS_min_min': 0.0, 'HBOS_min_max': 0.0, 'HBOS_min_mean': 0.0, 'HBOS_min_std': 0.0, 'HBOS_min_skewness': nan, 'HBOS_min_kurtosis': nan, 'IForest_n_leaves_min': 33.0, 'IForest_n_leaves_max': 106.0, 'IForest_n_leaves_mean': 75.52, 'IForest_n_leaves_std': 15.62784694063773, 'IForest_n_leaves_skewness': -0.34069499096362826, 'IForest_n_leaves_kurtosis': -0.4788866482995746, 'IForest_n_depth_min': 8.0, 'IForest_n_depth_max': 8.0, 'IForest_n_depth_mean': 8.0, 'IForest_n_depth_std': 0.0, 'IForest_n_depth_skewness': nan, 'IForest_n_depth_kurtosis': nan, 'IForest_fi_mean_min': 0.055555555555555546, 'IForest_fi_mean_max': 0.055555555555555566, 'IForest_fi_mean_mean': 0.05555555555555555, 'IForest_fi_mean_std': 5.721958498152797e-18, 'IForest_fi_mean_skewness': nan, 'IForest_fi_mean_kurtosis': nan, 'IForest_fi_max_min': 0.10965442207974589, 'IForest_fi_max_max': 0.3593365379861854, 'IForest_fi_max_mean': 0.17203864576784778, 'IForest_fi_max_std': 0.04257482052097566, 'IForest_fi_max_skewness': 1.3914137921644074, 'IForest_fi_max_kurtosis': 2.773619410925126, 'pca_expl_ratio_1': 0.2135361585080229, 'pca_expl_ratio_2': 0.14563483887604559, 'pca_expl_ratio_3': 0.10435142763452768, 'pca_sv_1': 23.850792990283846, 'pca_sv_2': 19.696984814072064, 'pca_sv_3': 16.67309818895042, 'LODA_n_hists_mean_min': 0.074797297297299, 'LODA_n_hists_mean_max': 0.12533783783783614, 'LODA_n_hists_mean_mean': 0.1, 'LODA_n_hists_mean_std': 0.01951566114557271, 'LODA_n_hists_mean_skewness': 0.008974708682341436, 'LODA_n_hists_mean_kurtosis': -1.6982901356365956, 'LODA_n_hists_max_min': 0.3040540540540403, 'LODA_n_hists_max_max': 0.6283783783783428, 'LODA_n_hists_max_mean': 0.4682432432432185, 'LODA_n_hists_max_std': 0.09294163912594498, 'LODA_n_hists_max_skewness': 0.35978069444363087, 'LODA_n_hists_max_kurtosis': -0.37061612909775654, 'LODA_n_cuts_mean_min': 0.09999999999999998, 'LODA_n_cuts_mean_max': 0.10000000000000002, 'LODA_n_cuts_mean_mean': 0.1, 'LODA_n_cuts_mean_std': 8.777083671441753e-18, 'LODA_n_cuts_mean_skewness': nan, 'LODA_n_cuts_mean_kurtosis': nan, 'LODA_n_cuts_max_min': 0.15540540540540168, 'LODA_n_cuts_max_max': 0.6283783783783428, 'LODA_n_cuts_max_mean': 0.28999999999998716, 'LODA_n_cuts_max_std': 0.09175108448812393, 'LODA_n_cuts_max_skewness': 1.3518036125486756, 'LODA_n_cuts_max_kurtosis': 2.1413080518734935}\n",
      "Mammography {'n_samples': 11183.0, 'n_features': 6.0, 'sample_mean': -1.9973824601959065e-11, 'sample_median': -0.37786573, 'sample_var': 0.9999105800248023, 'sample_min': -0.94572324, 'sample_max': 31.508443, 'sample_std': 0.9999552890128649, 'q1': -0.94572324, 'q25': -0.94572324, 'q75': -0.94572324, 'q99': -0.94572324, 'iqr': 0.0, 'normalized_mean': -6.339197592835376e-13, 'normalized_median': -0.011992523083416086, 'sample_range': 32.45416624, 'sample_gini': 0.494771718052401, 'med_abs_dev': 0.48168681999999996, 'avg_abs_dev': 0.6963481624310992, 'quant_coeff_disp': -0.0, 'coeff_var': -50061047393.33344, 'percent_outliers_15iqr': 5.484395958150764, 'percent_outliers_3iqr': 5.484395958150764, 'percent_outliers_1_99': 5.484395958150764, 'percent_outliers_3std': 0.07985334883305016, 'has_outliers_15iqr': 1.0, 'has_outliers_3iqr': 1.0, 'has_outliers_1_99': 1.0, 'has_outliers_3std': 1.0, 'normality_p_min': 0.0, 'normality_p_max': 0.0, 'normality_p_mean': 0.0, 'normality_p_std': 0.0, 'normality_p_skewness': nan, 'normality_p_kurtosis': nan, 'is_normal_5_min': 1.0, 'is_normal_5_max': 1.0, 'is_normal_5_mean': 1.0, 'is_normal_5_std': 0.0, 'is_normal_5_skewness': nan, 'is_normal_5_kurtosis': nan, 'is_normal_1_min': 1.0, 'is_normal_1_max': 1.0, 'is_normal_1_mean': 1.0, 'is_normal_1_std': 0.0, 'is_normal_1_skewness': nan, 'is_normal_1_kurtosis': nan, 'moment_5_min': 0.6168995751673176, 'moment_5_max': 3799.183105528232, 'moment_5_mean': 1401.2039952470075, 'moment_5_std': 1596.2326672663896, 'moment_5_skewness': 0.5594288470684711, 'moment_5_kurtosis': -1.4991896893726344, 'moment_6_min': 1.713420522159239, 'moment_6_max': 95597.92114587614, 'moment_6_mean': 35460.1671856252, 'moment_6_std': 43005.953604405244, 'moment_6_skewness': 0.6182351462853062, 'moment_6_kurtosis': -1.5192116251817975, 'moment_7_min': 1.5057441008550676, 'moment_7_max': 2874227.1870423886, 'moment_7_mean': 970044.900012937, 'moment_7_std': 1228380.3794137514, 'moment_7_skewness': 0.6833571594651132, 'moment_7_kurtosis': -1.4393554860968363, 'moment_8_min': 2.964445962550926, 'moment_8_max': 88612853.63706662, 'moment_8_mean': 27667603.59255593, 'moment_8_std': 36362503.80453271, 'moment_8_skewness': 0.766545982925333, 'moment_8_kurtosis': -1.263172047762231, 'moment_9_min': 3.531481446068432, 'moment_9_max': 2763464928.51935, 'moment_9_mean': 809054204.6401931, 'moment_9_std': 1100184876.5699427, 'moment_9_skewness': 0.8601741814069299, 'moment_9_kurtosis': -1.0348296429394623, 'moment_10_min': 6.040023510592358, 'moment_10_max': 86644161120.3112, 'moment_10_mean': 24041658980.85986, 'moment_10_std': 33738370711.162727, 'moment_10_skewness': 0.9549066378564149, 'moment_10_kurtosis': -0.7931569738930166, 'skewness_min': 0.19718837794045124, 'skewness_max': 8.89277294234641, 'skewness_mean': 4.442679623957268, 'skewness_std': 3.1854469563015297, 'skewness_skewness': -0.023641454457921103, 'skewness_kurtosis': -1.5125872379365608, 'kurtosis_min': -1.8051970676171059, 'kurtosis_max': 163.27293566886746, 'kurtosis_mean': 62.7247356880197, 'kurtosis_std': 65.01642330739237, 'kurtosis_skewness': 0.4436018449982234, 'kurtosis_kurtosis': -1.4824578662067585, 'correlation_min': 0.005884810642284942, 'correlation_max': 0.8678207149193291, 'correlation_mean': 0.2439725949596499, 'correlation_std': 0.21698095392685868, 'correlation_skewness': 1.3351438933774835, 'correlation_kurtosis': 1.9536044505617385, 'covariance_min': 0.005884810652838161, 'covariance_max': 0.8678207151649432, 'covariance_mean': 0.24397259521159953, 'covariance_std': 0.21698095399594533, 'covariance_skewness': 1.3351438908556914, 'covariance_kurtosis': 1.9536044451796535, 'sparsity_min': 0.01430743092193508, 'sparsity_max': 0.48600554412948227, 'sparsity_mean': 0.17238963903544072, 'sparsity_std': 0.16001144965332936, 'sparsity_skewness': 1.0039701216764965, 'sparsity_kurtosis': -0.2943972524580274, 'anova_p_value_min': 1.0, 'anova_p_value_max': 1.0, 'anova_p_value_mean': 1.0, 'anova_p_value_std': 0.0, 'anova_p_value_skewness': nan, 'anova_p_value_kurtosis': nan, 'first_pca_std': 1.114515355202286, 'first_pca_skewness': 0.11030456777299955, 'first_pca_kurtosis': -1.5000000000000007, 'entropy_min': 0.0002047058282146102, 'entropy_max': 0.000585508583629554, 'entropy_mean': 0.0003667393647131358, 'entropy_std': 0.00011822376774755521, 'entropy_skewness': 0.5817368400491668, 'entropy_kurtosis': -0.425497168767607, 'HBOS_mean_min': 0.03096659966033319, 'HBOS_mean_max': 0.3454529107713717, 'HBOS_mean_mean': 0.12117044350018047, 'HBOS_mean_std': 0.1129868373905646, 'HBOS_mean_skewness': 1.1038462879506796, 'HBOS_mean_kurtosis': -0.22996546628617853, 'HBOS_max_min': 0.30470934692149365, 'HBOS_max_max': 1.7811691706230255, 'HBOS_max_mean': 0.7974504207187091, 'HBOS_max_std': 0.5870798760116477, 'HBOS_max_skewness': 0.74824344771473, 'HBOS_max_kurtosis': -1.2580708579771576, 'HBOS_min_min': 0.0, 'HBOS_min_max': 0.009817610545975691, 'HBOS_min_mean': 0.0016927096461907046, 'HBOS_min_std': 0.003635248507811752, 'HBOS_min_skewness': 1.7851762374571785, 'HBOS_min_kurtosis': 1.193262297392625, 'IForest_n_leaves_min': 17.0, 'IForest_n_leaves_max': 92.0, 'IForest_n_leaves_mean': 50.61, 'IForest_n_leaves_std': 16.18573137056216, 'IForest_n_leaves_skewness': 0.12907647023558902, 'IForest_n_leaves_kurtosis': -0.4217605876810433, 'IForest_n_depth_min': 8.0, 'IForest_n_depth_max': 8.0, 'IForest_n_depth_mean': 8.0, 'IForest_n_depth_std': 0.0, 'IForest_n_depth_skewness': nan, 'IForest_n_depth_kurtosis': nan, 'IForest_fi_mean_min': 0.16666666666666663, 'IForest_fi_mean_max': 0.1666666666666667, 'IForest_fi_mean_mean': 0.1666666666666667, 'IForest_fi_mean_std': 5.4460371963073697e-17, 'IForest_fi_mean_skewness': nan, 'IForest_fi_mean_kurtosis': nan, 'IForest_fi_max_min': 0.2217549357379785, 'IForest_fi_max_max': 0.480644663402171, 'IForest_fi_max_mean': 0.31869766838290986, 'IForest_fi_max_std': 0.05965799862326848, 'IForest_fi_max_skewness': 0.3696697645258576, 'IForest_fi_max_kurtosis': -0.7735403753831154, 'pca_expl_ratio_1': 0.40501236122436834, 'pca_expl_ratio_2': 0.20818946631002364, 'pca_expl_ratio_3': 0.16588270573694247, 'pca_sv_1': 164.84999063825472, 'pca_sv_2': 118.19093370673559, 'pca_sv_3': 105.50070042202263, 'LODA_n_hists_mean_min': 0.019881963694894103, 'LODA_n_hists_mean_max': 0.3181963694894034, 'LODA_n_hists_mean_mean': 0.1, 'LODA_n_hists_mean_std': 0.09362085732529463, 'LODA_n_hists_mean_skewness': 1.4572705319765311, 'LODA_n_hists_mean_kurtosis': 0.5680424798598556, 'LODA_n_hists_max_min': 0.5054099973173565, 'LODA_n_hists_max_max': 0.9832781901099876, 'LODA_n_hists_max_mean': 0.8678708754359288, 'LODA_n_hists_max_std': 0.13627748271597892, 'LODA_n_hists_max_skewness': -1.7351952736940537, 'LODA_n_hists_max_kurtosis': 2.17207518962834, 'LODA_n_cuts_mean_min': 0.09999999999999998, 'LODA_n_cuts_mean_max': 0.10000000000000005, 'LODA_n_cuts_mean_mean': 0.09999999999999996, 'LODA_n_cuts_mean_std': 3.37090294607909e-17, 'LODA_n_cuts_mean_skewness': nan, 'LODA_n_cuts_mean_kurtosis': nan, 'LODA_n_cuts_max_min': 0.4826969507287844, 'LODA_n_cuts_max_max': 0.9832781901099876, 'LODA_n_cuts_max_mean': 0.7467012429580606, 'LODA_n_cuts_max_std': 0.18404963556714748, 'LODA_n_cuts_max_skewness': -0.16145384244127925, 'LODA_n_cuts_max_kurtosis': -1.6607316335580569}\n",
      "Mnist {'n_samples': 7603.0, 'n_features': 100.0, 'sample_mean': 12.503158925964646, 'sample_median': -0.18931666016578674, 'sample_var': 5808.571506159315, 'sample_min': -137.1006317138672, 'sample_max': 254.13319396972656, 'sample_std': 76.2139849775572, 'q1': -137.1006317138672, 'q25': -137.1006317138672, 'q75': -137.1006317138672, 'q99': -133.33865356445312, 'iqr': 0.0, 'normalized_mean': 0.04919923576553355, 'normalized_median': -0.0007449505403388546, 'sample_range': 391.23382568359375, 'sample_gini': 0.2508629132977252, 'med_abs_dev': 10.308733075857162, 'avg_abs_dev': 52.84018038117406, 'quant_coeff_disp': -0.0, 'coeff_var': 464.56831753909506, 'percent_outliers_15iqr': 99.12442456924899, 'percent_outliers_3iqr': 99.12442456924899, 'percent_outliers_1_99': 98.99184532421413, 'percent_outliers_3std': 0.16980139418650533, 'has_outliers_15iqr': 1.0, 'has_outliers_3iqr': 1.0, 'has_outliers_1_99': 1.0, 'has_outliers_3std': 1.0, 'normality_p_min': 0.0, 'normality_p_max': 2.5877392917729973e-260, 'normality_p_mean': 3.317614476632048e-262, 'normality_p_std': 0.0, 'normality_p_skewness': nan, 'normality_p_kurtosis': nan, 'is_normal_5_min': 0.0, 'is_normal_5_max': 1.0, 'is_normal_5_mean': 0.78, 'is_normal_5_std': 0.41424630354415964, 'is_normal_5_skewness': -1.351852738838749, 'is_normal_5_kurtosis': -0.17249417249417354, 'is_normal_1_min': 0.0, 'is_normal_1_max': 1.0, 'is_normal_1_mean': 0.78, 'is_normal_1_std': 0.41424630354415964, 'is_normal_1_skewness': -1.351852738838749, 'is_normal_1_kurtosis': -0.17249417249417354, 'moment_5_min': -31689530119.89219, 'moment_5_max': 42340174526.896164, 'moment_5_mean': 6322165938.391998, 'moment_5_std': 18175562283.83684, 'moment_5_skewness': 0.5347928524218483, 'moment_5_kurtosis': -0.4101851469461959, 'moment_6_min': 0.0, 'moment_6_max': 8787851476371.152, 'moment_6_mean': 2787625396908.8735, 'moment_6_std': 2969076495591.7964, 'moment_6_skewness': 0.6549495050191297, 'moment_6_kurtosis': -0.9283584235476465, 'moment_7_min': -1010353625777665.0, 'moment_7_max': 1833278326102818.5, 'moment_7_mean': 325424362989998.44, 'moment_7_std': 728308778423029.6, 'moment_7_skewness': 0.9042765168372657, 'moment_7_kurtosis': -0.34592505487335234, 'moment_8_min': 0.0, 'moment_8_max': 3.98333998380571e+17, 'moment_8_mean': 1.0439455371653552e+17, 'moment_8_std': 1.333165621866267e+17, 'moment_8_skewness': 1.1473037345898018, 'moment_8_kurtosis': -0.20943640339230285, 'moment_9_min': -3.211452122188763e+19, 'moment_9_max': 9.073612181093671e+19, 'moment_9_mean': 1.6602483071553815e+19, 'moment_9_std': 3.2141317497712955e+19, 'moment_9_skewness': 1.1690743071277636, 'moment_9_kurtosis': -0.10597419238414885, 'moment_10_min': 0.0, 'moment_10_max': 2.101875914030293e+22, 'moment_10_mean': 4.4840550023954453e+21, 'moment_10_std': 6.505968044499957e+21, 'moment_10_skewness': 1.3288926408744597, 'moment_10_kurtosis': 0.15205859648612785, 'skewness_min': -0.9544107545500059, 'skewness_max': 87.17797962527203, 'skewness_mean': 16.290652769920122, 'skewness_std': 28.246226114607765, 'skewness_skewness': 1.79663994033453, 'skewness_kurtosis': 1.6866930832183487, 'kurtosis_min': -1.7998847785827865, 'kurtosis_max': 7598.000131544337, 'kurtosis_mean': 1077.473727151637, 'kurtosis_std': 2430.558164559365, 'kurtosis_skewness': 2.1519506180049857, 'kurtosis_kurtosis': 2.8431015568004376, 'correlation_min': -0.4838888515175861, 'correlation_max': 0.8475969762167231, 'correlation_mean': 0.011998679769730328, 'correlation_std': 0.10641217371714058, 'correlation_skewness': 2.6535802804656754, 'correlation_kurtosis': 16.070236222757963, 'covariance_min': -5437.1630731525765, 'covariance_max': 9716.55338569258, 'covariance_mean': 123.43883090413067, 'covariance_std': 962.9195734362521, 'covariance_skewness': 3.4114193895242284, 'covariance_kurtosis': 27.380220793976196, 'sparsity_min': 0.00013152702880441932, 'sparsity_max': 0.033670919373931345, 'sparsity_mean': 0.017774562672629227, 'sparsity_std': 0.015434830149947286, 'sparsity_skewness': -0.11639465679812966, 'sparsity_kurtosis': -1.9011113854899313, 'anova_p_value_min': 0.0, 'anova_p_value_max': 0.9930841851969308, 'anova_p_value_mean': 0.02324738408215081, 'anova_p_value_std': 0.11797306575273865, 'anova_p_value_skewness': 6.0197862028279, 'anova_p_value_kurtosis': 37.29992788912363, 'first_pca_std': 104.96015410443206, 'first_pca_skewness': 0.18747393199535034, 'first_pca_kurtosis': -1.5000000000000004, 'entropy_min': 0.0, 'entropy_max': 0.0005248054502998084, 'entropy_mean': 0.0001809818186587816, 'entropy_std': 0.00019984363153829755, 'entropy_skewness': 0.5389728927539804, 'entropy_kurtosis': -1.4013340511716637, 'HBOS_mean_min': 0.0039215685101208105, 'HBOS_mean_max': 0.9999999999999991, 'HBOS_mean_mean': 0.22447880956780364, 'HBOS_mean_std': 0.4119099845476678, 'HBOS_mean_skewness': 1.3511249719129137, 'HBOS_mean_kurtosis': -0.17334063719719106, 'HBOS_max_min': 0.014421551432721013, 'HBOS_max_max': 9.999999999999991, 'HBOS_max_mean': 2.236991231911794, 'HBOS_max_std': 4.123282814200067, 'HBOS_max_skewness': 1.3510530049710463, 'HBOS_max_kurtosis': -0.17342351569912884, 'HBOS_min_min': 0.0, 'HBOS_min_max': 0.001320428171236259, 'HBOS_min_mean': 0.00039968844932425433, 'HBOS_min_std': 0.00046773287537281455, 'HBOS_min_skewness': 0.6416320365915091, 'HBOS_min_kurtosis': -1.2785042226758891, 'IForest_n_leaves_min': 18.0, 'IForest_n_leaves_max': 122.0, 'IForest_n_leaves_mean': 75.08, 'IForest_n_leaves_std': 18.914375485328613, 'IForest_n_leaves_skewness': -0.10252601998011449, 'IForest_n_leaves_kurtosis': 0.047894867059355306, 'IForest_n_depth_min': 8.0, 'IForest_n_depth_max': 8.0, 'IForest_n_depth_mean': 8.0, 'IForest_n_depth_std': 0.0, 'IForest_n_depth_skewness': nan, 'IForest_n_depth_kurtosis': nan, 'IForest_fi_mean_min': 0.009999999999999997, 'IForest_fi_mean_max': 0.010000000000000002, 'IForest_fi_mean_mean': 0.009999999999999998, 'IForest_fi_mean_std': 1.9549340739251082e-18, 'IForest_fi_mean_skewness': nan, 'IForest_fi_mean_kurtosis': nan, 'IForest_fi_max_min': 0.058970887194314946, 'IForest_fi_max_max': 0.21634180455261945, 'IForest_fi_max_mean': 0.11165270303603711, 'IForest_fi_max_std': 0.02860450046619821, 'IForest_fi_max_skewness': 1.1953239863996494, 'IForest_fi_max_kurtosis': 1.6375651267374263, 'pca_expl_ratio_1': 0.09122287791470171, 'pca_expl_ratio_2': 0.07825918956679134, 'pca_expl_ratio_3': 0.05804474207128109, 'pca_sv_1': 232.59034412732447, 'pca_sv_2': 215.430639013007, 'pca_sv_3': 185.53303093923765, 'LODA_n_hists_mean_min': 0.028505852952781893, 'LODA_n_hists_mean_max': 0.1948507168223069, 'LODA_n_hists_mean_mean': 0.10000000000000002, 'LODA_n_hists_mean_std': 0.05303690942831972, 'LODA_n_hists_mean_skewness': 0.21285668979998557, 'LODA_n_hists_mean_kurtosis': -1.136933278234935, 'LODA_n_hists_max_min': 0.24858608444035232, 'LODA_n_hists_max_max': 0.7811390240694455, 'LODA_n_hists_max_mean': 0.48519005655662184, 'LODA_n_hists_max_std': 0.15552858931781657, 'LODA_n_hists_max_skewness': 0.2578805955667362, 'LODA_n_hists_max_kurtosis': -0.8043788396958451, 'LODA_n_cuts_mean_min': 0.09999999999999999, 'LODA_n_cuts_mean_max': 0.10000000000000002, 'LODA_n_cuts_mean_mean': 0.1, 'LODA_n_cuts_mean_std': 8.777083671441753e-18, 'LODA_n_cuts_mean_skewness': nan, 'LODA_n_cuts_mean_kurtosis': nan, 'LODA_n_cuts_max_min': 0.17256346179139803, 'LODA_n_cuts_max_max': 0.7811390240694455, 'LODA_n_cuts_max_mean': 0.3194212810732603, 'LODA_n_cuts_max_std': 0.11162952597439134, 'LODA_n_cuts_max_skewness': 1.4066393067692713, 'LODA_n_cuts_max_kurtosis': 2.543471597686062}\n",
      "Musk {'n_samples': 3062.0, 'n_features': 166.0, 'sample_mean': -36.23475482596618, 'sample_median': -42.0, 'sample_var': 11525.838364788639, 'sample_min': -335.0, 'sample_max': 317.0, 'sample_std': 107.35845735101003, 'q1': -323.1709, 'q25': -295.0, 'q75': -268.0, 'q99': -254.0, 'iqr': 27.0, 'normalized_mean': -0.11430522027118668, 'normalized_median': -0.13249211356466878, 'sample_range': 652.0, 'sample_gini': 0.20471496462114697, 'med_abs_dev': 77.0, 'avg_abs_dev': 88.00201988852149, 'quant_coeff_disp': -0.047957371225577264, 'coeff_var': -318.0879357441964, 'percent_outliers_15iqr': 162.21227955584584, 'percent_outliers_3iqr': 154.39418680600915, 'percent_outliers_1_99': 164.37165251469628, 'percent_outliers_3std': 0.17178314826910515, 'has_outliers_15iqr': 1.0, 'has_outliers_3iqr': 1.0, 'has_outliers_1_99': 1.0, 'has_outliers_3std': 1.0, 'normality_p_min': 0.0, 'normality_p_max': 0.00830315483392159, 'normality_p_mean': 9.132384025523551e-05, 'normality_p_std': 0.0008307744098481904, 'normality_p_skewness': 9.069651681226086, 'normality_p_kurtosis': 80.99817776472051, 'is_normal_5_min': 1.0, 'is_normal_5_max': 1.0, 'is_normal_5_mean': 1.0, 'is_normal_5_std': 0.0, 'is_normal_5_skewness': nan, 'is_normal_5_kurtosis': nan, 'is_normal_1_min': 1.0, 'is_normal_1_max': 1.0, 'is_normal_1_mean': 1.0, 'is_normal_1_std': 0.0, 'is_normal_1_skewness': nan, 'is_normal_1_kurtosis': nan, 'moment_5_min': -26082054818.22968, 'moment_5_max': 235178946971.9771, 'moment_5_mean': 13655453666.24797, 'moment_5_std': 28247446135.68861, 'moment_5_skewness': 3.4815345773935156, 'moment_5_kurtosis': 21.562969399142403, 'moment_6_min': 10967024.736082241, 'moment_6_max': 70575649474403.22, 'moment_6_mean': 6103996309219.291, 'moment_6_std': 7837374129267.923, 'moment_6_skewness': 4.042893645122898, 'moment_6_kurtosis': 26.521216329431617, 'moment_7_min': -1801126081200205.5, 'moment_7_max': 2.137523223878366e+16, 'moment_7_mean': 853315987975959.0, 'moment_7_std': 2094064657614519.5, 'moment_7_skewness': 6.043582552034717, 'moment_7_kurtosis': 53.468586592101985, 'moment_8_min': 3861536617.78054, 'moment_8_max': 6.530916114960119e+18, 'moment_8_mean': 2.9744067198524896e+17, 'moment_8_std': 5.926018251286606e+17, 'moment_8_skewness': 7.380916279646549, 'moment_8_kurtosis': 71.61619204372187, 'moment_9_min': -1.1609583583423542e+20, 'moment_9_max': 2.010431199165943e+21, 'moment_9_mean': 5.6276910708838064e+19, 'moment_9_std': 1.79187410861739e+20, 'moment_9_skewness': 8.244738370625225, 'moment_9_kurtosis': 83.63063181629231, 'moment_10_min': 1468501396829.794, 'moment_10_max': 6.229648684522543e+23, 'moment_10_mean': 1.81143628870434e+22, 'moment_10_std': 5.470631570085091e+22, 'moment_10_skewness': 8.87268997451484, 'moment_10_kurtosis': 90.33859539874511, 'skewness_min': -1.3284279514310326, 'skewness_max': 11.67972598152036, 'skewness_mean': 0.5170275661681896, 'skewness_std': 1.5564600281225192, 'skewness_skewness': 4.925706187385198, 'skewness_kurtosis': 30.23836206884274, 'kurtosis_min': -1.8093514117939518, 'kurtosis_max': 230.86191760902415, 'kurtosis_mean': 3.518322698541038, 'kurtosis_std': 22.015382309874717, 'kurtosis_skewness': 8.542512942076431, 'kurtosis_kurtosis': 77.85665558880696, 'correlation_min': -0.9205768811950017, 'correlation_max': 0.988532297478201, 'correlation_mean': 0.013426373373149695, 'correlation_std': 0.38630515082835787, 'correlation_skewness': 0.1334828318545311, 'correlation_kurtosis': -0.004556328786314179, 'covariance_min': -14921.527489170245, 'covariance_max': 19054.313674637895, 'covariance_mean': 92.01123968350585, 'covariance_std': 3871.7358316972222, 'covariance_skewness': 0.1784396310568653, 'covariance_kurtosis': 3.3585814107651553, 'sparsity_min': 0.011757021554539516, 'sparsity_max': 0.12508164598301763, 'sparsity_mean': 0.07944645990887128, 'sparsity_std': 0.02700109405198036, 'sparsity_skewness': -0.4355403623743661, 'sparsity_kurtosis': -0.6138190338762923, 'anova_p_value_min': 0.0, 'anova_p_value_max': 0.9995395699079695, 'anova_p_value_mean': 0.018406884566334252, 'anova_p_value_std': 0.10062781825233971, 'anova_p_value_skewness': 6.6950922435421, 'anova_p_value_kurtosis': 47.6886852509157, 'first_pca_std': 469.7446305588096, 'first_pca_skewness': 0.33203234895134404, 'first_pca_kurtosis': -1.4999999999999998, 'entropy_min': 0.0004165994733095803, 'entropy_max': 0.0018316073181277735, 'entropy_mean': 0.0015284065232520128, 'entropy_std': 0.00022680395647454432, 'entropy_skewness': -1.9530201453743714, 'entropy_kurtosis': 5.52129728955873, 'HBOS_mean_min': 0.0020161290322580645, 'HBOS_mean_max': 0.027777777777777762, 'HBOS_mean_mean': 0.003259367930948135, 'HBOS_mean_std': 0.0022053750144324312, 'HBOS_mean_skewness': 8.558057416689827, 'HBOS_mean_kurtosis': 89.6881475169813, 'HBOS_max_min': 0.005410901965441481, 'HBOS_max_max': 0.08064808766964233, 'HBOS_max_mean': 0.012180075918493141, 'HBOS_max_std': 0.008712031441165802, 'HBOS_max_skewness': 4.067212761379482, 'HBOS_max_kurtosis': 23.734796332644212, 'HBOS_min_min': 0.0, 'HBOS_min_max': 0.0013538388456742474, 'HBOS_min_mean': 0.00024488011349696736, 'HBOS_min_std': 0.00028416184223486264, 'HBOS_min_skewness': 1.3780369394401646, 'HBOS_min_kurtosis': 1.5541101851892671, 'IForest_n_leaves_min': 33.0, 'IForest_n_leaves_max': 109.0, 'IForest_n_leaves_mean': 76.72, 'IForest_n_leaves_std': 17.705411602106288, 'IForest_n_leaves_skewness': -0.39629664663140934, 'IForest_n_leaves_kurtosis': -0.4753185272541214, 'IForest_n_depth_min': 8.0, 'IForest_n_depth_max': 8.0, 'IForest_n_depth_mean': 8.0, 'IForest_n_depth_std': 0.0, 'IForest_n_depth_skewness': nan, 'IForest_n_depth_kurtosis': nan, 'IForest_fi_mean_min': 0.006024096385542167, 'IForest_fi_mean_max': 0.00602409638554217, 'IForest_fi_mean_mean': 0.006024096385542168, 'IForest_fi_mean_std': 9.461799498965586e-19, 'IForest_fi_mean_skewness': nan, 'IForest_fi_mean_kurtosis': nan, 'IForest_fi_max_min': 0.05319200903819804, 'IForest_fi_max_max': 0.20645608206438132, 'IForest_fi_max_mean': 0.09378105366493178, 'IForest_fi_max_std': 0.030295470835000945, 'IForest_fi_max_skewness': 1.4515120842701137, 'IForest_fi_max_kurtosis': 2.6238340006269105, 'pca_expl_ratio_1': 0.3605940593069301, 'pca_expl_ratio_2': 0.0883073019722472, 'pca_expl_ratio_3': 0.07902434542991073, 'pca_sv_1': 428.12039847832307, 'pca_sv_2': 211.86291590100774, 'pca_sv_3': 200.41816930423295, 'LODA_n_hists_mean_min': 0.014924885695624055, 'LODA_n_hists_mean_max': 0.17645003265839296, 'LODA_n_hists_mean_mean': 0.09999999999999998, 'LODA_n_hists_mean_std': 0.05891453822265584, 'LODA_n_hists_mean_skewness': -0.19804553113644044, 'LODA_n_hists_mean_kurtosis': -1.5025913684268362, 'LODA_n_hists_max_min': 0.07184846505551935, 'LODA_n_hists_max_max': 0.3883082952318736, 'LODA_n_hists_max_mean': 0.2596342259960805, 'LODA_n_hists_max_std': 0.10669592526388844, 'LODA_n_hists_max_skewness': -0.7882819203550316, 'LODA_n_hists_max_kurtosis': -0.8513700064884486, 'LODA_n_cuts_mean_min': 0.09999999999999998, 'LODA_n_cuts_mean_max': 0.10000000000000002, 'LODA_n_cuts_mean_mean': 0.09999999999999996, 'LODA_n_cuts_mean_std': 4.3177542613803815e-17, 'LODA_n_cuts_mean_skewness': nan, 'LODA_n_cuts_mean_kurtosis': nan, 'LODA_n_cuts_max_min': 0.1508817766165903, 'LODA_n_cuts_max_max': 0.3883082952318736, 'LODA_n_cuts_max_mean': 0.23802416721097278, 'LODA_n_cuts_max_std': 0.047195368328731786, 'LODA_n_cuts_max_skewness': 0.48665223593596363, 'LODA_n_cuts_max_kurtosis': -0.23798684762212874}\n",
      "Optdigits {'n_samples': 5216.0, 'n_features': 64.0, 'sample_mean': 4.906753259202454, 'sample_median': 1.0, 'sample_var': 36.632295507370515, 'sample_min': 0.0, 'sample_max': 16.0, 'sample_std': 6.052461937705227, 'q1': 0.0, 'q25': 0.0, 'q75': 0.0, 'q99': 0.0, 'iqr': 0.0, 'normalized_mean': 0.3066720787001534, 'normalized_median': 0.0625, 'sample_range': 16.0, 'sample_gini': 0.645721112946325, 'med_abs_dev': 1.0, 'avg_abs_dev': 5.407591936957909, 'quant_coeff_disp': nan, 'coeff_var': 7.465689341249807, 'percent_outliers_15iqr': 32.53105828220859, 'percent_outliers_3iqr': 32.53105828220859, 'percent_outliers_1_99': 32.53105828220859, 'percent_outliers_3std': 0.0, 'has_outliers_15iqr': 1.0, 'has_outliers_3iqr': 1.0, 'has_outliers_1_99': 1.0, 'has_outliers_3std': 0.0, 'normality_p_min': 0.0, 'normality_p_max': 4.94698480200935e-98, 'normality_p_mean': 7.97900774517637e-100, 'normality_p_std': 6.231804265582043e-99, 'normality_p_skewness': 7.682212795973755, 'normality_p_kurtosis': nan, 'is_normal_5_min': 0.0, 'is_normal_5_max': 1.0, 'is_normal_5_mean': 0.96875, 'is_normal_5_std': 0.17399263633843817, 'is_normal_5_skewness': -5.388159060803248, 'is_normal_5_kurtosis': 27.032258064516128, 'is_normal_1_min': 0.0, 'is_normal_1_max': 1.0, 'is_normal_1_mean': 0.96875, 'is_normal_1_std': 0.17399263633843817, 'is_normal_1_skewness': -5.388159060803248, 'is_normal_1_kurtosis': 27.032258064516128, 'moment_5_min': -19284.007801835287, 'moment_5_max': 21449.136738715133, 'moment_5_mean': 233.87521344843395, 'moment_5_std': 8898.261755788903, 'moment_5_skewness': 0.018150939978785644, 'moment_5_kurtosis': 0.05353959160792199, 'moment_6_min': 0.0, 'moment_6_max': 271405.55399797356, 'moment_6_mean': 94554.15330972093, 'moment_6_std': 73788.13505066838, 'moment_6_skewness': 0.22859626058131777, 'moment_6_kurtosis': -0.8586968306851546, 'moment_7_min': -2378633.275952294, 'moment_7_max': 3496287.1607634095, 'moment_7_mean': 105696.7807496683, 'moment_7_std': 1146363.1918757404, 'moment_7_skewness': 0.5692425867811362, 'moment_7_kurtosis': 1.1598327635883168, 'moment_8_min': 0.0, 'moment_8_max': 45702860.828541316, 'moment_8_mean': 9956704.844411854, 'moment_8_std': 10201731.456869846, 'moment_8_skewness': 1.572768920545297, 'moment_8_kurtosis': 2.484241610794201, 'moment_9_min': -296087674.6528773, 'moment_9_max': 603567345.4995354, 'moment_9_mean': 28541950.684713434, 'moment_9_std': 166492749.8999798, 'moment_9_skewness': 1.4099862465797, 'moment_9_kurtosis': 3.176556040929894, 'moment_10_min': 0.0, 'moment_10_max': 8032453855.394608, 'moment_10_mean': 1261097029.0657792, 'moment_10_std': 1752141097.557275, 'moment_10_skewness': 2.3727368741935564, 'moment_10_kurtosis': 5.505752246510603, 'skewness_min': -1.2361280099973468, 'skewness_max': 51.039204378425254, 'skewness_mean': 5.2742051698660575, 'skewness_std': 10.793712167306698, 'skewness_skewness': 2.427199631755489, 'skewness_kurtosis': 5.4087955906941545, 'kurtosis_min': -1.6575924240663704, 'kurtosis_max': 2603.0003835826637, 'kurtosis_mean': 156.27006297619548, 'kurtosis_std': 447.06780676213015, 'kurtosis_skewness': 3.6971442790921283, 'kurtosis_kurtosis': 14.604411884380017, 'correlation_min': -0.5311972705048773, 'correlation_max': 0.9286451618504106, 'correlation_mean': 0.004399072568654915, 'correlation_std': 0.17388955572110604, 'correlation_skewness': 1.228273095914915, 'correlation_kurtosis': 3.357464332641098, 'covariance_min': -15.674634798745934, 'covariance_max': 27.69335726343901, 'covariance_mean': 0.011216357330072962, 'covariance_std': 4.251989040401666, 'covariance_skewness': 1.3298530973589942, 'covariance_kurtosis': 7.405005572187678, 'sparsity_min': 0.00019171779141104295, 'sparsity_max': 0.00325920245398773, 'sparsity_mean': 0.0027379697085889564, 'sparsity_std': 0.0009754960020072377, 'sparsity_skewness': -1.630622438203775, 'sparsity_kurtosis': 1.0703765937063707, 'anova_p_value_min': 0.0, 'anova_p_value_max': 0.9882856556109659, 'anova_p_value_mean': 0.010310298535731352, 'anova_p_value_std': 0.07704049410453272, 'anova_p_value_skewness': 9.551654036776071, 'anova_p_value_kurtosis': 98.99818197286959, 'first_pca_std': 8.913108952967304, 'first_pca_skewness': -0.7043875429698564, 'first_pca_kurtosis': -1.4999999999999998, 'entropy_min': 0.0, 'entropy_max': 0.0005135921655956703, 'entropy_mean': 0.0003194256826394294, 'entropy_std': 0.00019697779980964647, 'entropy_skewness': -0.6235779689018378, 'entropy_kurtosis': -1.2843945059040458, 'HBOS_mean_min': 0.062499999999999986, 'HBOS_mean_max': 1.0, 'HBOS_mean_mean': 0.15337826236263735, 'HBOS_mean_std': 0.25382814323644626, 'HBOS_mean_skewness': 2.903402805234669, 'HBOS_mean_kurtosis': 6.736128219274757, 'HBOS_max_min': 0.14199098926380369, 'HBOS_max_max': 9.999999999999991, 'HBOS_max_mean': 1.2655282056680695, 'HBOS_max_std': 2.63516449831335, 'HBOS_max_skewness': 2.843277972710226, 'HBOS_max_kurtosis': 6.486821356086235, 'HBOS_min_min': 0.0, 'HBOS_min_max': 0.02839819785276074, 'HBOS_min_mean': 0.010543872277150894, 'HBOS_min_std': 0.009255091892397345, 'HBOS_min_skewness': 0.20801727628958988, 'HBOS_min_kurtosis': -1.4405098963494012, 'IForest_n_leaves_min': 32.0, 'IForest_n_leaves_max': 126.0, 'IForest_n_leaves_mean': 79.96, 'IForest_n_leaves_std': 21.22494758532986, 'IForest_n_leaves_skewness': -0.21517905287222402, 'IForest_n_leaves_kurtosis': -0.339383761636765, 'IForest_n_depth_min': 8.0, 'IForest_n_depth_max': 8.0, 'IForest_n_depth_mean': 8.0, 'IForest_n_depth_std': 0.0, 'IForest_n_depth_skewness': nan, 'IForest_n_depth_kurtosis': nan, 'IForest_fi_mean_min': 0.015624999999999997, 'IForest_fi_mean_max': 0.015625000000000007, 'IForest_fi_mean_mean': 0.015625, 'IForest_fi_mean_std': 1.4304896245381992e-18, 'IForest_fi_mean_skewness': nan, 'IForest_fi_mean_kurtosis': nan, 'IForest_fi_max_min': 0.06354546632233976, 'IForest_fi_max_max': 0.28992579088705805, 'IForest_fi_max_mean': 0.11150124818683388, 'IForest_fi_max_std': 0.03433031507291202, 'IForest_fi_max_skewness': 1.8842445425423875, 'IForest_fi_max_kurtosis': 6.197988946149332, 'pca_expl_ratio_1': 0.12014234992717011, 'pca_expl_ratio_2': 0.10266036997822874, 'pca_expl_ratio_3': 0.07116749927117272, 'pca_sv_1': 197.11183330192887, 'pca_sv_2': 182.20741578761098, 'pca_sv_3': 151.70695410660346, 'LODA_n_hists_mean_min': 0.01498274539877317, 'LODA_n_hists_mean_max': 0.17113113496932503, 'LODA_n_hists_mean_mean': 0.10000000000000002, 'LODA_n_hists_mean_std': 0.05600095673118441, 'LODA_n_hists_mean_skewness': -0.22525026416202165, 'LODA_n_hists_mean_kurtosis': -1.3737787634075977, 'LODA_n_hists_max_min': 0.09240797546012273, 'LODA_n_hists_max_max': 0.46549079754601164, 'LODA_n_hists_max_mean': 0.3217024539877297, 'LODA_n_hists_max_std': 0.11210400108371897, 'LODA_n_hists_max_skewness': -0.8353827965449012, 'LODA_n_hists_max_kurtosis': -0.3470258775044863, 'LODA_n_cuts_mean_min': 0.09999999999999999, 'LODA_n_cuts_mean_max': 0.10000000000000002, 'LODA_n_cuts_mean_mean': 0.1, 'LODA_n_cuts_mean_std': 1.1102230246251566e-17, 'LODA_n_cuts_mean_skewness': nan, 'LODA_n_cuts_mean_kurtosis': nan, 'LODA_n_cuts_max_min': 0.12039877300613494, 'LODA_n_cuts_max_max': 0.46549079754601164, 'LODA_n_cuts_max_mean': 0.2400364263803678, 'LODA_n_cuts_max_std': 0.06251212206369886, 'LODA_n_cuts_max_skewness': 1.156763525253818, 'LODA_n_cuts_max_kurtosis': 1.556082897541006}\n",
      "Pendigits {'n_samples': 6870.0, 'n_features': 16.0, 'sample_mean': 0.508287603003767, 'sample_median': 0.5143297221405, 'sample_var': 0.11853237176243808, 'sample_min': 0.0, 'sample_max': 1.0, 'sample_std': 0.34428530576026345, 'q1': 0.0, 'q25': 0.0, 'q75': 0.0, 'q99': 0.0, 'iqr': 0.0, 'normalized_mean': 0.508287603003767, 'normalized_median': 0.5143297221405, 'sample_range': 1.0, 'sample_gini': 0.3896081046978277, 'med_abs_dev': 0.3056165320415, 'avg_abs_dev': 0.2997504519458461, 'quant_coeff_disp': nan, 'coeff_var': 0.2331994151774731, 'percent_outliers_15iqr': 13.99505094614265, 'percent_outliers_3iqr': 13.99505094614265, 'percent_outliers_1_99': 13.99505094614265, 'percent_outliers_3std': 0.0, 'has_outliers_15iqr': 1.0, 'has_outliers_3iqr': 1.0, 'has_outliers_1_99': 1.0, 'has_outliers_3std': 0.0, 'normality_p_min': 0.0, 'normality_p_max': 0.8851916373786562, 'normality_p_mean': 0.055324477336166016, 'normality_p_std': 0.21427077936060065, 'normality_p_skewness': 3.614784456460256, 'normality_p_kurtosis': 11.06666666666667, 'is_normal_5_min': 0.0, 'is_normal_5_max': 1.0, 'is_normal_5_mean': 0.9375, 'is_normal_5_std': 0.24206145913796356, 'is_normal_5_skewness': -3.6147844564602556, 'is_normal_5_kurtosis': 11.066666666666666, 'is_normal_1_min': 0.0, 'is_normal_1_max': 1.0, 'is_normal_1_mean': 0.9375, 'is_normal_1_std': 0.24206145913796356, 'is_normal_1_skewness': -3.6147844564602556, 'is_normal_1_kurtosis': 11.066666666666666, 'moment_5_min': -0.009806843534615837, 'moment_5_max': 0.027291133220687606, 'moment_5_mean': 0.0021551153395079113, 'moment_5_std': 0.008662089792244915, 'moment_5_skewness': 1.5273800549586718, 'moment_5_kurtosis': 2.0970500769587375, 'moment_6_min': 0.0014637206128087507, 'moment_6_max': 0.02009385260805556, 'moment_6_mean': 0.005721013787192294, 'moment_6_std': 0.004705319791143517, 'moment_6_skewness': 1.7165650239546575, 'moment_6_kurtosis': 2.7132131440987868, 'moment_7_min': -0.00365585073878016, 'moment_7_max': 0.014537608491958488, 'moment_7_mean': 0.0011182453289469386, 'moment_7_std': 0.004219066679156717, 'moment_7_skewness': 2.020999161612986, 'moment_7_kurtosis': 3.7832745296970574, 'moment_8_min': 0.0003367584849280702, 'moment_8_max': 0.010673256720603102, 'moment_8_mean': 0.0020936655292289282, 'moment_8_std': 0.0024578469774349395, 'moment_8_skewness': 2.6410466603049705, 'moment_8_kurtosis': 6.401943801378362, 'moment_9_min': -0.0012878682324421313, 'moment_9_max': 0.007850704021554957, 'moment_9_mean': 0.0005689923447340824, 'moment_9_std': 0.0021411257086645014, 'moment_9_skewness': 2.4515620068316566, 'moment_9_kurtosis': 5.565286777205612, 'moment_10_min': 8.382409828906293e-05, 'moment_10_max': 0.0058010692054665655, 'moment_10_mean': 0.000885039692941776, 'moment_10_std': 0.0013543150157666833, 'moment_10_skewness': 2.9714958227774066, 'moment_10_kurtosis': 7.916780507279059, 'skewness_min': -1.5448086301007673, 'skewness_max': 1.2519327073829116, 'skewness_mean': -0.026644666251416704, 'skewness_std': 0.7154070282517174, 'skewness_skewness': -0.2831166639335402, 'skewness_kurtosis': -0.11678527042894826, 'kurtosis_min': -1.7154289824865085, 'kurtosis_max': 3.1985077396170825, 'kurtosis_mean': -0.3547350120361633, 'kurtosis_std': 1.1858554875074088, 'kurtosis_skewness': 1.632965352106757, 'kurtosis_kurtosis': 2.468597445939067, 'correlation_min': -0.7328586688227688, 'correlation_max': 0.8493817898802548, 'correlation_mean': -0.018583228623103697, 'correlation_std': 0.32628207210035065, 'correlation_skewness': 0.18147223199954338, 'correlation_kurtosis': -0.24970125496585815, 'covariance_min': -0.10703713592953572, 'covariance_max': 0.08592293508410921, 'covariance_mean': -0.0019003351326081681, 'covariance_std': 0.029432591199488444, 'covariance_skewness': -0.055677407735735374, 'covariance_kurtosis': 1.0122516959625667, 'sparsity_min': 0.45254730713246, 'sparsity_max': 0.9407569141193596, 'sparsity_mean': 0.7493904657933043, 'sparsity_std': 0.13469839073148723, 'sparsity_skewness': -0.6760227247002836, 'sparsity_kurtosis': -0.4015078391341107, 'anova_p_value_min': 0.0, 'anova_p_value_max': 0.7270770071695065, 'anova_p_value_mean': 0.016424661580899672, 'anova_p_value_std': 0.09844667247656691, 'anova_p_value_skewness': 6.361285726301504, 'anova_p_value_kurtosis': 40.07082341387592, 'first_pca_std': 0.35926766283350553, 'first_pca_skewness': -0.5084066485939057, 'first_pca_kurtosis': -1.4999999999999996, 'entropy_min': 0.000685246374005607, 'entropy_max': 0.0012395084343845572, 'entropy_mean': 0.0010261850729542813, 'entropy_std': 0.0001584100475425014, 'entropy_skewness': -0.744819629812853, 'entropy_kurtosis': -0.45185976231264124, 'HBOS_mean_min': 0.9999999999999998, 'HBOS_mean_max': 1.0000000000000002, 'HBOS_mean_mean': 1.0, 'HBOS_mean_std': 1.5700924586837752e-16, 'HBOS_mean_skewness': nan, 'HBOS_mean_kurtosis': nan, 'HBOS_max_min': 1.4279475982532752, 'HBOS_max_max': 5.647743813682679, 'HBOS_max_mean': 2.899745269286754, 'HBOS_max_std': 1.2643001191400234, 'HBOS_max_skewness': 0.9456063240271056, 'HBOS_max_kurtosis': -0.14848784751446908, 'HBOS_min_min': 0.018922852983988356, 'HBOS_min_max': 0.6259097525473072, 'HBOS_min_mean': 0.3037663755458515, 'HBOS_min_std': 0.1892423287083359, 'HBOS_min_skewness': 0.18575426435227463, 'HBOS_min_kurtosis': -1.051482358538307, 'IForest_n_leaves_min': 58.0, 'IForest_n_leaves_max': 133.0, 'IForest_n_leaves_mean': 93.8, 'IForest_n_leaves_std': 16.39207125411551, 'IForest_n_leaves_skewness': 0.07509689618586066, 'IForest_n_leaves_kurtosis': -0.6101046306431499, 'IForest_n_depth_min': 8.0, 'IForest_n_depth_max': 8.0, 'IForest_n_depth_mean': 8.0, 'IForest_n_depth_std': 0.0, 'IForest_n_depth_skewness': nan, 'IForest_n_depth_kurtosis': nan, 'IForest_fi_mean_min': 0.062499999999999986, 'IForest_fi_mean_max': 0.06250000000000001, 'IForest_fi_mean_mean': 0.0625, 'IForest_fi_mean_std': 5.003707553108402e-18, 'IForest_fi_mean_skewness': nan, 'IForest_fi_mean_kurtosis': nan, 'IForest_fi_max_min': 0.09143030937679807, 'IForest_fi_max_max': 0.253082613807255, 'IForest_fi_max_mean': 0.14659970489063018, 'IForest_fi_max_std': 0.029695716818404935, 'IForest_fi_max_skewness': 0.8448027317770263, 'IForest_fi_max_kurtosis': 0.7647960678784327, 'pca_expl_ratio_1': 0.28042495632052294, 'pca_expl_ratio_2': 0.19680965306603693, 'pca_expl_ratio_3': 0.16632792806504546, 'pca_sv_1': 175.56853704109935, 'pca_sv_2': 147.0826878494501, 'pca_sv_3': 135.21377833974537, 'LODA_n_hists_mean_min': 0.024794759825327622, 'LODA_n_hists_mean_max': 0.14803202328966514, 'LODA_n_hists_mean_mean': 0.10000000000000002, 'LODA_n_hists_mean_std': 0.04434871293630755, 'LODA_n_hists_mean_skewness': -0.5704429964432721, 'LODA_n_hists_mean_kurtosis': -1.1277263486769242, 'LODA_n_hists_max_min': 0.18791848617176116, 'LODA_n_hists_max_max': 0.4180494905385731, 'LODA_n_hists_max_mean': 0.31938864628820934, 'LODA_n_hists_max_std': 0.06633438035001576, 'LODA_n_hists_max_skewness': -0.4099222587523706, 'LODA_n_hists_max_kurtosis': -0.5684027992535756, 'LODA_n_cuts_mean_min': 0.09999999999999999, 'LODA_n_cuts_mean_max': 0.10000000000000002, 'LODA_n_cuts_mean_mean': 0.1, 'LODA_n_cuts_mean_std': 9.412373634839028e-18, 'LODA_n_cuts_mean_skewness': nan, 'LODA_n_cuts_mean_kurtosis': nan, 'LODA_n_cuts_max_min': 0.13886462882096065, 'LODA_n_cuts_max_max': 0.4180494905385731, 'LODA_n_cuts_max_mean': 0.23408733624454128, 'LODA_n_cuts_max_std': 0.05446823530948686, 'LODA_n_cuts_max_skewness': 0.8689192753484146, 'LODA_n_cuts_max_kurtosis': 0.7598895457033903}\n",
      "Pima {'n_samples': 768.0, 'n_features': 8.0, 'sample_mean': 44.98579117838542, 'sample_median': 28.9, 'sample_var': 3407.403780638522, 'sample_min': 0.0, 'sample_max': 846.0, 'sample_std': 58.37297131925462, 'q1': 0.0, 'q25': 0.0, 'q75': 0.0, 'q99': 0.0, 'iqr': 0.0, 'normalized_mean': 0.05317469406428536, 'normalized_median': 0.034160756501182034, 'sample_range': 846.0, 'sample_gini': 0.6008134496621607, 'med_abs_dev': 28.388999999999996, 'avg_abs_dev': 40.40158996788661, 'quant_coeff_disp': nan, 'coeff_var': 75.74400030282666, 'percent_outliers_15iqr': 7.006510416666667, 'percent_outliers_3iqr': 7.006510416666667, 'percent_outliers_1_99': 7.006510416666667, 'percent_outliers_3std': 0.09114583333333333, 'has_outliers_15iqr': 1.0, 'has_outliers_3iqr': 1.0, 'has_outliers_1_99': 1.0, 'has_outliers_3std': 1.0, 'normality_p_min': 6.895342740914799e-85, 'normality_p_max': 0.0020446506991363507, 'normality_p_mean': 0.00027698653449054656, 'normality_p_std': 0.0006704613930707487, 'normality_p_skewness': 2.2374307497758585, 'normality_p_kurtosis': 3.0616050000713697, 'is_normal_5_min': 1.0, 'is_normal_5_max': 1.0, 'is_normal_5_mean': 1.0, 'is_normal_5_std': 0.0, 'is_normal_5_skewness': nan, 'is_normal_5_kurtosis': nan, 'is_normal_1_min': 1.0, 'is_normal_1_max': 1.0, 'is_normal_1_mean': 1.0, 'is_normal_1_std': 0.0, 'is_normal_1_skewness': nan, 'is_normal_1_kurtosis': nan, 'moment_5_min': -79538402.3744073, 'moment_5_max': 971819502092.2719, 'moment_5_mean': 121459493204.88583, 'moment_5_std': 321405874240.7385, 'moment_5_skewness': 2.2677867925160866, 'moment_5_kurtosis': 3.1428570281131183, 'moment_6_min': 0.24698746972912522, 'moment_6_max': 589144440737829.2, 'moment_6_mean': 73647410457215.56, 'moment_6_std': 194839563615884.5, 'moment_6_skewness': 2.2677868274382385, 'moment_6_kurtosis': 3.1428571161035626, 'moment_7_min': -2022947192515.959, 'moment_7_max': 3.799430987045841e+17, 'moment_7_mean': 4.749259531982888e+16, 'moment_7_std': 1.2565447931517682e+17, 'moment_7_skewness': 2.2677868379322423, 'moment_7_kurtosis': 3.1428571425469096, 'moment_8_min': 0.7534200421436675, 'moment_8_max': 2.5626861216356477e+20, 'moment_8_mean': 3.203362187797681e+19, 'moment_8_std': 8.475285993359168e+19, 'moment_8_skewness': 2.2677868380478436, 'moment_8_kurtosis': 3.142857142838194, 'moment_9_min': -3.3741184931632932e+16, 'moment_9_max': 1.783639914105093e+23, 'moment_9_mean': 2.229549452360351e+22, 'moment_9_std': 5.898834717920259e+22, 'moment_9_skewness': 2.267786838055206, 'moment_9_kurtosis': 3.1428571428567453, 'moment_10_min': 2.490781529306988, 'moment_10_max': 1.2694984966843735e+26, 'moment_10_mean': 1.5868731791078117e+25, 'moment_10_std': 4.198471617979196e+25, 'moment_10_skewness': 2.2677868380553576, 'moment_10_kurtosis': 3.142857142857129, 'skewness_min': -1.8400052311728738, 'skewness_max': 2.2678104585131753, 'skewness_mean': 0.5282118837708745, 'skewness_std': 1.238665108772285, 'skewness_skewness': -0.3992687303209776, 'skewness_kurtosis': -0.5916589590565007, 'kurtosis_min': -0.5244944887652805, 'kurtosis_max': 7.159574916971424, 'kurtosis_mean': 2.749524196420433, 'kurtosis_std': 2.7323337222231525, 'kurtosis_skewness': 0.30532386758343644, 'kurtosis_kurtosis': -1.4898059860013653, 'correlation_min': -0.11397026236774153, 'correlation_max': 0.5443412284023391, 'correlation_mean': 0.14702376905190034, 'correlation_std': 0.15736076419863962, 'correlation_skewness': 0.49112573292350775, 'correlation_kurtosis': -0.07123377571470657, 'covariance_min': -57.14329028139926, 'covariance_max': 1220.9357989732723, 'covariance_mean': 101.38544837037679, 'covariance_std': 264.49029716843114, 'covariance_skewness': 3.3371586306775054, 'covariance_kurtosis': 10.25174706963675, 'sparsity_min': 0.022135416666666668, 'sparsity_max': 0.6731770833333334, 'sparsity_mean': 0.2041015625, 'sparsity_std': 0.20230720415825393, 'sparsity_skewness': 1.3712570779765634, 'sparsity_kurtosis': 0.7933833378753552, 'anova_p_value_min': 0.0, 'anova_p_value_max': 0.014663854748806326, 'anova_p_value_mean': 0.0009275930463401, 'anova_p_value_std': 0.0033744018887895784, 'anova_p_value_skewness': 3.4297183971874903, 'anova_p_value_kurtosis': 10.011313612675941, 'first_pca_std': 28.06780092917315, 'first_pca_skewness': -0.19499552202051162, 'first_pca_kurtosis': -1.5, 'entropy_min': 0.0031426716410646823, 'entropy_max': 0.007968038063190847, 'entropy_mean': 0.0051606775114333755, 'entropy_std': 0.0015286042977542145, 'entropy_skewness': 0.5900726718336289, 'entropy_kurtosis': -0.9357994778004382, 'HBOS_mean_min': 0.0011820330969267137, 'HBOS_mean_max': 0.4269854824935952, 'HBOS_mean_mean': 0.06773546229585094, 'HBOS_mean_std': 0.13682462033556925, 'HBOS_mean_skewness': 2.202806525087733, 'HBOS_mean_kurtosis': 2.9668726611771117, 'HBOS_max_min': 0.007495444247438928, 'HBOS_max_max': 1.7679867634500426, 'HBOS_max_mean': 0.26913190045208973, 'HBOS_max_std': 0.569068545625284, 'HBOS_max_skewness': 2.228737391990638, 'HBOS_max_kurtosis': 3.039081337122135, 'HBOS_min_min': 0.0, 'HBOS_min_max': 0.005559706803302027, 'HBOS_min_mean': 0.0008330964078457504, 'HBOS_min_std': 0.001802890610134831, 'HBOS_min_skewness': 2.1905977660312015, 'HBOS_min_kurtosis': 2.9325461834868483, 'IForest_n_leaves_min': 27.0, 'IForest_n_leaves_max': 112.0, 'IForest_n_leaves_mean': 60.68, 'IForest_n_leaves_std': 19.95689354584024, 'IForest_n_leaves_skewness': 0.6433734806470249, 'IForest_n_leaves_kurtosis': -0.19774528317362927, 'IForest_n_depth_min': 8.0, 'IForest_n_depth_max': 8.0, 'IForest_n_depth_mean': 8.0, 'IForest_n_depth_std': 0.0, 'IForest_n_depth_skewness': nan, 'IForest_n_depth_kurtosis': nan, 'IForest_fi_mean_min': 0.12499999999999999, 'IForest_fi_mean_max': 0.12500000000000003, 'IForest_fi_mean_mean': 0.125, 'IForest_fi_mean_std': 8.993834424997154e-18, 'IForest_fi_mean_skewness': nan, 'IForest_fi_mean_kurtosis': nan, 'IForest_fi_max_min': 0.16510122800537833, 'IForest_fi_max_max': 0.4375891550637212, 'IForest_fi_max_mean': 0.24922115751216134, 'IForest_fi_max_std': 0.06165388128215113, 'IForest_fi_max_skewness': 1.177754724271004, 'IForest_fi_max_kurtosis': 1.3030606048853892, 'pca_expl_ratio_1': 0.26179749316110096, 'pca_expl_ratio_2': 0.2164012675774652, 'pca_expl_ratio_3': 0.12870373364801901, 'pca_sv_1': 40.10590727039851, 'pca_sv_2': 36.46326079762952, 'pca_sv_3': 28.120379434378705, 'LODA_n_hists_mean_min': 0.06041666666666717, 'LODA_n_hists_mean_max': 0.16882812499999908, 'LODA_n_hists_mean_mean': 0.09999999999999999, 'LODA_n_hists_mean_std': 0.03657969847907822, 'LODA_n_hists_mean_skewness': 0.7403126916776674, 'LODA_n_hists_mean_kurtosis': -0.8284271974094124, 'LODA_n_hists_max_min': 0.2903645833333309, 'LODA_n_hists_max_max': 0.6341145833333264, 'LODA_n_hists_max_mean': 0.4183593749999958, 'LODA_n_hists_max_std': 0.11221518550083814, 'LODA_n_hists_max_skewness': 1.0759742037865996, 'LODA_n_hists_max_kurtosis': -0.23107603654223308, 'LODA_n_cuts_mean_min': 0.09999999999999996, 'LODA_n_cuts_mean_max': 0.1, 'LODA_n_cuts_mean_mean': 0.09999999999999996, 'LODA_n_cuts_mean_std': 3.5272521090420434e-17, 'LODA_n_cuts_mean_skewness': nan, 'LODA_n_cuts_mean_kurtosis': nan, 'LODA_n_cuts_max_min': 0.25130208333333137, 'LODA_n_cuts_max_max': 0.6341145833333264, 'LODA_n_cuts_max_mean': 0.3575781249999966, 'LODA_n_cuts_max_std': 0.10108826580629272, 'LODA_n_cuts_max_skewness': 1.3784531771540542, 'LODA_n_cuts_max_kurtosis': 0.9515917483960159}\n",
      "Satellite {'n_samples': 6435.0, 'n_features': 36.0, 'sample_mean': 83.4718380385047, 'sample_median': 83.0, 'sample_var': 449.34343983149097, 'sample_min': 27.0, 'sample_max': 157.0, 'sample_std': 21.197722515201743, 'q1': 27.0, 'q25': 29.0, 'q75': 32.0, 'q99': 32.0, 'iqr': 3.0, 'normalized_mean': 0.5316677582070363, 'normalized_median': 0.5286624203821656, 'sample_range': 130.0, 'sample_gini': 0.14388664750612729, 'med_abs_dev': 15.0, 'avg_abs_dev': 17.090860019643294, 'quant_coeff_disp': 0.04918032786885246, 'coeff_var': 5.383174138614432, 'percent_outliers_15iqr': 35.4021756021756, 'percent_outliers_3iqr': 35.21243201243201, 'percent_outliers_1_99': 35.625019425019424, 'percent_outliers_3std': 0.01554001554001554, 'has_outliers_15iqr': 1.0, 'has_outliers_3iqr': 1.0, 'has_outliers_1_99': 1.0, 'has_outliers_3std': 1.0, 'normality_p_min': 8.369205186925857e-214, 'normality_p_max': 4.1435388517685964e-66, 'normality_p_mean': 1.1515792630521761e-67, 'normality_p_std': 6.809207465481399e-67, 'normality_p_skewness': 5.747046499056008, 'normality_p_kurtosis': 31.028553326343996, 'is_normal_5_min': 1.0, 'is_normal_5_max': 1.0, 'is_normal_5_mean': 1.0, 'is_normal_5_std': 0.0, 'is_normal_5_skewness': nan, 'is_normal_5_kurtosis': nan, 'is_normal_1_min': 1.0, 'is_normal_1_max': 1.0, 'is_normal_1_mean': 1.0, 'is_normal_1_std': 0.0, 'is_normal_1_skewness': nan, 'is_normal_1_kurtosis': nan, 'moment_5_min': -25808596.415998228, 'moment_5_max': 22691163.877487455, 'moment_5_mean': -855397.6181276063, 'moment_5_std': 16728350.728854207, 'moment_5_skewness': -0.11173398393410042, 'moment_5_kurtosis': -0.9949319812247914, 'moment_6_min': 39811611.89594572, 'moment_6_max': 1618663041.2975142, 'moment_6_mean': 789488931.9139332, 'moment_6_std': 705910516.027683, 'moment_6_skewness': 0.013734794952263114, 'moment_6_kurtosis': -1.96503114225272, 'moment_7_min': -71091633622.39603, 'moment_7_max': 75600416633.12251, 'moment_7_mean': 1110171440.391766, 'moment_7_std': 50041224912.7063, 'moment_7_skewness': 0.07955165761899564, 'moment_7_kurtosis': -0.9930292044720179, 'moment_8_min': 24150273009.538948, 'moment_8_max': 4605720737974.458, 'moment_8_mean': 2093547237546.1528, 'moment_8_std': 2028440559485.9062, 'moment_8_skewness': 0.04327024064441914, 'moment_8_kurtosis': -1.939365685037296, 'moment_9_min': -191919744462591.25, 'moment_9_max': 263011710625870.28, 'moment_9_mean': 17313748569071.18, 'moment_9_std': 154068537332492.84, 'moment_9_skewness': 0.3392818873004162, 'moment_9_kurtosis': -0.963503200576914, 'moment_10_min': 16131648440758.11, 'moment_10_max': 1.613689666277683e+16, 'moment_10_mean': 6292067107154887.0, 'moment_10_std': 6522252341210744.0, 'moment_10_skewness': 0.2764410121977356, 'moment_10_kurtosis': -1.6336396588474136, 'skewness_min': -0.6745702180972807, 'skewness_max': 0.9184949185294119, 'skewness_mean': 0.03984568180732459, 'skewness_std': 0.5577535765378744, 'skewness_skewness': 0.39892749897878016, 'skewness_kurtosis': -1.000010005938474, 'kurtosis_min': -0.9200072390933283, 'kurtosis_max': 1.2754187175576774, 'kurtosis_mean': -0.1548018403584227, 'kurtosis_std': 0.8334342121017791, 'kurtosis_skewness': 0.89428826778388, 'kurtosis_kurtosis': -0.8907528892992036, 'correlation_min': -0.18455103575970966, 'correlation_max': 0.9606596844495016, 'correlation_mean': 0.42446668101438517, 'correlation_std': 0.41214615405867777, 'correlation_skewness': -0.21823176130432662, 'correlation_kurtosis': -1.5545036007957622, 'covariance_min': -51.42545893646294, 'covariance_max': 502.92712628786643, 'covariance_mean': 138.0996136880615, 'covariance_std': 146.2924162816809, 'covariance_skewness': 0.3580134902645608, 'covariance_kurtosis': -0.5370187999316314, 'sparsity_min': 0.00777000777000777, 'sparsity_max': 0.01616161616161616, 'sparsity_mean': 0.012112578779245447, 'sparsity_std': 0.002908872587210817, 'sparsity_skewness': -0.18855140507213028, 'sparsity_kurtosis': -1.0215470325543567, 'anova_p_value_min': 0.0, 'anova_p_value_max': 0.996627705921069, 'anova_p_value_mean': 0.14408121662109133, 'anova_p_value_std': 0.2649353700186838, 'anova_p_value_skewness': 1.7628967001494504, 'anova_p_value_kurtosis': 1.827603410774155, 'first_pca_std': 60.53629190823083, 'first_pca_skewness': 0.5080132528384801, 'first_pca_kurtosis': -1.4999999999999998, 'entropy_min': 0.0005538804228455603, 'entropy_max': 0.0006216407189535585, 'entropy_mean': 0.0006015550150140853, 'entropy_std': 2.662949460752921e-05, 'entropy_skewness': -1.1252630608003296, 'entropy_kurtosis': -0.6831627001300444, 'HBOS_mean_min': 0.007812499999999998, 'HBOS_mean_max': 0.015625, 'HBOS_mean_mean': 0.010883420728380982, 'HBOS_mean_std': 0.0028201908516934824, 'HBOS_mean_skewness': 0.723741920893401, 'HBOS_mean_kurtosis': -0.9595578522436017, 'HBOS_max_min': 0.017456114543493165, 'HBOS_max_max': 0.03751120674197597, 'HBOS_max_mean': 0.024843922383628644, 'HBOS_max_std': 0.00707630062973707, 'HBOS_max_skewness': 0.9065801268843395, 'HBOS_max_kurtosis': -0.8136222971819778, 'HBOS_min_min': 9.945609945609946e-05, 'HBOS_min_max': 0.0007241948989521808, 'HBOS_min_mean': 0.0003168466504624351, 'HBOS_min_std': 0.00021552302609919517, 'HBOS_min_skewness': 0.4875323686909432, 'HBOS_min_kurtosis': -1.3775883577249342, 'IForest_n_leaves_min': 26.0, 'IForest_n_leaves_max': 115.0, 'IForest_n_leaves_mean': 66.72, 'IForest_n_leaves_std': 17.809592920670593, 'IForest_n_leaves_skewness': 0.2581070478769304, 'IForest_n_leaves_kurtosis': -0.24035459863577424, 'IForest_n_depth_min': 8.0, 'IForest_n_depth_max': 8.0, 'IForest_n_depth_mean': 8.0, 'IForest_n_depth_std': 0.0, 'IForest_n_depth_skewness': nan, 'IForest_n_depth_kurtosis': nan, 'IForest_fi_mean_min': 0.02777777777777777, 'IForest_fi_mean_max': 0.027777777777777783, 'IForest_fi_mean_mean': 0.027777777777777776, 'IForest_fi_mean_std': 3.588823832830143e-18, 'IForest_fi_mean_skewness': nan, 'IForest_fi_mean_kurtosis': nan, 'IForest_fi_max_min': 0.07804743575407097, 'IForest_fi_max_max': 0.28225766222053356, 'IForest_fi_max_mean': 0.12711491575844774, 'IForest_fi_max_std': 0.03759650859843975, 'IForest_fi_max_skewness': 1.675018134116201, 'IForest_fi_max_kurtosis': 3.7051830240487167, 'pca_expl_ratio_1': 0.4535400631773442, 'pca_expl_ratio_2': 0.3988204498960425, 'pca_expl_ratio_3': 0.04379383824272545, 'pca_sv_1': 324.14054210429083, 'pca_sv_2': 303.95846002853284, 'pca_sv_3': 100.72378352360369, 'LODA_n_hists_mean_min': 0.00794716394716409, 'LODA_n_hists_mean_max': 0.16589588189588184, 'LODA_n_hists_mean_mean': 0.1, 'LODA_n_hists_mean_std': 0.05999464279830782, 'LODA_n_hists_mean_skewness': -0.3946375445262354, 'LODA_n_hists_mean_kurtosis': -1.4516645819457221, 'LODA_n_hists_max_min': 0.058585858585858665, 'LODA_n_hists_max_max': 0.6371406371406364, 'LODA_n_hists_max_mean': 0.38360528360528323, 'LODA_n_hists_max_std': 0.19165655897213213, 'LODA_n_hists_max_skewness': -0.5096731521822079, 'LODA_n_hists_max_kurtosis': -0.7859089228162142, 'LODA_n_cuts_mean_min': 0.1, 'LODA_n_cuts_mean_max': 0.10000000000000002, 'LODA_n_cuts_mean_mean': 0.1, 'LODA_n_cuts_mean_std': 1.0292042894454821e-17, 'LODA_n_cuts_mean_skewness': nan, 'LODA_n_cuts_mean_kurtosis': nan, 'LODA_n_cuts_max_min': 0.15866355866355858, 'LODA_n_cuts_max_max': 0.6371406371406364, 'LODA_n_cuts_max_mean': 0.27738150738150713, 'LODA_n_cuts_max_std': 0.10253314117925304, 'LODA_n_cuts_max_skewness': 1.22754637873854, 'LODA_n_cuts_max_kurtosis': 1.1604895002952906}\n",
      "Satimage-2 {'n_samples': 5803.0, 'n_features': 36.0, 'sample_mean': 83.81247726271852, 'sample_median': 83.0, 'sample_var': 335.8646140730225, 'sample_min': 27.0, 'sample_max': 157.0, 'sample_std': 18.326609453824855, 'q1': 29.0, 'q25': 37.0, 'q75': 47.0, 'q99': 49.0, 'iqr': 10.0, 'normalized_mean': 0.5338374347943855, 'normalized_median': 0.5286624203821656, 'sample_range': 130.0, 'sample_gini': 0.12473681111378374, 'med_abs_dev': 13.0, 'avg_abs_dev': 15.064665291662948, 'quant_coeff_disp': 0.11904761904761904, 'coeff_var': 4.0073342900988544, 'percent_outliers_15iqr': 31.88505945200758, 'percent_outliers_3iqr': 21.99138376701706, 'percent_outliers_1_99': 35.534723418921246, 'percent_outliers_3std': 0.022057556436326037, 'has_outliers_15iqr': 1.0, 'has_outliers_3iqr': 1.0, 'has_outliers_1_99': 1.0, 'has_outliers_3std': 1.0, 'normality_p_min': 0.0, 'normality_p_max': 0.0001438349438975862, 'normality_p_mean': 3.995540439749314e-06, 'normality_p_std': 2.3637173370148845e-05, 'normality_p_skewness': 5.7470489260286675, 'normality_p_kurtosis': 31.028571383015, 'is_normal_5_min': 1.0, 'is_normal_5_max': 1.0, 'is_normal_5_mean': 1.0, 'is_normal_5_std': 0.0, 'is_normal_5_skewness': nan, 'is_normal_5_kurtosis': nan, 'is_normal_1_min': 1.0, 'is_normal_1_max': 1.0, 'is_normal_1_mean': 1.0, 'is_normal_1_std': 0.0, 'is_normal_1_skewness': nan, 'is_normal_1_kurtosis': nan, 'moment_5_min': -7995763.400019327, 'moment_5_max': 3911044.625560938, 'moment_5_mean': -1147934.6128470553, 'moment_5_std': 3873270.810053604, 'moment_5_skewness': -0.7062432089797467, 'moment_5_kurtosis': -0.8679885340720563, 'moment_6_min': 22241181.161476176, 'moment_6_max': 523753484.00675446, 'moment_6_mean': 221534753.94445103, 'moment_6_std': 178101972.82094547, 'moment_6_skewness': 0.3997246669881169, 'moment_6_kurtosis': -1.3408875838964618, 'moment_7_min': -21436130604.785595, 'moment_7_max': 15471289622.308084, 'moment_7_mean': -1811864965.962142, 'moment_7_std': 11559293487.625843, 'moment_7_skewness': -0.38672162553099326, 'moment_7_kurtosis': -0.9199614500393167, 'moment_8_min': 12103664456.196144, 'moment_8_max': 1225818774487.1604, 'moment_8_mean': 525117271989.91223, 'moment_8_std': 483853285039.52826, 'moment_8_skewness': 0.11712004362465522, 'moment_8_kurtosis': -1.8289584914588288, 'moment_9_min': -60242309381712.21, 'moment_9_max': 66849852966413.055, 'moment_9_mean': -1279439651679.631, 'moment_9_std': 37329433028277.58, 'moment_9_skewness': -0.030653904445325095, 'moment_9_kurtosis': -0.8910650986660635, 'moment_10_min': 7416694853246.581, 'moment_10_max': 4605283019098538.0, 'moment_10_mean': 1620096331297393.8, 'moment_10_std': 1593284766124001.0, 'moment_10_skewness': 0.13087347170355218, 'moment_10_kurtosis': -1.7515990593718958, 'skewness_min': -0.43964759263890013, 'skewness_max': 0.22396791653977177, 'skewness_mean': -0.04959191325693538, 'skewness_std': 0.2431472690707988, 'skewness_skewness': -0.5617037527695754, 'skewness_kurtosis': -1.242863713173644, 'kurtosis_min': -1.018218831814032, 'kurtosis_max': 0.6140090233862963, 'kurtosis_mean': -0.4125903977730923, 'kurtosis_std': 0.5324518461974695, 'kurtosis_skewness': 0.6248932088904129, 'kurtosis_kurtosis': -0.9884298031604555, 'correlation_min': 0.17292010387296083, 'correlation_max': 0.9473834088196132, 'correlation_mean': 0.6374245308174814, 'correlation_std': 0.22006714896039026, 'correlation_skewness': -0.46473138277399956, 'correlation_kurtosis': -0.9232314207555601, 'covariance_min': 30.417921812125996, 'covariance_max': 320.75165940449784, 'covariance_mean': 153.21955114511616, 'covariance_std': 68.12656489837993, 'covariance_skewness': 0.06325735987262507, 'covariance_kurtosis': -0.48904778893110157, 'sparsity_min': 0.008443908323281062, 'sparsity_max': 0.016026193348268138, 'sparsity_mean': 0.012785532387462425, 'sparsity_std': 0.002685298752628851, 'sparsity_skewness': -0.6039134537773019, 'sparsity_kurtosis': -0.9522846166986727, 'anova_p_value_min': 0.0, 'anova_p_value_max': 0.9993887993209515, 'anova_p_value_mean': 0.10680550610789402, 'anova_p_value_std': 0.23633214256608664, 'anova_p_value_skewness': 2.2039314973769275, 'anova_p_value_kurtosis': 3.693759834391992, 'first_pca_std': 56.3687229169464, 'first_pca_skewness': -0.31913596449450893, 'first_pca_kurtosis': -1.5000000000000004, 'entropy_min': 0.0005953811402914929, 'entropy_max': 0.0006766825499663802, 'entropy_mean': 0.000646787060676695, 'entropy_std': 2.9650805905283533e-05, 'entropy_skewness': -0.8683495221203529, 'entropy_kurtosis': -0.8532989620487244, 'HBOS_mean_min': 0.0078125, 'HBOS_mean_max': 0.01587301587301588, 'HBOS_mean_mean': 0.011155893673690074, 'HBOS_mean_std': 0.002808872757781237, 'HBOS_mean_skewness': 0.6903956884877466, 'HBOS_mean_kurtosis': -1.02344155644111, 'HBOS_max_min': 0.01908955695831916, 'HBOS_max_max': 0.0413309925900396, 'HBOS_max_mean': 0.02703907995835976, 'HBOS_max_std': 0.007919546673300835, 'HBOS_max_skewness': 0.8824004548576273, 'HBOS_max_kurtosis': -0.8610159143306424, 'HBOS_min_min': 5.3851456143374066e-05, 'HBOS_min_max': 0.0006564748939382738, 'HBOS_min_mean': 0.0003139890796264865, 'HBOS_min_std': 0.0001970126719903086, 'HBOS_min_skewness': 0.4269038252256505, 'HBOS_min_kurtosis': -1.5146616373689428, 'IForest_n_leaves_min': 18.0, 'IForest_n_leaves_max': 103.0, 'IForest_n_leaves_mean': 61.4, 'IForest_n_leaves_std': 18.178008691823205, 'IForest_n_leaves_skewness': 0.09948622404164008, 'IForest_n_leaves_kurtosis': -0.3805541139580355, 'IForest_n_depth_min': 8.0, 'IForest_n_depth_max': 8.0, 'IForest_n_depth_mean': 8.0, 'IForest_n_depth_std': 0.0, 'IForest_n_depth_skewness': nan, 'IForest_n_depth_kurtosis': nan, 'IForest_fi_mean_min': 0.02777777777777777, 'IForest_fi_mean_max': 0.027777777777777783, 'IForest_fi_mean_mean': 0.027777777777777776, 'IForest_fi_mean_std': 3.217432742277823e-18, 'IForest_fi_mean_skewness': nan, 'IForest_fi_mean_kurtosis': nan, 'IForest_fi_max_min': 0.08322126766326374, 'IForest_fi_max_max': 0.27099952637648284, 'IForest_fi_max_mean': 0.1436837569060865, 'IForest_fi_max_std': 0.04371695111103004, 'IForest_fi_max_skewness': 0.9999502431338234, 'IForest_fi_max_kurtosis': 0.31192136611576426, 'pca_expl_ratio_1': 0.6553966107977633, 'pca_expl_ratio_2': 0.1920986627547514, 'pca_expl_ratio_3': 0.03848987763012158, 'pca_sv_1': 370.0237764908346, 'pca_sv_2': 200.3271011090851, 'pca_sv_3': 89.67074972338214, 'LODA_n_hists_mean_min': 0.004335688437015502, 'LODA_n_hists_mean_max': 0.18420472169567453, 'LODA_n_hists_mean_mean': 0.10000000000000002, 'LODA_n_hists_mean_std': 0.06591896885169372, 'LODA_n_hists_mean_skewness': -0.20956907138227568, 'LODA_n_hists_mean_kurtosis': -1.507626193619988, 'LODA_n_hists_max_min': 0.08374978459417547, 'LODA_n_hists_max_max': 0.6332931242460786, 'LODA_n_hists_max_mean': 0.4626744787179039, 'LODA_n_hists_max_std': 0.19332139544900273, 'LODA_n_hists_max_skewness': -1.1731687899191177, 'LODA_n_hists_max_kurtosis': -0.2004489084315355, 'LODA_n_cuts_mean_min': 0.09999999999999999, 'LODA_n_cuts_mean_max': 0.10000000000000002, 'LODA_n_cuts_mean_mean': 0.1, 'LODA_n_cuts_mean_std': 9.910722837601152e-18, 'LODA_n_cuts_mean_skewness': nan, 'LODA_n_cuts_mean_kurtosis': nan, 'LODA_n_cuts_max_min': 0.15750473892814051, 'LODA_n_cuts_max_max': 0.6332931242460786, 'LODA_n_cuts_max_mean': 0.3230897811476819, 'LODA_n_cuts_max_std': 0.12034976795808253, 'LODA_n_cuts_max_skewness': 0.614034435643357, 'LODA_n_cuts_max_kurtosis': -0.3232916119158795}\n",
      "Shuttle {'n_samples': 49097.0, 'n_features': 9.0, 'sample_mean': 29.77642897393595, 'sample_median': 32.0, 'sample_var': 7198.589851424132, 'sample_min': -26739.0, 'sample_max': 15164.0, 'sample_std': 84.84450395531894, 'q1': -584.7536, 'q25': -38.0, 'q75': -24.0, 'q99': -22.0, 'iqr': 14.0, 'normalized_mean': 0.0019636262842215742, 'normalized_median': 0.0021102611448166712, 'sample_range': -23633.0, 'sample_gini': 0.0007088594940200234, 'med_abs_dev': 30.0, 'avg_abs_dev': 27.338720591373683, 'quant_coeff_disp': -0.22580645161290322, 'coeff_var': 241.7546394742377, 'percent_outliers_15iqr': 8.492209299957228, 'percent_outliers_3iqr': 5.034971586858668, 'percent_outliers_1_99': 8.90897610851987, 'percent_outliers_3std': 0.0038902580605739657, 'has_outliers_15iqr': 1.0, 'has_outliers_3iqr': 1.0, 'has_outliers_1_99': 1.0, 'has_outliers_3std': 1.0, 'normality_p_min': 0.0, 'normality_p_max': 0.0, 'normality_p_mean': 0.0, 'normality_p_std': 0.0, 'normality_p_skewness': nan, 'normality_p_kurtosis': nan, 'is_normal_5_min': 1.0, 'is_normal_5_max': 1.0, 'is_normal_5_mean': 1.0, 'is_normal_5_std': 0.0, 'is_normal_5_skewness': nan, 'is_normal_5_kurtosis': nan, 'is_normal_1_min': 1.0, 'is_normal_1_max': 1.0, 'is_normal_1_mean': 1.0, 'is_normal_1_std': 0.0, 'is_normal_1_skewness': nan, 'is_normal_1_kurtosis': nan, 'moment_5_min': -2.4729980767374454e+17, 'moment_5_max': 92903906095143.89, 'moment_5_mean': -2.7465770891637468e+16, 'moment_5_std': 7.772307436200174e+16, 'moment_5_skewness': -2.4748730843351088, 'moment_5_kurtosis': 4.12499816252605, 'moment_6_min': 15918915.645875476, 'moment_6_max': 8.148072873812176e+21, 'moment_6_mean': 9.056171665813436e+20, 'moment_6_std': 2.5605948681163506e+21, 'moment_6_skewness': 2.474873374063316, 'moment_6_kurtosis': 4.124998981304633, 'moment_7_min': -1.9310025587894346e+26, 'moment_7_max': 2.38793663537376e+21, 'moment_7_mean': -2.145529961069739e+25, 'moment_7_std': 6.068565627137011e+25, 'moment_7_skewness': -2.474873733445445, 'moment_7_kurtosis': 4.124999997998989, 'moment_8_min': 23539680330.22472, 'moment_8_max': 5.451424630179424e+30, 'moment_8_mean': 6.057194862388585e+29, 'moment_8_std': 1.7132154835193503e+30, 'moment_8_skewness': 2.4748737337968936, 'moment_8_kurtosis': 4.124999998993009, 'moment_9_min': -1.4118769870888188e+35, 'moment_9_max': 6.123166683044434e+28, 'moment_9_mean': -1.5687515053823478e+34, 'moment_9_std': 4.437101545132852e+34, 'moment_9_skewness': -2.4748737341520397, 'moment_9_kurtosis': 4.124999999997521, 'moment_10_min': 69704268026120.29, 'moment_10_max': 3.832215177323568e+39, 'moment_10_mean': 4.258018065975181e+38, 'moment_10_std': 1.2043489969825004e+39, 'moment_10_skewness': 2.474873734152575, 'moment_10_kurtosis': 4.124999999999035, 'skewness_min': -20.076859998464975, 'skewness_max': 26.830105061872107, 'skewness_mean': 2.0960833552785294, 'skewness_std': 11.24838498250637, 'skewness_skewness': 0.330240708331382, 'skewness_kurtosis': 1.2779625432675292, 'kurtosis_min': 1.1118162828547744, 'kurtosis_max': 7586.691041931301, 'kurtosis_mean': 1814.4457622309762, 'kurtosis_std': 2877.7798376872006, 'kurtosis_skewness': 1.1956222049245229, 'kurtosis_kurtosis': -0.35211294535330806, 'correlation_min': -0.9044468801022982, 'correlation_max': 0.8255219683748672, 'correlation_mean': -0.0039140836373590705, 'correlation_std': 0.3225896208812348, 'correlation_skewness': -0.8707104345442835, 'correlation_kurtosis': 2.520596392338951, 'covariance_min': -396.31691273684146, 'covariance_max': 599.3302436943578, 'covariance_mean': 1.265840183081748, 'covariance_std': 194.62942403032906, 'covariance_skewness': 0.3952006751843627, 'covariance_kurtosis': 2.1679132531623457, 'sparsity_min': 0.000977656475955761, 'sparsity_max': 0.005723363952991018, 'sparsity_mean': 0.002412457878168614, 'sparsity_std': 0.0014768866915135137, 'sparsity_skewness': 1.185980018390044, 'sparsity_kurtosis': 0.20248214196512704, 'anova_p_value_min': 0.0, 'anova_p_value_max': 0.5073400139117887, 'anova_p_value_mean': 0.01650562753867724, 'anova_p_value_std': 0.08358121405191955, 'anova_p_value_skewness': 5.620998183140179, 'anova_p_value_kurtosis': 30.039482116398865, 'first_pca_std': 9.262609646437593, 'first_pca_skewness': 0.698787322943905, 'first_pca_kurtosis': -1.5000000000000002, 'entropy_min': 3.226319714850474e-05, 'entropy_max': 8.167895119782324e-05, 'entropy_mean': 5.7758031972854606e-05, 'entropy_std': 1.6480816845877296e-05, 'entropy_skewness': -0.3528532454063057, 'entropy_kurtosis': -1.210867139469837, 'HBOS_mean_min': 2.3864639763262776e-05, 'HBOS_mean_max': 0.0101010101010101, 'HBOS_mean_mean': 0.00327983418426415, 'HBOS_mean_std': 0.003601313662973169, 'HBOS_mean_skewness': 0.7921871380871973, 'HBOS_mean_kurtosis': -0.9944741371247505, 'HBOS_max_min': 0.0002385102976848975, 'HBOS_max_max': 0.06460721025765734, 'HBOS_max_mean': 0.022074383854514868, 'HBOS_max_std': 0.021941447104510372, 'HBOS_max_skewness': 0.7286889560659214, 'HBOS_max_kurtosis': -0.8860495184370492, 'HBOS_min_min': 0.0, 'HBOS_min_max': 2.4688294847367728e-05, 'HBOS_min_mean': 3.043546867455016e-06, 'HBOS_min_std': 7.697284580719386e-06, 'HBOS_min_skewness': 2.4227795620631745, 'HBOS_min_kurtosis': 3.9661909391311694, 'IForest_n_leaves_min': 24.0, 'IForest_n_leaves_max': 96.0, 'IForest_n_leaves_mean': 55.33, 'IForest_n_leaves_std': 15.712450477248925, 'IForest_n_leaves_skewness': 0.020484552971020295, 'IForest_n_leaves_kurtosis': -0.5920946972100025, 'IForest_n_depth_min': 8.0, 'IForest_n_depth_max': 8.0, 'IForest_n_depth_mean': 8.0, 'IForest_n_depth_std': 0.0, 'IForest_n_depth_skewness': nan, 'IForest_n_depth_kurtosis': nan, 'IForest_fi_mean_min': 0.11111111111111109, 'IForest_fi_mean_max': 0.11111111111111113, 'IForest_fi_mean_mean': 0.1111111111111111, 'IForest_fi_mean_std': 9.813077866773595e-18, 'IForest_fi_mean_skewness': nan, 'IForest_fi_mean_kurtosis': nan, 'IForest_fi_max_min': 0.14521332101569182, 'IForest_fi_max_max': 0.4730561111973899, 'IForest_fi_max_mean': 0.24085730300869085, 'IForest_fi_max_std': 0.06316821195827083, 'IForest_fi_max_skewness': 1.2886076969405413, 'IForest_fi_max_kurtosis': 2.0976714923362874, 'pca_expl_ratio_1': 0.3270578844619127, 'pca_expl_ratio_2': 0.19825274054699824, 'pca_expl_ratio_3': 0.1452814764250629, 'pca_sv_1': 380.1552953476234, 'pca_sv_2': 295.97725119293165, 'pca_sv_3': 253.36922037290128, 'LODA_n_hists_mean_min': 6.823227488443285e-05, 'LODA_n_hists_mean_max': 0.4134898262622971, 'LODA_n_hists_mean_mean': 0.10000000000000002, 'LODA_n_hists_mean_std': 0.1384210265865551, 'LODA_n_hists_mean_skewness': 1.1971319839065844, 'LODA_n_hists_mean_kurtosis': 0.08766353731245946, 'LODA_n_hists_max_min': 0.00030551764873619567, 'LODA_n_hists_max_max': 0.9994297003890257, 'LODA_n_hists_max_mean': 0.534871784426747, 'LODA_n_hists_max_std': 0.4088751334432993, 'LODA_n_hists_max_skewness': 0.014971339486006085, 'LODA_n_hists_max_kurtosis': -1.6361213412277351, 'LODA_n_cuts_mean_min': 0.09999999999999999, 'LODA_n_cuts_mean_max': 0.10000000000000002, 'LODA_n_cuts_mean_mean': 0.1, 'LODA_n_cuts_mean_std': 7.601177430610146e-18, 'LODA_n_cuts_mean_skewness': nan, 'LODA_n_cuts_mean_kurtosis': nan, 'LODA_n_cuts_max_min': 0.3880685174246899, 'LODA_n_cuts_max_max': 0.9994297003890257, 'LODA_n_cuts_max_mean': 0.9244238955536999, 'LODA_n_cuts_max_std': 0.13806572460029315, 'LODA_n_cuts_max_skewness': -2.179988299495819, 'LODA_n_cuts_max_kurtosis': 4.083782717540194}\n",
      "Speech {'n_samples': 3686.0, 'n_features': 400.0, 'sample_mean': 0.008684981819723277, 'sample_median': 0.0080015, 'sample_var': 0.8644178028495133, 'sample_min': -5.3168, 'sample_max': 4.8439, 'sample_std': 0.9297407180765578, 'q1': -3.63950409, 'q25': -2.6871, 'q75': -2.29660075, 'q99': -2.1944, 'iqr': 0.39049924999999996, 'normalized_mean': 0.0017929729803925097, 'normalized_median': 0.001651871425917133, 'sample_range': 10.160699999999999, 'sample_gini': 0.09812903689423558, 'med_abs_dev': 0.6145214999999999, 'avg_abs_dev': 0.7359825492916572, 'quant_coeff_disp': -0.07835527644792877, 'coeff_var': 99.53017988897248, 'percent_outliers_15iqr': 387.0477482365708, 'percent_outliers_3iqr': 356.5436787845903, 'percent_outliers_1_99': 396.07921866521974, 'percent_outliers_3std': 1.5067824199674444, 'has_outliers_15iqr': 1.0, 'has_outliers_3iqr': 1.0, 'has_outliers_1_99': 1.0, 'has_outliers_3std': 1.0, 'normality_p_min': 7.179528067337581e-10, 'normality_p_max': 0.9992681428276234, 'normality_p_mean': 0.1572786645146687, 'normality_p_std': 0.23480611316125988, 'normality_p_skewness': 1.7827185627550914, 'normality_p_kurtosis': 2.247269192489812, 'is_normal_5_min': 0.0, 'is_normal_5_max': 1.0, 'is_normal_5_mean': 0.5125, 'is_normal_5_std': 0.49984372557830514, 'is_normal_5_skewness': -0.05001563232803533, 'is_normal_5_kurtosis': -1.997498436522827, 'is_normal_1_min': 0.0, 'is_normal_1_max': 1.0, 'is_normal_1_mean': 0.3175, 'is_normal_1_std': 0.46550375938331584, 'is_normal_1_skewness': 0.7840967825556124, 'is_normal_1_kurtosis': -1.385192235585937, 'moment_5_min': -1.6881105498969302, 'moment_5_max': 1.3757073851515111, 'moment_5_mean': -0.03054293953668623, 'moment_5_std': 0.4525345829054314, 'moment_5_skewness': -0.2538387591633141, 'moment_5_kurtosis': 0.6599731143304823, 'moment_6_min': 6.054576116888428, 'moment_6_max': 17.14340646699536, 'moment_6_mean': 9.851148057645016, 'moment_6_std': 1.784001676271552, 'moment_6_skewness': 0.837819214746818, 'moment_6_kurtosis': 1.0422785080762562, 'moment_7_min': -27.517783839347462, 'moment_7_max': 18.369304549573915, 'moment_7_mean': -0.3444920328373058, 'moment_7_std': 5.530794584039372, 'moment_7_skewness': -0.5362084596368406, 'moment_7_kurtosis': 3.1537540471718906, 'moment_8_min': 30.144729562970607, 'moment_8_max': 179.3263170093953, 'moment_8_mean': 65.76655530676902, 'moment_8_std': 21.83456936306258, 'moment_8_skewness': 1.6011684622301925, 'moment_8_kurtosis': 4.336141209405156, 'moment_9_min': -662.7735993357827, 'moment_9_max': 299.17145920400526, 'moment_9_mean': -5.0110114457490695, 'moment_9_std': 85.75068574862755, 'moment_9_skewness': -1.4749899849121593, 'moment_9_kurtosis': 12.447815640529612, 'moment_10_min': 178.8709451351382, 'moment_10_max': 3662.30906462056, 'moment_10_mean': 582.5411018436281, 'moment_10_std': 355.25630518601224, 'moment_10_skewness': 3.3710452022204564, 'moment_10_kurtosis': 19.516014605318393, 'skewness_min': -0.19257244115906882, 'skewness_max': 0.13978419536899309, 'skewness_mean': -0.004028773434192771, 'skewness_std': 0.060010907822510076, 'skewness_skewness': -0.1150733242590756, 'skewness_kurtosis': -0.05443742064493318, 'kurtosis_min': -0.061834990555106106, 'kurtosis_max': 0.5789562339662773, 'kurtosis_mean': 0.18271532419275385, 'kurtosis_std': 0.10704291272526055, 'kurtosis_skewness': 0.4139589436963539, 'kurtosis_kurtosis': 0.027430449129386414, 'correlation_min': -0.1576419154426411, 'correlation_max': 0.147489555202396, 'correlation_mean': -8.628642773265475e-05, 'correlation_std': 0.033958439223136905, 'correlation_skewness': -0.0027959055973255354, 'correlation_kurtosis': 0.11928245270033644, 'covariance_min': -0.13573037855207523, 'covariance_max': 0.12687941497790758, 'covariance_mean': -6.889186853442373e-05, 'covariance_std': 0.028062961534559155, 'covariance_skewness': -0.0026557000638114956, 'covariance_kurtosis': 0.2364244747325328, 'sparsity_min': 0.9712425393380358, 'sparsity_max': 0.9937601736299512, 'sparsity_mean': 0.9882196147585458, 'sparsity_std': 0.0027463892804554177, 'sparsity_skewness': -2.4729509419424116, 'sparsity_kurtosis': 10.63707061584103, 'anova_p_value_min': 0.0, 'anova_p_value_max': 0.9999287695054596, 'anova_p_value_mean': 0.052989762534454, 'anova_p_value_std': 0.1688578900222874, 'anova_p_value_skewness': 3.716978258343013, 'anova_p_value_kurtosis': 13.564726866247288, 'first_pca_std': 2.697236884709693, 'first_pca_skewness': -0.6674363554569771, 'first_pca_kurtosis': -1.4999999999999996, 'entropy_min': 0.0022167827039141176, 'entropy_max': 0.002225623142191698, 'entropy_mean': 0.0022235115671515996, 'entropy_std': 1.0546061300054198e-06, 'entropy_skewness': -2.5253065111721833, 'entropy_kurtosis': 11.027942105471565, 'HBOS_mean_min': 0.11352412955373663, 'HBOS_mean_max': 0.17260127379740067, 'HBOS_mean_mean': 0.1457197208617741, 'HBOS_mean_std': 0.010193914951869745, 'HBOS_mean_skewness': -0.12437845746197915, 'HBOS_mean_kurtosis': -0.2602788906858744, 'HBOS_max_min': 0.3679173216782214, 'HBOS_max_max': 0.47195463559703954, 'HBOS_max_mean': 0.4296774066221865, 'HBOS_max_std': 0.016543607445526295, 'HBOS_max_skewness': -0.16239686648186205, 'HBOS_max_kurtosis': -0.1143550511310667, 'HBOS_min_min': 0.0003079873292288027, 'HBOS_min_max': 0.007213421927619647, 'HBOS_min_mean': 0.0019704451417262734, 'HBOS_min_std': 0.001428211137877685, 'HBOS_min_skewness': 1.2592912383908312, 'HBOS_min_kurtosis': 1.436457073955344, 'IForest_n_leaves_min': 19.0, 'IForest_n_leaves_max': 100.0, 'IForest_n_leaves_mean': 58.66, 'IForest_n_leaves_std': 17.287695045898978, 'IForest_n_leaves_skewness': 0.07833681547439175, 'IForest_n_leaves_kurtosis': -0.35862082373039605, 'IForest_n_depth_min': 8.0, 'IForest_n_depth_max': 8.0, 'IForest_n_depth_mean': 8.0, 'IForest_n_depth_std': 0.0, 'IForest_n_depth_skewness': nan, 'IForest_n_depth_kurtosis': nan, 'IForest_fi_mean_min': 0.002499999999999999, 'IForest_fi_mean_max': 0.0025000000000000005, 'IForest_fi_mean_mean': 0.0024999999999999996, 'IForest_fi_mean_std': 4.3150701636271263e-19, 'IForest_fi_mean_skewness': nan, 'IForest_fi_mean_kurtosis': nan, 'IForest_fi_max_min': 0.04844163765398975, 'IForest_fi_max_max': 0.29152092563811166, 'IForest_fi_max_mean': 0.10826173332126621, 'IForest_fi_max_std': 0.04318027994504852, 'IForest_fi_max_skewness': 1.4333436479270245, 'IForest_fi_max_kurtosis': 2.653399093439371, 'pca_expl_ratio_1': 0.017243750729586876, 'pca_expl_ratio_2': 0.010948176129373294, 'pca_expl_ratio_3': 0.008265095945041719, 'pca_sv_1': 159.449634918688, 'pca_sv_2': 127.05113492270733, 'pca_sv_3': 110.39047722231074, 'LODA_n_hists_mean_min': 0.002211068909387135, 'LODA_n_hists_mean_max': 0.2786353771025497, 'LODA_n_hists_mean_mean': 0.1, 'LODA_n_hists_mean_std': 0.10275548224573146, 'LODA_n_hists_mean_skewness': 0.688884814568831, 'LODA_n_hists_mean_kurtosis': -1.064795748139068, 'LODA_n_hists_max_min': 0.008138903960933511, 'LODA_n_hists_max_max': 0.35214324470971176, 'LODA_n_hists_max_mean': 0.16383613673358638, 'LODA_n_hists_max_std': 0.1335540684136786, 'LODA_n_hists_max_skewness': 0.18751455260592603, 'LODA_n_hists_max_kurtosis': -1.624000325538679, 'LODA_n_cuts_mean_min': 0.09999999999999999, 'LODA_n_cuts_mean_max': 0.10000000000000002, 'LODA_n_cuts_mean_mean': 0.1, 'LODA_n_cuts_mean_std': 8.993834424997154e-18, 'LODA_n_cuts_mean_skewness': nan, 'LODA_n_cuts_mean_kurtosis': nan, 'LODA_n_cuts_max_min': 0.25149213239283735, 'LODA_n_cuts_max_max': 0.35214324470971176, 'LODA_n_cuts_max_mean': 0.29625067824199625, 'LODA_n_cuts_max_std': 0.02245380476661574, 'LODA_n_cuts_max_skewness': 0.3803650397569978, 'LODA_n_cuts_max_kurtosis': -0.5836224735820155}\n",
      "Thyroid {'n_samples': 3772.0, 'n_features': 6.0, 'sample_mean': 0.2569173747590596, 'sample_median': 0.213472485769, 'sample_var': 0.03911031769441359, 'sample_min': 0.0, 'sample_max': 1.0, 'sample_std': 0.19776328702368795, 'q1': 0.0, 'q25': 0.0, 'q75': 3.77358490566e-05, 'q99': 5.66037735849e-05, 'iqr': 3.77358490566e-05, 'normalized_mean': 0.2569173747590596, 'normalized_median': 0.213472485769, 'sample_range': 1.0, 'sample_gini': 0.4154414396450501, 'med_abs_dev': 0.10436432637500001, 'avg_abs_dev': 0.15025024014703858, 'quant_coeff_disp': 1.0, 'coeff_var': 0.15222916601530645, 'percent_outliers_15iqr': 5.916755037115588, 'percent_outliers_3iqr': 5.9077412513255565, 'percent_outliers_1_99': 5.938759278897137, 'percent_outliers_3std': 0.044538706256627786, 'has_outliers_15iqr': 1.0, 'has_outliers_3iqr': 1.0, 'has_outliers_1_99': 1.0, 'has_outliers_3std': 1.0, 'normality_p_min': 0.0, 'normality_p_max': 5.1631765607864266e-113, 'normality_p_mean': 8.605294267977377e-114, 'normality_p_std': 1.9242022949586706e-113, 'normality_p_skewness': nan, 'normality_p_kurtosis': nan, 'is_normal_5_min': 1.0, 'is_normal_5_max': 1.0, 'is_normal_5_mean': 1.0, 'is_normal_5_std': 0.0, 'is_normal_5_skewness': nan, 'is_normal_5_kurtosis': nan, 'is_normal_1_min': 1.0, 'is_normal_1_max': 1.0, 'is_normal_1_mean': 1.0, 'is_normal_1_std': 0.0, 'is_normal_1_skewness': nan, 'is_normal_1_kurtosis': nan, 'moment_5_min': -0.0003492647235539881, 'moment_5_max': 0.0008596026365805413, 'moment_5_mean': 0.0001940718591510404, 'moment_5_std': 0.0003524078042887407, 'moment_5_skewness': 0.5101740165861544, 'moment_5_kurtosis': 0.062046181418918156, 'moment_6_min': 6.602879527423926e-05, 'moment_6_max': 0.0007619239062869252, 'moment_6_mean': 0.00027083226379454533, 'moment_6_std': 0.0002533725864798791, 'moment_6_skewness': 1.0663689750618386, 'moment_6_kurtosis': -0.4680229520523871, 'moment_7_min': -7.414092884047616e-05, 'moment_7_max': 0.0006852131786077364, 'moment_7_mean': 0.0001474602796357681, 'moment_7_std': 0.0002468601164455621, 'moment_7_skewness': 1.5735024468026642, 'moment_7_kurtosis': 0.8731972777608918, 'moment_8_min': 1.4013831412279568e-05, 'moment_8_max': 0.0006219611866845868, 'moment_8_mean': 0.00014827592878471134, 'moment_8_std': 0.00021262926860793653, 'moment_8_skewness': 1.7580776478664444, 'moment_8_kurtosis': 1.148642567839497, 'moment_9_min': -1.7260358388224314e-05, 'moment_9_max': 0.0005685962414474627, 'moment_9_mean': 0.00011638404057734353, 'moment_9_std': 0.0002036833076518577, 'moment_9_skewness': 1.7309152975593525, 'moment_9_kurtosis': 1.1011254379701896, 'moment_10_min': 3.819893091299443e-06, 'moment_10_max': 0.0005230265535649853, 'moment_10_mean': 0.00010812239511166284, 'moment_10_std': 0.00018599013401353014, 'moment_10_skewness': 1.7697165196482558, 'moment_10_kurtosis': 1.1664416953812253, 'skewness_min': -0.1983194225643966, 'skewness_max': 14.618321707899522, 'skewness_mean': 3.5253349061956896, 'skewness_std': 5.020543035574397, 'skewness_skewness': 1.6916038645320108, 'skewness_kurtosis': 1.0386245094175308, 'kurtosis_min': -0.8923964474627821, 'kurtosis_max': 263.9633752043327, 'kurtosis_mean': 51.76488113818571, 'kurtosis_std': 95.17276852641595, 'kurtosis_skewness': 1.7659228067885167, 'kurtosis_kurtosis': 1.1582748381891586, 'correlation_min': -0.28684639729052236, 'correlation_max': 0.7713321350493086, 'correlation_mean': 0.07736725483007491, 'correlation_std': 0.31699893920309247, 'correlation_skewness': 0.7038735340214389, 'correlation_kurtosis': -0.7091041086159371, 'covariance_min': -0.00324944025987852, 'covariance_max': 0.0034126137647262846, 'covariance_mean': 0.00022903198641128242, 'covariance_std': 0.0019803861700156545, 'covariance_skewness': 0.012779160552262978, 'covariance_kurtosis': -0.8348745382005993, 'sparsity_min': 0.019088016967126194, 'sparsity_max': 0.08589607635206786, 'sparsity_mean': 0.05094556380346412, 'sparsity_std': 0.025283254929158217, 'sparsity_skewness': 0.04916200628774841, 'sparsity_kurtosis': -1.629265614774959, 'anova_p_value_min': 0.0, 'anova_p_value_max': 6.036912406789017e-11, 'anova_p_value_mean': 4.024608271192678e-12, 'anova_p_value_std': 1.5058705266779586e-11, 'anova_p_value_skewness': 3.4743961448615166, 'anova_p_value_kurtosis': 10.071428571428573, 'first_pca_std': 0.13745693525223673, 'first_pca_skewness': -0.49136360252223027, 'first_pca_kurtosis': -1.5, 'entropy_min': 0.0008606306530956196, 'entropy_max': 0.0012804314216531255, 'entropy_mean': 0.0011370868207962676, 'entropy_std': 0.00014464906681019746, 'entropy_skewness': -0.8756336195973615, 'entropy_kurtosis': -0.48201246647972296, 'HBOS_mean_min': 0.9999999999999998, 'HBOS_mean_max': 1.0000000000000002, 'HBOS_mean_mean': 1.0, 'HBOS_mean_std': 1.5700924586837752e-16, 'HBOS_mean_skewness': nan, 'HBOS_mean_kurtosis': nan, 'HBOS_max_min': 1.953870625662779, 'HBOS_max_max': 9.85949098621421, 'HBOS_max_mean': 6.1642806645457755, 'HBOS_max_std': 2.336590914501116, 'HBOS_max_skewness': -0.30078825063559606, 'HBOS_max_kurtosis': -0.1925222663555326, 'HBOS_min_min': 0.0, 'HBOS_min_max': 0.05832449628844114, 'HBOS_min_mean': 0.010604453870625662, 'HBOS_min_std': 0.021373960096231572, 'HBOS_min_skewness': 1.776559044654663, 'HBOS_min_kurtosis': 1.1777514792899417, 'IForest_n_leaves_min': 20.0, 'IForest_n_leaves_max': 106.0, 'IForest_n_leaves_mean': 46.74, 'IForest_n_leaves_std': 16.934355612186724, 'IForest_n_leaves_skewness': 0.6879056189303959, 'IForest_n_leaves_kurtosis': 0.27315021962182184, 'IForest_n_depth_min': 8.0, 'IForest_n_depth_max': 8.0, 'IForest_n_depth_mean': 8.0, 'IForest_n_depth_std': 0.0, 'IForest_n_depth_skewness': nan, 'IForest_n_depth_kurtosis': nan, 'IForest_fi_mean_min': 0.16666666666666663, 'IForest_fi_mean_max': 0.1666666666666667, 'IForest_fi_mean_mean': 0.1666666666666667, 'IForest_fi_mean_std': 5.67464084063076e-17, 'IForest_fi_mean_skewness': nan, 'IForest_fi_mean_kurtosis': nan, 'IForest_fi_max_min': 0.20145345618460347, 'IForest_fi_max_max': 0.47973895392903665, 'IForest_fi_max_mean': 0.3075760916041974, 'IForest_fi_max_std': 0.06447488221440864, 'IForest_fi_max_skewness': 0.6767107244827878, 'IForest_fi_max_kurtosis': -0.0976196248290111, 'pca_expl_ratio_1': 0.3875433197097126, 'pca_expl_ratio_2': 0.24150544740969548, 'pca_expl_ratio_3': 0.14876693636679983, 'pca_sv_1': 93.65297865882438, 'pca_sv_2': 73.93071949992255, 'pca_sv_3': 58.024936913825364, 'LODA_n_hists_mean_min': 0.04741516436903514, 'LODA_n_hists_mean_max': 0.1388679745493106, 'LODA_n_hists_mean_mean': 0.1, 'LODA_n_hists_mean_std': 0.030312088029554676, 'LODA_n_hists_mean_skewness': -0.5244673855401756, 'LODA_n_hists_mean_kurtosis': -0.9050650142267149, 'LODA_n_hists_max_min': 0.6442205726405076, 'LODA_n_hists_max_max': 0.9859490986214188, 'LODA_n_hists_max_mean': 0.804082714740189, 'LODA_n_hists_max_std': 0.1321814973416075, 'LODA_n_hists_max_skewness': 0.1697979287711844, 'LODA_n_hists_max_kurtosis': -1.5903708285544473, 'LODA_n_cuts_mean_min': 0.09999999999999999, 'LODA_n_cuts_mean_max': 0.10000000000000002, 'LODA_n_cuts_mean_mean': 0.1, 'LODA_n_cuts_mean_std': 1.0103182026100663e-17, 'LODA_n_cuts_mean_skewness': nan, 'LODA_n_cuts_mean_kurtosis': nan, 'LODA_n_cuts_max_min': 0.1786850477200422, 'LODA_n_cuts_max_max': 0.9859490986214188, 'LODA_n_cuts_max_mean': 0.5470148462354177, 'LODA_n_cuts_max_std': 0.22020958917020628, 'LODA_n_cuts_max_skewness': -0.017997684287267175, 'LODA_n_cuts_max_kurtosis': -0.5435142632632548}\n",
      "Vertebral {'n_samples': 240.0, 'n_features': 6.0, 'sample_mean': 55.12193055555556, 'sample_median': 49.24, 'sample_var': 1397.6622793285107, 'sample_min': -10.68, 'sample_max': 418.54, 'sample_std': 37.38532170957622, 'q1': -10.595099, 'q25': -8.01515, 'q75': -3.8948749999999994, 'q99': -3.1735530000000005, 'iqr': 4.120275000000001, 'normalized_mean': 0.13170050785003956, 'normalized_median': 0.11764705882352941, 'sample_range': 429.22, 'sample_gini': 0.3122750287581992, 'med_abs_dev': 23.095000000000002, 'avg_abs_dev': 29.395675790895066, 'quant_coeff_disp': -0.34595015543628177, 'coeff_var': 25.355829617031528, 'percent_outliers_15iqr': 5.770833333333333, 'percent_outliers_3iqr': 5.529166666666667, 'percent_outliers_1_99': 5.941666666666666, 'percent_outliers_3std': 0.004166666666666667, 'has_outliers_15iqr': 1.0, 'has_outliers_3iqr': 1.0, 'has_outliers_1_99': 1.0, 'has_outliers_3std': 1.0, 'normality_p_min': 1.5882078071209982e-56, 'normality_p_max': 0.043724870551523486, 'normality_p_mean': 0.019512485374697398, 'normality_p_std': 0.019612698399455945, 'normality_p_skewness': 0.14868916979955388, 'normality_p_kurtosis': -1.83077911919208, 'is_normal_5_min': 1.0, 'is_normal_5_max': 1.0, 'is_normal_5_mean': 1.0, 'is_normal_5_std': 0.0, 'is_normal_5_skewness': nan, 'is_normal_5_kurtosis': nan, 'is_normal_1_min': 0.0, 'is_normal_1_max': 1.0, 'is_normal_1_mean': 0.5, 'is_normal_1_std': 0.5, 'is_normal_1_skewness': 0.0, 'is_normal_1_kurtosis': -2.0, 'moment_5_min': 329480.3933318039, 'moment_5_max': 35520554767.12443, 'moment_5_mean': 5925338430.478982, 'moment_5_std': 13235383864.532038, 'moment_5_skewness': 1.7888539215619128, 'moment_5_kurtosis': 1.1999991763884035, 'moment_6_min': 20778951.25006234, 'moment_6_max': 13602910876649.19, 'moment_6_mean': 2267593046553.707, 'moment_6_std': 5069308253922.825, 'moment_6_skewness': 1.7888543645464314, 'moment_6_kurtosis': 1.1999999687787435, 'moment_7_min': 372713105.9798087, 'moment_7_max': 5229669890898837.0, 'moment_7_mean': 871636011287993.1, 'moment_7_std': 1948972000752498.5, 'moment_7_skewness': 1.7888543814170372, 'moment_7_kurtosis': 1.1999999989574643, 'moment_8_min': 13927878437.89391, 'moment_8_max': 2.01281492891607e+18, 'moment_8_mean': 3.3547097699807725e+17, 'moment_8_std': 7.501310196293832e+17, 'moment_8_skewness': 1.788854381978058, 'moment_8_kurtosis': 1.19999999996105, 'moment_9_min': 301336274052.08075, 'moment_9_max': 7.749125172355043e+20, 'moment_9_mean': 1.2915220926767772e+20, 'moment_9_std': 2.8879278915748286e+20, 'moment_9_skewness': 1.7888543819989684, 'moment_9_kurtosis': 1.1999999999984556, 'moment_10_min': 10471829302034.885, 'moment_10_max': 2.9835562785010298e+23, 'moment_10_mean': 4.972594703557875e+22, 'moment_10_std': 1.1119057350507076e+23, 'moment_10_skewness': 1.7888543819997977, 'moment_10_kurtosis': 1.199999999999939, 'skewness_min': 0.003036835452144878, 'skewness_max': 4.195292285762064, 'skewness_mean': 1.0445313401015028, 'skewness_std': 1.4253525357264467, 'skewness_skewness': 1.6956286677510486, 'skewness_kurtosis': 1.0437044446211114, 'kurtosis_min': -0.0535502017545566, 'kurtosis_max': 35.15636963110582, 'kurtosis_mean': 6.574750065809707, 'kurtosis_std': 12.819262772259261, 'kurtosis_skewness': 1.7661462291280003, 'kurtosis_kurtosis': 1.157520435617566, 'correlation_min': -0.2969640639618197, 'correlation_max': 0.798794650119183, 'correlation_mean': 0.32651762283223734, 'correlation_std': 0.3219343283778187, 'correlation_skewness': -0.4007827802396064, 'correlation_kurtosis': -1.0652358992747133, 'covariance_min': -56.83841080020923, 'covariance_max': 438.3382126551604, 'covariance_mean': 134.51996910378892, 'covariance_std': 146.4002276042597, 'covariance_skewness': 0.6854376901662705, 'covariance_kurtosis': -0.5494548343180345, 'sparsity_min': 0.9041666666666667, 'sparsity_max': 1.0, 'sparsity_mean': 0.9541666666666666, 'sparsity_std': 0.036164490461920926, 'sparsity_skewness': -0.08870481958393922, 'sparsity_kurtosis': -1.6813767718693713, 'anova_p_value_min': 7.602006833623745e-296, 'anova_p_value_max': 6.46567246856867e-05, 'anova_p_value_mean': 4.3234306316484645e-06, 'anova_p_value_std': 1.612478873375902e-05, 'anova_p_value_skewness': 3.4743680995945767, 'anova_p_value_kurtosis': 10.071308507095845, 'first_pca_std': 19.39098717038149, 'first_pca_skewness': -0.020139281243366683, 'first_pca_kurtosis': -1.4999999999999998, 'entropy_min': 0.0222311203559706, 'entropy_max': 0.02283599551392496, 'entropy_mean': 0.02255164785294089, 'entropy_std': 0.0002315602602241994, 'entropy_skewness': -0.1523456955711639, 'entropy_kurtosis': -1.6682410049158118, 'HBOS_mean_min': 0.0023298075578957167, 'HBOS_mean_max': 0.017863522686673815, 'HBOS_mean_mean': 0.009799283542101822, 'HBOS_mean_std': 0.004523634111830426, 'HBOS_mean_skewness': 0.1940518221798251, 'HBOS_mean_kurtosis': -0.07719552199659008, 'HBOS_max_min': 0.013202242828075732, 'HBOS_max_max': 0.043914493271406466, 'HBOS_max_mean': 0.026421556572462094, 'HBOS_max_std': 0.010310958776768655, 'HBOS_max_skewness': 0.47353253077378504, 'HBOS_max_kurtosis': -1.0383731161283767, 'HBOS_min_min': 0.0, 'HBOS_min_max': 0.002977253781112302, 'HBOS_min_mean': 0.0006455679148993913, 'HBOS_min_std': 0.001092900113576523, 'HBOS_min_skewness': 1.483124671513037, 'HBOS_min_kurtosis': 0.5347060475873797, 'IForest_n_leaves_min': 18.0, 'IForest_n_leaves_max': 88.0, 'IForest_n_leaves_mean': 53.27, 'IForest_n_leaves_std': 15.330919737576085, 'IForest_n_leaves_skewness': 0.03395473051236711, 'IForest_n_leaves_kurtosis': -0.2743664907617891, 'IForest_n_depth_min': 8.0, 'IForest_n_depth_max': 8.0, 'IForest_n_depth_mean': 8.0, 'IForest_n_depth_std': 0.0, 'IForest_n_depth_skewness': nan, 'IForest_n_depth_kurtosis': nan, 'IForest_fi_mean_min': 0.16666666666666663, 'IForest_fi_mean_max': 0.1666666666666667, 'IForest_fi_mean_mean': 0.1666666666666667, 'IForest_fi_mean_std': 5.4176722263774386e-17, 'IForest_fi_mean_skewness': nan, 'IForest_fi_mean_kurtosis': nan, 'IForest_fi_max_min': 0.19332906849880135, 'IForest_fi_max_max': 0.5388507805819066, 'IForest_fi_max_mean': 0.2940260982034059, 'IForest_fi_max_std': 0.06091974075059502, 'IForest_fi_max_skewness': 1.1965541989484154, 'IForest_fi_max_kurtosis': 2.2754219298003227, 'pca_expl_ratio_1': 0.5171574546914551, 'pca_expl_ratio_2': 0.22132636391975716, 'pca_expl_ratio_3': 0.12710753018328944, 'pca_sv_1': 27.2893153955114, 'pca_sv_2': 17.852449805123396, 'pca_sv_3': 13.529037048657116, 'LODA_n_hists_mean_min': 0.055958333333335164, 'LODA_n_hists_mean_max': 0.14808333333333135, 'LODA_n_hists_mean_mean': 0.1, 'LODA_n_hists_mean_std': 0.029005034285255017, 'LODA_n_hists_mean_skewness': 0.24203789949875273, 'LODA_n_hists_mean_kurtosis': -1.0158410690348934, 'LODA_n_hists_max_min': 0.3124999999999912, 'LODA_n_hists_max_max': 0.6083333333333122, 'LODA_n_hists_max_mean': 0.4762499999999844, 'LODA_n_hists_max_std': 0.1000355839466873, 'LODA_n_hists_max_skewness': -0.3942040301819892, 'LODA_n_hists_max_kurtosis': -1.064315087247494, 'LODA_n_cuts_mean_min': 0.09999999999999999, 'LODA_n_cuts_mean_max': 0.10000000000000002, 'LODA_n_cuts_mean_mean': 0.1, 'LODA_n_cuts_mean_std': 8.441528768080324e-18, 'LODA_n_cuts_mean_skewness': nan, 'LODA_n_cuts_mean_kurtosis': nan, 'LODA_n_cuts_max_min': 0.17916666666666337, 'LODA_n_cuts_max_max': 0.6083333333333122, 'LODA_n_cuts_max_mean': 0.3306249999999904, 'LODA_n_cuts_max_std': 0.12398249064327523, 'LODA_n_cuts_max_skewness': 0.8003812361401257, 'LODA_n_cuts_max_kurtosis': -0.7144570372471555}\n",
      "Vowels {'n_samples': 1456.0, 'n_features': 12.0, 'sample_mean': 7.1574817704772e-17, 'sample_median': 0.003123954135815495, 'sample_var': 0.999313186813187, 'sample_min': -3.487842070624604, 'sample_max': 3.9330626751289826, 'sample_std': 0.999656534422292, 'q1': -3.363519775622042, 'q25': -2.7326134418774153, 'q75': -2.3427246879042447, 'q99': -2.26074198361431, 'iqr': 0.3898887539731706, 'normalized_mean': 1.819823979856226e-17, 'normalized_median': 0.0007942802832942515, 'sample_range': 7.420904745753587, 'sample_gini': 0.16300534153128313, 'med_abs_dev': 0.7315811427501424, 'avg_abs_dev': 0.8179582172519226, 'quant_coeff_disp': -0.07682025197204813, 'coeff_var': 1.39617985607047e+16, 'percent_outliers_15iqr': 11.552884615384615, 'percent_outliers_3iqr': 10.495192307692308, 'percent_outliers_1_99': 11.882554945054945, 'percent_outliers_3std': 0.027472527472527472, 'has_outliers_15iqr': 1.0, 'has_outliers_3iqr': 1.0, 'has_outliers_1_99': 1.0, 'has_outliers_3std': 1.0, 'normality_p_min': 2.4425123763152988e-216, 'normality_p_max': 0.024298752327104496, 'normality_p_mean': 0.0038405668124339254, 'normality_p_std': 0.008587897603803641, 'normality_p_skewness': 1.803967921392037, 'normality_p_kurtosis': 1.2810853287943758, 'is_normal_5_min': 1.0, 'is_normal_5_max': 1.0, 'is_normal_5_mean': 1.0, 'is_normal_5_std': 0.0, 'is_normal_5_skewness': nan, 'is_normal_5_kurtosis': nan, 'is_normal_1_min': 0.0, 'is_normal_1_max': 1.0, 'is_normal_1_mean': 0.8333333333333334, 'is_normal_1_std': 0.3726779962499649, 'is_normal_1_skewness': -1.7888543819998328, 'is_normal_1_kurtosis': 1.200000000000002, 'moment_5_min': -4.649105420127457, 'moment_5_max': 2.9484923766666777, 'moment_5_mean': -0.29357828117568446, 'moment_5_std': 2.2491028615771333, 'moment_5_skewness': -0.23347967699621816, 'moment_5_kurtosis': -0.8542063988920483, 'moment_6_min': 4.388391468836811, 'moment_6_max': 17.62487056344559, 'moment_6_mean': 11.904026256434376, 'moment_6_std': 4.757844995659838, 'moment_6_skewness': -0.33534552872531426, 'moment_6_kurtosis': -1.331296796328343, 'moment_7_min': -39.7250110893005, 'moment_7_max': 24.93444534783527, 'moment_7_mean': -1.1577158315981255, 'moment_7_std': 18.535221473842174, 'moment_7_skewness': -0.34544267581940313, 'moment_7_kurtosis': -0.5136366465600286, 'moment_8_min': 13.310228968381494, 'moment_8_max': 144.39221112444557, 'moment_8_mean': 74.78056275493695, 'moment_8_std': 43.78106592226573, 'moment_8_skewness': -0.021013394700582423, 'moment_8_kurtosis': -1.2596657633170023, 'moment_9_min': -364.0169439018945, 'moment_9_max': 323.65713561242694, 'moment_9_mean': 3.6823547420984752, 'moment_9_std': 174.85177613125316, 'moment_9_skewness': -0.20351435700031242, 'moment_9_kurtosis': -0.10392703725171382, 'moment_10_min': 48.90041277261042, 'moment_10_max': 1507.655600335819, 'moment_10_mean': 595.893667329197, 'moment_10_std': 447.59541310861084, 'moment_10_skewness': 0.4507296648139844, 'moment_10_kurtosis': -0.7191153520989588, 'skewness_min': -0.5382286246404794, 'skewness_max': 0.4140926187733311, 'skewness_mean': -0.04519728166995652, 'skewness_std': 0.2861996609457299, 'skewness_skewness': -0.028557273032548982, 'skewness_kurtosis': -1.13338395190874, 'kurtosis_min': -1.1826703618168968, 'kurtosis_max': 0.3569204785238602, 'kurtosis_mean': -0.3159832456980252, 'kurtosis_std': 0.5020676890924808, 'kurtosis_skewness': -0.4932446134346926, 'kurtosis_kurtosis': -1.1945260779679419, 'correlation_min': -0.8081699831388458, 'correlation_max': 0.7585263603402749, 'correlation_mean': -0.072767624566011, 'correlation_std': 0.3312632495424952, 'correlation_skewness': -0.11621799804479452, 'correlation_kurtosis': -0.47264625501899227, 'covariance_min': -0.8081699831388462, 'covariance_max': 0.7585263603402773, 'covariance_mean': -0.072767624566011, 'covariance_std': 0.33126324954249536, 'covariance_skewness': -0.11621799804479259, 'covariance_kurtosis': -0.47264625501898916, 'sparsity_min': 0.9931318681318682, 'sparsity_max': 0.9972527472527473, 'sparsity_mean': 0.9959935897435898, 'sparsity_std': 0.0012487078885800912, 'sparsity_skewness': -1.1632056558929402, 'sparsity_kurtosis': 0.33514582303509677, 'anova_p_value_min': 1.0, 'anova_p_value_max': 1.0, 'anova_p_value_mean': 1.0, 'anova_p_value_std': 0.0, 'anova_p_value_skewness': nan, 'anova_p_value_kurtosis': nan, 'first_pca_std': 0.9582243059913776, 'first_pca_skewness': 0.2270245017209663, 'first_pca_kurtosis': -1.5, 'entropy_min': 0.004995828967222812, 'entropy_max': 0.004999752560277847, 'entropy_mean': 0.004998553684622142, 'entropy_std': 1.1889263081210854e-06, 'entropy_skewness': -1.1632056558929735, 'entropy_kurtosis': 0.3351458230354085, 'HBOS_mean_min': 0.14265573028909104, 'HBOS_mean_max': 0.23752579567413581, 'HBOS_mean_mean': 0.17848104587314909, 'HBOS_mean_std': 0.02910526283377817, 'HBOS_mean_skewness': 0.7059923702236585, 'HBOS_mean_kurtosis': -0.6715263607629929, 'HBOS_max_min': 0.33528266381313765, 'HBOS_max_max': 0.4742723646757379, 'HBOS_max_mean': 0.39204871996058294, 'HBOS_max_std': 0.040110232697268294, 'HBOS_max_skewness': 0.42665426580214877, 'HBOS_max_kurtosis': -0.4895458462357243, 'HBOS_min_min': 0.002108695998824762, 'HBOS_min_max': 0.024642404900257566, 'HBOS_min_mean': 0.009015816641371537, 'HBOS_min_std': 0.005857814246972824, 'HBOS_min_skewness': 1.3879470256426243, 'HBOS_min_kurtosis': 1.5686602919730985, 'IForest_n_leaves_min': 18.0, 'IForest_n_leaves_max': 109.0, 'IForest_n_leaves_mean': 68.21, 'IForest_n_leaves_std': 18.54470005149719, 'IForest_n_leaves_skewness': -0.18926460842377274, 'IForest_n_leaves_kurtosis': -0.3156252895805647, 'IForest_n_depth_min': 8.0, 'IForest_n_depth_max': 8.0, 'IForest_n_depth_mean': 8.0, 'IForest_n_depth_std': 0.0, 'IForest_n_depth_skewness': nan, 'IForest_n_depth_kurtosis': nan, 'IForest_fi_mean_min': 0.0833333333333333, 'IForest_fi_mean_max': 0.08333333333333336, 'IForest_fi_mean_mean': 0.08333333333333336, 'IForest_fi_mean_std': 2.803175729971263e-17, 'IForest_fi_mean_skewness': nan, 'IForest_fi_mean_kurtosis': nan, 'IForest_fi_max_min': 0.11975932036499065, 'IForest_fi_max_max': 0.31782602617197736, 'IForest_fi_max_mean': 0.1927441628976272, 'IForest_fi_max_std': 0.04510948285214032, 'IForest_fi_max_skewness': 0.7684231527430458, 'IForest_fi_max_kurtosis': 0.10753628807643434, 'pca_expl_ratio_1': 0.3095213420079008, 'pca_expl_ratio_2': 0.23170472456697294, 'pca_expl_ratio_3': 0.14439969542171008, 'pca_sv_1': 73.53881211688181, 'pca_sv_2': 63.62660565859341, 'pca_sv_3': 50.22899041796598, 'LODA_n_hists_mean_min': 0.011016483516484129, 'LODA_n_hists_mean_max': 0.18013049450549395, 'LODA_n_hists_mean_mean': 0.1, 'LODA_n_hists_mean_std': 0.06162666470686297, 'LODA_n_hists_mean_skewness': -0.15384002490716284, 'LODA_n_hists_mean_kurtosis': -1.5001898909019011, 'LODA_n_hists_max_min': 0.09546703296703299, 'LODA_n_hists_max_max': 0.3454670329670313, 'LODA_n_hists_max_mean': 0.2434752747252738, 'LODA_n_hists_max_std': 0.08081795294508778, 'LODA_n_hists_max_skewness': -0.9153613314173008, 'LODA_n_hists_max_kurtosis': -0.4459016693358593, 'LODA_n_cuts_mean_min': 0.09999999999999999, 'LODA_n_cuts_mean_max': 0.10000000000000002, 'LODA_n_cuts_mean_mean': 0.1, 'LODA_n_cuts_mean_std': 7.726825239126631e-18, 'LODA_n_cuts_mean_skewness': nan, 'LODA_n_cuts_mean_kurtosis': nan, 'LODA_n_cuts_max_min': 0.15659340659340623, 'LODA_n_cuts_max_max': 0.3454670329670313, 'LODA_n_cuts_max_mean': 0.22530906593406505, 'LODA_n_cuts_max_std': 0.03989567389506004, 'LODA_n_cuts_max_skewness': 0.37452730226290043, 'LODA_n_cuts_max_kurtosis': -0.4208666837330379}\n",
      "Wbc {'n_samples': 378.0, 'n_features': 30.0, 'sample_mean': 0.19371859900144447, 'sample_median': 0.164623633253, 'sample_var': 0.02055747235680628, 'sample_min': 0.0, 'sample_max': 1.0, 'sample_std': 0.14337877233679427, 'q1': 0.0, 'q25': 0.0, 'q75': 0.0, 'q99': 0.0020737563097441712, 'iqr': 0.0, 'normalized_mean': 0.19371859900144447, 'normalized_median': 0.164623633253, 'sample_range': 1.0, 'sample_gini': 0.39631658655824875, 'med_abs_dev': 0.08870807796445, 'avg_abs_dev': 0.11079919108684856, 'quant_coeff_disp': nan, 'coeff_var': 0.10612028201098539, 'percent_outliers_15iqr': 29.74074074074074, 'percent_outliers_3iqr': 29.74074074074074, 'percent_outliers_1_99': 29.701058201058203, 'percent_outliers_3std': 0.41005291005291006, 'has_outliers_15iqr': 1.0, 'has_outliers_3iqr': 1.0, 'has_outliers_1_99': 1.0, 'has_outliers_3std': 1.0, 'normality_p_min': 2.7185612434522763e-106, 'normality_p_max': 0.0004325092942183448, 'normality_p_mean': 1.4424594769490497e-05, 'normality_p_std': 7.763638780944919e-05, 'normality_p_skewness': 5.199467713153545, 'normality_p_kurtosis': 25.03447101741074, 'is_normal_5_min': 1.0, 'is_normal_5_max': 1.0, 'is_normal_5_mean': 1.0, 'is_normal_5_std': 0.0, 'is_normal_5_skewness': nan, 'is_normal_5_kurtosis': nan, 'is_normal_1_min': 1.0, 'is_normal_1_max': 1.0, 'is_normal_1_mean': 1.0, 'is_normal_1_std': 0.0, 'is_normal_1_skewness': nan, 'is_normal_1_kurtosis': nan, 'moment_5_min': 1.011009130465162e-05, 'moment_5_max': 0.003280993349549891, 'moment_5_mean': 0.000887238902646355, 'moment_5_std': 0.0008363711442988625, 'moment_5_skewness': 1.109887274490338, 'moment_5_kurtosis': 0.4661721595284085, 'moment_6_min': 2.494340629124483e-06, 'moment_6_max': 0.0025344430968101154, 'moment_6_mean': 0.0006140777352642533, 'moment_6_std': 0.0006690641965287893, 'moment_6_skewness': 1.3174839939315115, 'moment_6_kurtosis': 0.8518674883999835, 'moment_7_min': 6.263920410075236e-07, 'moment_7_max': 0.002033134625650593, 'moment_7_mean': 0.00044281321582309303, 'moment_7_std': 0.0005603140350944268, 'moment_7_skewness': 1.5151842819253836, 'moment_7_kurtosis': 1.3103009503263356, 'moment_8_min': 1.5930088439791282e-07, 'moment_8_max': 0.0016714655404957961, 'moment_8_mean': 0.00034109518903865726, 'moment_8_std': 0.0004793452446063041, 'moment_8_skewness': 1.6759694280081752, 'moment_8_kurtosis': 1.7595387251808932, 'moment_9_min': 4.089386496193655e-08, 'moment_9_max': 0.0015050571603411106, 'moment_9_mean': 0.000271406808865344, 'moment_9_std': 0.00041689039331225023, 'moment_9_skewness': 1.8203638552738344, 'moment_9_kurtosis': 2.2427801109798535, 'moment_10_min': 1.0574552297820311e-08, 'moment_10_max': 0.0013776824929794072, 'moment_10_mean': 0.00022199515492055921, 'moment_10_std': 0.0003663642049736306, 'moment_10_skewness': 1.9563909953785372, 'moment_10_kurtosis': 2.778106345332138, 'skewness_min': 0.4558593286276046, 'skewness_max': 6.078935481706371, 'skewness_mean': 2.089488033706392, 'skewness_std': 1.289056849351109, 'skewness_skewness': 1.3249286454230644, 'skewness_kurtosis': 1.630922504503248, 'kurtosis_min': 0.33592676508593255, 'kurtosis_max': 56.24460109686714, 'kurtosis_mean': 9.767814187828087, 'kurtosis_std': 11.408412324896426, 'kurtosis_skewness': 2.5310889302989112, 'kurtosis_kurtosis': 6.97388472549204, 'correlation_min': -0.49939907572206715, 'correlation_max': 0.996727057561277, 'correlation_mean': 0.29392654053121536, 'correlation_std': 0.31881186880273454, 'correlation_skewness': 0.13783626992928122, 'correlation_kurtosis': -0.44849407228270444, 'covariance_min': -0.0055997780439173885, 'covariance_max': 0.02048274393921786, 'covariance_mean': 0.0033372506329605012, 'covariance_std': 0.004178861853312955, 'covariance_skewness': 0.8196667579865805, 'covariance_kurtosis': 0.7856141599270745, 'sparsity_min': 0.7671957671957672, 'sparsity_max': 0.9708994708994709, 'sparsity_mean': 0.9138447971781305, 'sparsity_std': 0.05477610315016948, 'sparsity_skewness': -1.4700571613508888, 'sparsity_kurtosis': 1.1126441564213518, 'anova_p_value_min': 1.0828395641493898e-242, 'anova_p_value_max': 0.9904070398311909, 'anova_p_value_mean': 0.03719521432668151, 'anova_p_value_std': 0.14202283293125223, 'anova_p_value_skewness': 4.40100901790426, 'anova_p_value_kurtosis': 19.601560985575148, 'first_pca_std': 0.17000196313144175, 'first_pca_skewness': -0.7060197246145776, 'first_pca_kurtosis': -1.5, 'entropy_min': 0.014749095300746756, 'entropy_max': 0.015594053693708785, 'entropy_mean': 0.015347227280796955, 'entropy_std': 0.00022153696749355398, 'entropy_skewness': -1.3155480777881015, 'entropy_kurtosis': 0.8172788908815285, 'HBOS_mean_min': 0.9999999999999998, 'HBOS_mean_max': 3.2806652042299973, 'HBOS_mean_mean': 1.328922741092007, 'HBOS_mean_std': 0.5056260571448908, 'HBOS_mean_skewness': 2.456270698033257, 'HBOS_mean_kurtosis': 5.8662151811948835, 'HBOS_max_min': 2.5381363098243925, 'HBOS_max_max': 21.61073110722934, 'HBOS_max_mean': 5.524858663416791, 'HBOS_max_std': 3.4814648971551296, 'HBOS_max_skewness': 3.3184422055645935, 'HBOS_max_kurtosis': 12.392930549685113, 'HBOS_min_min': 0.0, 'HBOS_min_max': 0.12749178201988132, 'HBOS_min_mean': 0.03105421732780406, 'HBOS_min_std': 0.03441028297136025, 'HBOS_min_skewness': 0.9705193543238831, 'HBOS_min_kurtosis': 0.20800900123303956, 'IForest_n_leaves_min': 16.0, 'IForest_n_leaves_max': 98.0, 'IForest_n_leaves_mean': 52.67, 'IForest_n_leaves_std': 17.684487552654726, 'IForest_n_leaves_skewness': 0.26165015251532253, 'IForest_n_leaves_kurtosis': -0.35347862443629596, 'IForest_n_depth_min': 8.0, 'IForest_n_depth_max': 8.0, 'IForest_n_depth_mean': 8.0, 'IForest_n_depth_std': 0.0, 'IForest_n_depth_skewness': nan, 'IForest_n_depth_kurtosis': nan, 'IForest_fi_mean_min': 0.03333333333333332, 'IForest_fi_mean_max': 0.03333333333333334, 'IForest_fi_mean_mean': 0.03333333333333332, 'IForest_fi_mean_std': 1.415262216750919e-17, 'IForest_fi_mean_skewness': nan, 'IForest_fi_mean_kurtosis': nan, 'IForest_fi_max_min': 0.08063846735960245, 'IForest_fi_max_max': 0.41510692730131793, 'IForest_fi_max_mean': 0.15485238795050724, 'IForest_fi_max_std': 0.05905337034659796, 'IForest_fi_max_skewness': 2.109534058516742, 'IForest_fi_max_kurtosis': 5.627302207905078, 'pca_expl_ratio_1': 0.3759231041651542, 'pca_expl_ratio_2': 0.22646102491337414, 'pca_expl_ratio_3': 0.09644242140336556, 'pca_sv_1': 65.29140832630927, 'pca_sv_2': 50.67610899149284, 'pca_sv_3': 33.07048621829085, 'LODA_n_hists_mean_min': 0.027116402116404034, 'LODA_n_hists_mean_max': 0.16275132275132112, 'LODA_n_hists_mean_mean': 0.09999999999999999, 'LODA_n_hists_mean_std': 0.041079252294384895, 'LODA_n_hists_mean_skewness': -0.32711014586841386, 'LODA_n_hists_mean_kurtosis': -0.7369623083875099, 'LODA_n_hists_max_min': 0.22222222222221896, 'LODA_n_hists_max_max': 0.6825396825396672, 'LODA_n_hists_max_mean': 0.5002645502645396, 'LODA_n_hists_max_std': 0.12776134502766429, 'LODA_n_hists_max_skewness': -0.6627505536085346, 'LODA_n_hists_max_kurtosis': -0.12097705716009477, 'LODA_n_cuts_mean_min': 0.09999999999999998, 'LODA_n_cuts_mean_max': 0.10000000000000002, 'LODA_n_cuts_mean_mean': 0.09999999999999998, 'LODA_n_cuts_mean_std': 2.2073972817097756e-17, 'LODA_n_cuts_mean_skewness': nan, 'LODA_n_cuts_mean_kurtosis': nan, 'LODA_n_cuts_max_min': 0.21164021164020866, 'LODA_n_cuts_max_max': 0.6825396825396672, 'LODA_n_cuts_max_mean': 0.3769047619047546, 'LODA_n_cuts_max_std': 0.09145442189789424, 'LODA_n_cuts_max_skewness': 0.9121631543672536, 'LODA_n_cuts_max_kurtosis': 0.7730518009335219}\n",
      "Wine {'n_samples': 129.0, 'n_features': 13.0, 'sample_mean': 58.56320572391175, 'sample_median': 2.5, 'sample_var': 30068.204271365143, 'sample_min': 0.13, 'sample_max': 1450.0, 'sample_std': 173.40185775061678, 'q1': 0.13167600000000002, 'q25': 0.1738, 'q75': 0.2314, 'q99': 0.24, 'iqr': 0.057599999999999985, 'normalized_mean': 0.04038841774062879, 'normalized_median': 0.0017241379310344827, 'sample_range': 1449.87, 'sample_gini': 0.8765257597653775, 'med_abs_dev': 1.62, 'avg_abs_dev': 91.14095757093712, 'quant_coeff_disp': 0.14215202369200391, 'coeff_var': 513.4316658332809, 'percent_outliers_15iqr': 12.682170542635658, 'percent_outliers_3iqr': 12.44186046511628, 'percent_outliers_1_99': 12.868217054263566, 'percent_outliers_3std': 0.4883720930232558, 'has_outliers_15iqr': 1.0, 'has_outliers_3iqr': 1.0, 'has_outliers_1_99': 1.0, 'has_outliers_3std': 1.0, 'normality_p_min': 1.2631456110122808e-17, 'normality_p_max': 0.1541074210845261, 'normality_p_mean': 0.029824079018459078, 'normality_p_std': 0.043485615551846844, 'normality_p_skewness': 1.7623446844092256, 'normality_p_kurtosis': 2.337791763526199, 'is_normal_5_min': 0.0, 'is_normal_5_max': 1.0, 'is_normal_5_mean': 0.7692307692307693, 'is_normal_5_std': 0.4213250442347432, 'is_normal_5_skewness': -1.2780193008453877, 'is_normal_5_kurtosis': -0.3666666666666676, 'is_normal_1_min': 0.0, 'is_normal_1_max': 1.0, 'is_normal_1_mean': 0.46153846153846156, 'is_normal_1_std': 0.4985185152621431, 'is_normal_1_skewness': 0.1543033499620917, 'is_normal_1_kurtosis': -1.976190476190476, 'moment_5_min': -0.004748671084570458, 'moment_5_max': 8839605685182.725, 'moment_5_mean': 679970775198.5056, 'moment_5_std': 2355483705887.328, 'moment_5_skewness': 3.175426480528126, 'moment_5_kurtosis': 8.08333333327631, 'moment_6_min': 2.644549461577009e-05, 'moment_6_max': 6683733632906423.0, 'moment_6_mean': 514133421355771.94, 'moment_6_std': 1781010171465584.2, 'moment_6_skewness': 3.175426480542852, 'moment_6_kurtosis': 8.08333333333299, 'moment_7_min': -0.003978000714768576, 'moment_7_max': 4.939976518068099e+18, 'moment_7_mean': 3.799981974975759e+17, 'moment_7_std': 1.3163523554401247e+18, 'moment_7_skewness': 3.175426480542941, 'moment_7_kurtosis': 8.083333333333329, 'moment_8_min': 1.3957402502890097e-06, 'moment_8_max': 3.783122224989952e+21, 'moment_8_mean': 2.9100940215317853e+20, 'moment_8_std': 1.0080861391526776e+21, 'moment_8_skewness': 3.1754264805429417, 'moment_8_kurtosis': 8.083333333333334, 'moment_9_min': -0.003809774485361034, 'moment_9_max': 2.9165517241472046e+24, 'moment_9_mean': 2.2435013264087524e+23, 'moment_9_std': 7.771716567844591e+23, 'moment_9_skewness': 3.175426480542942, 'moment_9_kurtosis': 8.083333333333336, 'moment_10_min': 7.936083809261955e-08, 'moment_10_max': 2.278520445393217e+27, 'moment_10_mean': 1.7527080349266694e+26, 'moment_10_std': 6.071558734621333e+26, 'moment_10_skewness': 3.1754264805429413, 'moment_10_kurtosis': 8.083333333333332, 'skewness_min': -0.27437413112216735, 'skewness_max': 1.4687188671767317, 'skewness_mean': 0.5671427856045672, 'skewness_std': 0.497779770331006, 'skewness_skewness': 0.34467182943535213, 'skewness_kurtosis': -0.6686330628348869, 'kurtosis_min': -1.2868929849310424, 'kurtosis_max': 3.1551308110756358, 'kurtosis_mean': 0.363019638828703, 'kurtosis_std': 1.2561880883228584, 'kurtosis_skewness': 0.878953886804101, 'kurtosis_kurtosis': -0.1768995896048522, 'correlation_min': -0.6395281781583257, 'correlation_max': 0.8062917681141021, 'correlation_mean': 0.055289602727671985, 'correlation_std': 0.32757160448632816, 'correlation_skewness': 0.17793019068106003, 'correlation_kurtosis': -0.46524139212260884, 'covariance_min': -138.36160973837193, 'covariance_max': 1535.1453488372094, 'covariance_mean': 22.002471763779806, 'covariance_std': 174.53228505821937, 'covariance_skewness': 8.351555366285481, 'covariance_kurtosis': 69.44753039733611, 'sparsity_min': 0.29457364341085274, 'sparsity_max': 0.8604651162790697, 'sparsity_mean': 0.6028622540250448, 'sparsity_std': 0.17525220123403912, 'sparsity_skewness': -0.48826473326932224, 'sparsity_kurtosis': -0.9875681104290357, 'anova_p_value_min': 4.9004132451197525e-275, 'anova_p_value_max': 0.655444246218103, 'anova_p_value_mean': 0.018257062872266874, 'anova_p_value_std': 0.09283231259189721, 'anova_p_value_skewness': 5.511233224268916, 'anova_p_value_kurtosis': 30.780225622586016, 'first_pca_std': 313.3210448678259, 'first_pca_skewness': 0.7054726848997749, 'first_pca_kurtosis': -1.4999999999999991, 'entropy_min': 0.02577850214174568, 'entropy_max': 0.03604768397857339, 'entropy_mean': 0.03202021912068321, 'entropy_std': 0.0032701083658942505, 'entropy_skewness': -0.8035534384001298, 'entropy_kurtosis': -0.7405386806979011, 'HBOS_mean_min': 0.0008532423208191126, 'HBOS_mean_max': 1.8867924528301885, 'HBOS_mean_mean': 0.40124987999831035, 'HBOS_mean_std': 0.482308437318716, 'HBOS_mean_skewness': 2.1498390862309495, 'HBOS_mean_kurtosis': 4.073859677743524, 'HBOS_max_min': 0.0021165700981559386, 'HBOS_max_max': 3.3640485593096354, 'HBOS_max_mean': 0.8309732216743776, 'HBOS_max_std': 0.8771938611422915, 'HBOS_max_skewness': 1.7653563935418917, 'HBOS_max_kurtosis': 2.596676597094728, 'HBOS_min_min': 0.0, 'HBOS_min_max': 0.7313149041977477, 'HBOS_min_mean': 0.08965076438196233, 'HBOS_min_std': 0.1948219484868936, 'HBOS_min_skewness': 2.717911481634532, 'HBOS_min_kurtosis': 6.093946936901373, 'IForest_n_leaves_min': 22.0, 'IForest_n_leaves_max': 88.0, 'IForest_n_leaves_mean': 53.17, 'IForest_n_leaves_std': 14.072707628597989, 'IForest_n_leaves_skewness': 0.16173241850717388, 'IForest_n_leaves_kurtosis': -0.4612646897383632, 'IForest_n_depth_min': 8.0, 'IForest_n_depth_max': 8.0, 'IForest_n_depth_mean': 8.0, 'IForest_n_depth_std': 0.0, 'IForest_n_depth_skewness': nan, 'IForest_n_depth_kurtosis': nan, 'IForest_fi_mean_min': 0.0769230769230769, 'IForest_fi_mean_max': 0.07692307692307696, 'IForest_fi_mean_mean': 0.07692307692307691, 'IForest_fi_mean_std': 1.6883057536160648e-17, 'IForest_fi_mean_skewness': nan, 'IForest_fi_mean_kurtosis': nan, 'IForest_fi_max_min': 0.13016531792548336, 'IForest_fi_max_max': 0.3142187329039377, 'IForest_fi_max_mean': 0.19782290827720478, 'IForest_fi_max_std': 0.04122812434668075, 'IForest_fi_max_skewness': 0.8922983798526525, 'IForest_fi_max_kurtosis': 0.573075447394165, 'pca_expl_ratio_1': 0.3375547926197576, 'pca_expl_ratio_2': 0.17452802447995824, 'pca_expl_ratio_3': 0.12845404303622232, 'pca_sv_1': 23.792422895185215, 'pca_sv_2': 17.107995120787532, 'pca_sv_3': 14.677105646950453, 'LODA_n_hists_mean_min': 0.04015503875969457, 'LODA_n_hists_mean_max': 0.14457364341084925, 'LODA_n_hists_mean_mean': 0.1, 'LODA_n_hists_mean_std': 0.031828970268551124, 'LODA_n_hists_mean_skewness': -0.6278618153579651, 'LODA_n_hists_mean_kurtosis': -0.7721920416480756, 'LODA_n_hists_max_min': 0.22480620155037795, 'LODA_n_hists_max_max': 0.3643410852712973, 'LODA_n_hists_max_mean': 0.3201550387596728, 'LODA_n_hists_max_std': 0.043445445795971996, 'LODA_n_hists_max_skewness': -1.024766686863126, 'LODA_n_hists_max_kurtosis': -0.1264545964014827, 'LODA_n_cuts_mean_min': 0.09999999999999998, 'LODA_n_cuts_mean_max': 0.10000000000000002, 'LODA_n_cuts_mean_mean': 0.09999999999999998, 'LODA_n_cuts_mean_std': 2.9667321830339976e-17, 'LODA_n_cuts_mean_skewness': nan, 'LODA_n_cuts_mean_kurtosis': nan, 'LODA_n_cuts_max_min': 0.16279069767441376, 'LODA_n_cuts_max_max': 0.3643410852712973, 'LODA_n_cuts_max_mean': 0.26031007751936747, 'LODA_n_cuts_max_std': 0.046565601758283066, 'LODA_n_cuts_max_skewness': 0.1766040278558633, 'LODA_n_cuts_max_kurtosis': -0.3409233527895168}\n"
     ]
    }
   ],
   "source": [
    "for i in range(meta_mat.shape[0]):\n",
    "    dict = {}\n",
    "    for j, meta_feature in enumerate(meta_vec_names):\n",
    "        dict[meta_feature] = meta_mat[i, j]\n",
    "    print(data_list[i].name, dict)"
   ]
  },
  {
   "cell_type": "code",
   "execution_count": 194,
   "metadata": {},
   "outputs": [
    {
     "name": "stdout",
     "output_type": "stream",
     "text": [
      "Num of NaN in metafeatures of dataset\n",
      "Annthyroid: 12\n",
      "Arrhythmia: 6\n",
      "Breastw: 12\n",
      "Glass: 11\n",
      "Ionosphere: 6\n",
      "Letter: 9\n",
      "Lympho: 8\n",
      "Mammography: 14\n",
      "Mnist: 8\n",
      "Musk: 10\n",
      "Optdigits: 8\n",
      "Pendigits: 9\n",
      "Pima: 11\n",
      "Satellite: 10\n",
      "Satimage-2: 10\n",
      "Shuttle: 12\n",
      "Speech: 6\n",
      "Thyroid: 14\n",
      "Vertebral: 8\n",
      "Vowels: 10\n",
      "Wbc: 11\n",
      "Wine: 6\n"
     ]
    }
   ],
   "source": [
    "print(f'Num of NaN in metafeatures of dataset')\n",
    "for i in range(meta_mat.shape[0]):\n",
    "    nan = np.isnan(meta_mat[i, :]).sum()\n",
    "    print(f'{data_list[i].name}: {nan}')"
   ]
  },
  {
   "cell_type": "code",
   "execution_count": 195,
   "metadata": {},
   "outputs": [
    {
     "name": "stderr",
     "output_type": "stream",
     "text": [
      "/Users/ifgrdo/anaconda3/envs/metaOD/lib/python3.11/site-packages/sklearn/preprocessing/_data.py:473: RuntimeWarning: All-NaN slice encountered\n",
      "  data_min = np.nanmin(X, axis=0)\n",
      "/Users/ifgrdo/anaconda3/envs/metaOD/lib/python3.11/site-packages/sklearn/preprocessing/_data.py:474: RuntimeWarning: All-NaN slice encountered\n",
      "  data_max = np.nanmax(X, axis=0)\n",
      "/Users/ifgrdo/anaconda3/envs/metaOD/lib/python3.11/site-packages/metaod/models/utility.py:19: RuntimeWarning: Mean of empty slice\n",
      "  col_mean = np.nanmean(X, axis = 0)\n"
     ]
    }
   ],
   "source": [
    "meta_scalar = MinMaxScaler()\n",
    "meta_mat_transformed = meta_scalar.fit_transform(meta_mat)\n",
    "meta_mat_transformed = fix_nan(meta_mat_transformed)"
   ]
  },
  {
   "cell_type": "code",
   "execution_count": 196,
   "metadata": {},
   "outputs": [
    {
     "name": "stdout",
     "output_type": "stream",
     "text": [
      "[0, 1, 2, 3, 4, 5, 6, 7, 8, 9, 10, 11, 12, 13, 14, 15, 16, 17, 18, 19, 20, 21]\n",
      "n_train: 18\n"
     ]
    }
   ],
   "source": [
    "seed = 0\n",
    "full_list = list(range(n_datasets))\n",
    "print(full_list)\n",
    "\n",
    "random.Random(seed).shuffle(full_list)\n",
    "n_train = int(0.85 * n_datasets)\n",
    "print('n_train:', n_train)"
   ]
  },
  {
   "cell_type": "code",
   "execution_count": 197,
   "metadata": {},
   "outputs": [
    {
     "name": "stdout",
     "output_type": "stream",
     "text": [
      "train_set:\n",
      " [[0.0172 0.016  0.018  ... 0.0206 0.0201 0.0201]\n",
      " [0.4221 0.5957 0.2277 ... 0.6497 0.601  0.601 ]\n",
      " [0.0886 0.0891 0.0924 ... 0.0877 0.087  0.087 ]\n",
      " ...\n",
      " [0.633  0.1624 0.2572 ... 0.2902 0.2589 0.2589]\n",
      " [0.4371 0.9198 0.0683 ... 0.1194 0.1216 0.1216]\n",
      " [0.0184 0.0191 0.0183 ... 0.0202 0.019  0.019 ]] \n",
      "valid_set:\n",
      " [[0.107  0.1589 0.1155 0.1336 0.1235 0.1393 0.3066 0.0996 0.0695 0.1788\n",
      "  0.2214 0.1316 0.0969 0.0723 0.1458 0.0664 0.135  0.1981 0.0681 0.1111\n",
      "  0.2371 0.1294 0.0706 0.2258 0.2243 0.14   0.6    0.1402 0.0901 0.1442\n",
      "  0.198  0.1841 0.1061 0.3955 0.1774 0.2721 0.1188 0.1118 0.074  0.0822\n",
      "  0.1894 0.1969 0.1015 0.2022 0.3189 0.2417 0.0836 0.1132 0.1087 0.1869\n",
      "  0.283  0.1787 0.2336 0.2625 0.1284 0.2655 0.351  0.1452 0.229  0.1552\n",
      "  0.2185 0.2748 0.2338 0.2081 0.1444 0.2902 0.1529 0.3558 0.2315 0.2712\n",
      "  0.2948 0.2588 0.1823 0.1495 0.1546 0.2182 0.2369 0.2726 0.3357 0.2247\n",
      "  0.1905 0.1839 0.2562 0.2564 0.1928 0.2693 0.1976 0.1858 0.2412 0.3209\n",
      "  0.2196 0.2858 0.1971 0.2748 0.2822 0.2429 0.1852 0.228  0.291  0.1535\n",
      "  0.2084 0.2797 0.2126 0.2918 0.2385 0.2566 0.2504 0.3171 0.2013 0.2232\n",
      "  0.2708 0.2547 0.2885 0.2634 0.2734 0.2255 0.2435 0.1969 0.2586 0.2254\n",
      "  0.2695 0.3252 0.2632 0.267  0.2671 0.2846 0.2333 0.272  0.2421 0.2454\n",
      "  0.2821 0.278  0.2622 0.2619 0.2635 0.3402 0.3402 0.3402 0.3908 0.3761\n",
      "  0.3746 0.4034 0.3926 0.3936 0.4081 0.3997 0.4007 0.41   0.4032 0.404\n",
      "  0.4109 0.4052 0.4073 0.4139 0.409  0.4113 0.4138 0.41   0.4117 0.4136\n",
      "  0.4106 0.4117 0.4133 0.4111 0.4129 0.4134 0.4114 0.4136 0.4135 0.4117\n",
      "  0.4139 0.1223 0.1168 0.1168 0.149  0.1548 0.1548 0.1845 0.1837 0.1837\n",
      "  0.2211 0.2154 0.2154 0.2508 0.25   0.25   0.2741 0.2668 0.2668 0.3305\n",
      "  0.3258 0.3258 0.3444 0.3343 0.3343 0.3558 0.3401 0.3401 0.3642 0.3448\n",
      "  0.3448 0.3727 0.3504 0.3504 0.3787 0.355  0.355 ]\n",
      " [0.1753 0.2161 0.2275 0.1992 0.2995 0.3095 0.2384 0.1833 0.2272 0.3001\n",
      "  0.2536 0.3828 0.2802 0.3004 0.3594 0.358  0.3691 0.4354 0.2487 0.4015\n",
      "  0.2949 0.3637 0.4344 0.4286 0.3958 0.3861 0.375  0.2499 0.3548 0.3863\n",
      "  0.3612 0.3452 0.391  0.4012 0.4013 0.4038 0.3556 0.387  0.3848 0.3719\n",
      "  0.4651 0.3722 0.3777 0.4325 0.4722 0.3342 0.4909 0.3586 0.3607 0.3735\n",
      "  0.3922 0.4039 0.4349 0.4152 0.4134 0.4105 0.3551 0.523  0.5027 0.438\n",
      "  0.3155 0.5178 0.421  0.4539 0.4447 0.4506 0.3993 0.4239 0.4211 0.3469\n",
      "  0.4123 0.4242 0.435  0.4652 0.3821 0.4361 0.4457 0.4323 0.4912 0.4122\n",
      "  0.4323 0.4723 0.4752 0.4454 0.4158 0.4048 0.494  0.4385 0.4885 0.433\n",
      "  0.5143 0.4741 0.4903 0.4439 0.4067 0.5166 0.4589 0.4637 0.4632 0.4539\n",
      "  0.4449 0.4372 0.4606 0.4967 0.4383 0.5043 0.4395 0.4413 0.4415 0.4702\n",
      "  0.4461 0.4596 0.4805 0.4628 0.436  0.4854 0.463  0.4885 0.4987 0.4867\n",
      "  0.5184 0.4759 0.4605 0.4601 0.4902 0.4676 0.4826 0.4819 0.4727 0.4759\n",
      "  0.4733 0.4664 0.4748 0.461  0.4917 0.3839 0.3839 0.3839 0.3824 0.3773\n",
      "  0.3814 0.3905 0.3849 0.3834 0.3917 0.3886 0.3885 0.3931 0.3894 0.3902\n",
      "  0.3949 0.3899 0.3906 0.3968 0.3924 0.3953 0.3979 0.3934 0.3961 0.3972\n",
      "  0.3944 0.3967 0.3986 0.3953 0.3963 0.3989 0.3958 0.3966 0.3992 0.3958\n",
      "  0.3968 0.2231 0.2496 0.2496 0.3022 0.2625 0.2625 0.3642 0.2901 0.2901\n",
      "  0.3925 0.3142 0.3142 0.4106 0.3299 0.3299 0.4226 0.3411 0.3411 0.4574\n",
      "  0.3675 0.3675 0.4634 0.3761 0.3761 0.4638 0.3798 0.3798 0.4617 0.3829\n",
      "  0.3829 0.4624 0.3849 0.3849 0.4635 0.3863 0.3863]\n",
      " [0.2217 0.3881 0.4546 0.4786 0.5827 0.3671 0.629  0.5332 0.5641 0.5525\n",
      "  0.6213 0.631  0.5757 0.5106 0.6097 0.5619 0.5882 0.587  0.5836 0.6623\n",
      "  0.6014 0.6169 0.6017 0.5758 0.6494 0.6445 0.6148 0.6177 0.5827 0.5221\n",
      "  0.6296 0.5404 0.6185 0.6362 0.6271 0.6654 0.5812 0.6489 0.6097 0.6696\n",
      "  0.6383 0.6511 0.6629 0.6699 0.6522 0.6854 0.631  0.6341 0.6991 0.6319\n",
      "  0.6674 0.6529 0.6372 0.6467 0.5433 0.5138 0.6203 0.6632 0.6736 0.4903\n",
      "  0.6693 0.6859 0.6317 0.5863 0.647  0.6769 0.676  0.5978 0.592  0.6431\n",
      "  0.6703 0.6735 0.679  0.6487 0.6569 0.6343 0.6615 0.682  0.6544 0.6747\n",
      "  0.66   0.6438 0.6587 0.6765 0.6539 0.6724 0.6782 0.6737 0.6332 0.6312\n",
      "  0.6859 0.6775 0.6434 0.6764 0.6678 0.6399 0.6555 0.6196 0.6355 0.6295\n",
      "  0.6698 0.6187 0.656  0.6465 0.678  0.6418 0.6119 0.701  0.676  0.6733\n",
      "  0.6701 0.6082 0.6416 0.6415 0.6515 0.6821 0.6745 0.6656 0.6637 0.6676\n",
      "  0.6624 0.6596 0.6576 0.6697 0.6779 0.6446 0.6616 0.6476 0.6786 0.6517\n",
      "  0.6901 0.6729 0.6879 0.6315 0.6674 0.4677 0.4677 0.4677 0.5274 0.5084\n",
      "  0.5118 0.552  0.5304 0.5317 0.5637 0.5434 0.5458 0.5706 0.5516 0.5534\n",
      "  0.576  0.5575 0.5602 0.5929 0.5746 0.5764 0.5982 0.5791 0.5807 0.6031\n",
      "  0.5828 0.5844 0.6082 0.5865 0.5875 0.6131 0.5898 0.5905 0.6177 0.5931\n",
      "  0.593  0.3081 0.3279 0.3279 0.3273 0.3355 0.3355 0.3505 0.3542 0.3542\n",
      "  0.3647 0.3688 0.3688 0.3738 0.3759 0.3759 0.3794 0.3804 0.3804 0.3921\n",
      "  0.3941 0.3941 0.3945 0.3949 0.3949 0.3965 0.3958 0.3958 0.3972 0.3965\n",
      "  0.3965 0.3975 0.3969 0.3969 0.3972 0.3975 0.3975]\n",
      " [0.5441 0.3636 0.4669 0.3354 0.3136 0.4715 0.5    0.4412 0.4686 0.4044\n",
      "  0.4416 0.3172 0.4547 0.3848 0.5048 0.4098 0.4148 0.3957 0.3909 0.518\n",
      "  0.5792 0.4624 0.4254 0.429  0.4271 0.4228 0.4546 0.4903 0.4536 0.4709\n",
      "  0.3904 0.4236 0.4418 0.4904 0.455  0.472  0.4803 0.3888 0.421  0.4192\n",
      "  0.4636 0.4498 0.4763 0.4589 0.4713 0.5152 0.4557 0.4645 0.4903 0.4408\n",
      "  0.4397 0.4705 0.4641 0.4497 0.4004 0.3983 0.4569 0.4575 0.4647 0.4587\n",
      "  0.4997 0.4635 0.5585 0.4315 0.4679 0.4937 0.4875 0.4415 0.5087 0.4339\n",
      "  0.5034 0.4949 0.519  0.4824 0.5243 0.4757 0.5071 0.5073 0.4828 0.5423\n",
      "  0.4952 0.4503 0.4364 0.4809 0.4499 0.4851 0.513  0.4662 0.5012 0.4959\n",
      "  0.4681 0.46   0.4628 0.5153 0.4712 0.4919 0.4846 0.5171 0.5009 0.4344\n",
      "  0.407  0.4825 0.4933 0.4973 0.4978 0.5117 0.4825 0.5048 0.4407 0.4661\n",
      "  0.4706 0.4994 0.5057 0.5    0.5125 0.4824 0.5139 0.4542 0.4638 0.4788\n",
      "  0.4847 0.506  0.4986 0.495  0.5016 0.5096 0.5241 0.4323 0.4674 0.505\n",
      "  0.5106 0.4993 0.512  0.5096 0.4995 0.5115 0.5115 0.5115 0.53   0.5321\n",
      "  0.5314 0.5163 0.525  0.5264 0.5191 0.5213 0.5195 0.5201 0.5212 0.5167\n",
      "  0.5203 0.5213 0.5178 0.5293 0.5237 0.5209 0.5282 0.5251 0.5221 0.5274\n",
      "  0.5252 0.5255 0.528  0.5255 0.5275 0.5277 0.5264 0.5278 0.5284 0.5264\n",
      "  0.5289 0.3661 0.3572 0.3572 0.4193 0.4063 0.4063 0.419  0.4058 0.4058\n",
      "  0.4239 0.4177 0.4177 0.4321 0.4177 0.4177 0.4383 0.4224 0.4224 0.4646\n",
      "  0.4514 0.4514 0.47   0.4598 0.4598 0.4757 0.4686 0.4686 0.482  0.4743\n",
      "  0.4743 0.4878 0.4829 0.4829 0.4926 0.4853 0.4853]]\n"
     ]
    }
   ],
   "source": [
    "train_index = full_list[:n_train]\n",
    "valid_index = full_list[n_train:]\n",
    "\n",
    "train_set = perf_mat_red[train_index, :].astype('float64')\n",
    "valid_set = perf_mat_red[valid_index, :].astype('float64')\n",
    "print('train_set:\\n', train_set, '\\nvalid_set:\\n', valid_set)\n",
    "\n",
    "train_meta = meta_mat_transformed[train_index, :].astype('float64')\n",
    "valid_meta = meta_mat_transformed[valid_index, :].astype('float64')\n",
    "\n",
    "#deal with NaN values\n",
    "train_meta[np.isnan(train_meta)] = 0\n",
    "valid_meta[np.isnan(valid_meta)] = 0"
   ]
  },
  {
   "cell_type": "code",
   "execution_count": 198,
   "metadata": {},
   "outputs": [
    {
     "name": "stdout",
     "output_type": "stream",
     "text": [
      "MetaOD 1 train 0.8827162031919586 valid 0.9463783391452918 learning rate 0.1\n"
     ]
    },
    {
     "name": "stderr",
     "output_type": "stream",
     "text": [
      "/Users/ifgrdo/anaconda3/envs/metaOD/lib/python3.11/site-packages/metaod/models/core.py:179: RuntimeWarning: divide by zero encountered in scalar divide\n",
      "  if ((self.valid_loss_[-1] - self.valid_loss_[-2]) /\n"
     ]
    },
    {
     "name": "stdout",
     "output_type": "stream",
     "text": [
      "MetaOD 2 train 0.9033055303309199 valid 0.9522634774064296 learning rate 0.2142857142857143\n",
      "MetaOD 3 train 0.9264223713938442 valid 0.9581081959851447 learning rate 0.3285714285714286\n",
      "MetaOD 4 train 0.9433329287505272 valid 0.959708867984202 learning rate 0.4428571428571429\n",
      "MetaOD 5 train 0.9545935097168914 valid 0.956777826610069 learning rate 0.5571428571428572\n",
      "MetaOD 6 train 0.9472664923333133 valid 0.9511932597453178 learning rate 0.6714285714285715\n",
      "MetaOD 7 train 0.9507412602451814 valid 0.9526417230555485 learning rate 0.7857142857142858\n",
      "MetaOD 8 train 0.95213541645326 valid 0.9520825640655636 learning rate 0.9\n",
      "MetaOD 9 train 0.9534469833981993 valid 0.9550003351817873 learning rate 0.9\n",
      "MetaOD 10 train 0.954447945442458 valid 0.9557921461717286 learning rate 0.7857142857142858\n",
      "MetaOD 11 train 0.9543879287768205 valid 0.9559778500017094 learning rate 0.6714285714285715\n",
      "MetaOD 12 train 0.9547827357468148 valid 0.9560358016832335 learning rate 0.5571428571428572\n",
      "MetaOD 13 train 0.9566500935233228 valid 0.955639548159781 learning rate 0.4428571428571429\n",
      "MetaOD 14 train 0.9574120701885567 valid 0.9546208116416401 learning rate 0.3285714285714286\n"
     ]
    },
    {
     "data": {
      "text/plain": [
       "<metaod.models.core.MetaODClass at 0x151477e50>"
      ]
     },
     "execution_count": 198,
     "metadata": {},
     "output_type": "execute_result"
    }
   ],
   "source": [
    "n_components = 15\n",
    "\n",
    "clf = MetaODClass(train_set, valid_performance=valid_set, n_factors=n_components, learning='sgd')\n",
    "clf.train(n_iter=50, meta_features=train_meta, valid_meta=valid_meta, learning_rate=0.05, max_rate=0.9, min_rate=0.1, discount=1, n_steps=8)"
   ]
  }
 ],
 "metadata": {
  "kernelspec": {
   "display_name": "metaOD",
   "language": "python",
   "name": "python3"
  },
  "language_info": {
   "codemirror_mode": {
    "name": "ipython",
    "version": 3
   },
   "file_extension": ".py",
   "mimetype": "text/x-python",
   "name": "python",
   "nbconvert_exporter": "python",
   "pygments_lexer": "ipython3",
   "version": "3.11.4"
  },
  "orig_nbformat": 4
 },
 "nbformat": 4,
 "nbformat_minor": 2
}
